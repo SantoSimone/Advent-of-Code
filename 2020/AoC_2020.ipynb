{
  "nbformat": 4,
  "nbformat_minor": 0,
  "metadata": {
    "colab": {
      "name": "AoC 2020",
      "provenance": [],
      "collapsed_sections": []
    },
    "kernelspec": {
      "name": "python3",
      "display_name": "Python 3"
    }
  },
  "cells": [
    {
      "cell_type": "code",
      "metadata": {
        "id": "BHPU0YAV_tR8"
      },
      "source": [
        "#@title Imports { form-width: \"20%\" }\n",
        "# Some imports that might be useful one day\n",
        "import numpy as np\n",
        "import urllib.request\n",
        "import re\n",
        "import collections\n",
        "import itertools\n",
        "import heapq\n",
        "\n",
        "def get_input(day):\n",
        "  return urllib.request.urlopen(f'https://raw.githubusercontent.com/SantoSimone'\n",
        "                                f'/Advent-of-Code/master/2020/input_files/input'\n",
        "                                f'{day}.txt').read().decode('utf-8')\n",
        "\n",
        "def get_input_as_lines(day):\n",
        "  return get_input(day).split('\\n')[:-1]\n",
        "\n",
        "def parse_ints(text):\n",
        "  return [int(x) for x in re.findall(r'\\d+', text)]"
      ],
      "execution_count": 1,
      "outputs": []
    },
    {
      "cell_type": "markdown",
      "metadata": {
        "id": "n2Sk9YuUYfOW"
      },
      "source": [
        "# Day 1"
      ]
    },
    {
      "cell_type": "code",
      "metadata": {
        "id": "-GTywVZRG9Hi"
      },
      "source": [
        "#@title Part 1 { form-width: \"20%\" }\n",
        "\n",
        "def d1p1():\n",
        "  expenses = parse_ints(get_input(day))\n",
        "  for val1, val2 in itertools.combinations(expenses, r=2):\n",
        "    if val1 + val2 == 2020: return val1, val2 \n",
        "\n",
        "# 'And so it begins' \n",
        "# (for non-nerds: this is a LOTR reference timing 2:46:41 enjoy!)\n",
        "day = 1\n",
        "val1, val2 = d1p1()\n",
        "print(f'The two entries that sum to 2020 are: {val1} and {val2}. Their product'\n",
        "      f' is {val1*val2}')"
      ],
      "execution_count": null,
      "outputs": []
    },
    {
      "cell_type": "code",
      "metadata": {
        "id": "hNE59c3MaNBP"
      },
      "source": [
        "#@title Part 2 { form-width: \"20%\" }\n",
        "\n",
        "def d1p2():\n",
        "  expenses = parse_ints(get_input(day))\n",
        "  for val1, val2, val3 in itertools.combinations(expenses, r=3):\n",
        "    if val1 + val2 + val3 == 2020: return val1, val2, val3\n",
        "\n",
        "val1, val2, val3 = d1p2()\n",
        "print(f'The three entries that sum to 2020 are: {val1}, {val2} and {val3}. '\n",
        "      f'Their product is {val1*val2*val3}')"
      ],
      "execution_count": null,
      "outputs": []
    },
    {
      "cell_type": "markdown",
      "metadata": {
        "id": "5gaDdFpwq_cL"
      },
      "source": [
        "# Day 2"
      ]
    },
    {
      "cell_type": "code",
      "metadata": {
        "id": "9u3RJesj8dX2"
      },
      "source": [
        "#@title Part 1 { form-width: \"20%\" }\n",
        "\n",
        "def d2p1(inputs):\n",
        "  def check_policy(line):\n",
        "    least, most, ch, pw = re.match(r'(\\d+)-(\\d+) (\\w): (\\w+)', line).groups()\n",
        "    return int(least) <= collections.Counter(pw)[ch] <= int(most)\n",
        "\n",
        "  return sum([check_policy(line) for line in inputs])\n",
        "  \n",
        "# It's day 2\n",
        "day = 2\n",
        "valid = d2p1(get_input_as_lines(day))\n",
        "print(f'# of valid passwords: {valid}')"
      ],
      "execution_count": null,
      "outputs": []
    },
    {
      "cell_type": "code",
      "metadata": {
        "id": "vPNJL_dAr5Ye"
      },
      "source": [
        "#@title Part 2 { form-width: \"20%\" }\n",
        "\n",
        "# Policy has changed, so we will change our policy func\n",
        "def d2p2(inputs):\n",
        "  def check_policy(line):\n",
        "    least, most, ch, pw = re.match(r'(\\d+)-(\\d+) (\\w): (\\w+)', line).groups()\n",
        "    return (pw[int(least) - 1] == ch) ^ (pw[int(most) - 1] == ch)\n",
        "\n",
        "  return sum([check_policy(line) for line in inputs])\n",
        "  \n",
        "\n",
        "valid = d2p2(get_input_as_lines(day))\n",
        "print(f'# of valid passwords: {valid}')"
      ],
      "execution_count": null,
      "outputs": []
    },
    {
      "cell_type": "markdown",
      "metadata": {
        "id": "Bk8bEE2oPcwN"
      },
      "source": [
        "# Day 3"
      ]
    },
    {
      "cell_type": "code",
      "metadata": {
        "id": "bGOiKBJHuEKH",
        "colab": {
          "base_uri": "https://localhost:8080/"
        },
        "outputId": "62203d51-71cc-4792-c1da-5e963152155a"
      },
      "source": [
        "#@title Part 1 { form-width: \"20%\" }\n",
        "\n",
        "def d3p1(lines, start, slope):\n",
        "    def generator(start, slope, width):\n",
        "        i = 0\n",
        "        while True:\n",
        "            yield start[0] + (slope[0] * i) % width, start[1] + slope[1] * i\n",
        "            i += 1\n",
        "\n",
        "    def create_map(lines):\n",
        "        return np.array([\n",
        "            [x == '#' for x in line]  # columns\n",
        "            for line in lines  # rows\n",
        "        ], dtype=np.int32)  # ones and zeros are always nice\n",
        "\n",
        "    tree_map = create_map(lines)\n",
        "    height, width = tree_map.shape\n",
        "    sum = 0\n",
        "    for c, r in generator(start, slope, width):\n",
        "        if r >= height: return sum\n",
        "        sum += tree_map[r, c]\n",
        "\n",
        "# It's day 3\n",
        "day = 3\n",
        "start = (0, 0)\n",
        "slope = (3, 1) \n",
        "trees = d3p1(get_input_as_lines(day), start, slope)\n",
        "print(f'# of trees with first policy: {trees}')"
      ],
      "execution_count": 19,
      "outputs": [
        {
          "output_type": "stream",
          "text": [
            "# of trees with first policy: 167\n"
          ],
          "name": "stdout"
        }
      ]
    },
    {
      "cell_type": "code",
      "metadata": {
        "colab": {
          "base_uri": "https://localhost:8080/"
        },
        "id": "ej4iPnSRRR6F",
        "outputId": "9edab84a-769e-4a14-b22e-48091274ea1c"
      },
      "source": [
        "#@title Part 2 { form-width: \"20%\" }\n",
        "\n",
        "# Not an hard request, we simply need to call previous func 5 times\n",
        "def d3p2(lines, start, slopes):\n",
        "  return np.prod([d3p1(lines, start, slope) for slope in slopes])\n",
        "  \n",
        "slopes = ((1, 1), (3, 1), (5, 1), (7, 1), (1, 2))\n",
        "trees = d3p2(get_input_as_lines(day), start, slopes)\n",
        "print(f'Multiplied values of trees encountered with 5 policies: {trees}')"
      ],
      "execution_count": 23,
      "outputs": [
        {
          "output_type": "stream",
          "text": [
            "Multiplied values of trees encountered with 5 policies: 736527114\n"
          ],
          "name": "stdout"
        }
      ]
    },
    {
      "cell_type": "code",
      "metadata": {
        "id": "vIkpnuJsRtF1"
      },
      "source": [
        ""
      ],
      "execution_count": null,
      "outputs": []
    }
  ]
}