{
  "nbformat": 4,
  "nbformat_minor": 0,
  "metadata": {
    "colab": {
      "name": "AoC 2020",
      "provenance": [],
      "collapsed_sections": []
    },
    "kernelspec": {
      "name": "python3",
      "display_name": "Python 3"
    }
  },
  "cells": [
    {
      "cell_type": "code",
      "metadata": {
        "id": "BHPU0YAV_tR8"
      },
      "source": [
        "#@title Imports { form-width: \"500px\" }\n",
        "# Some imports that might be useful one day\n",
        "import numpy as np\n",
        "import urllib.request\n",
        "import re\n",
        "import collections\n",
        "import itertools\n",
        "import heapq\n",
        "\n",
        "def get_input(day):\n",
        "  return urllib.request.urlopen(f'https://raw.githubusercontent.com/SantoSimone'\n",
        "                                f'/Advent-of-Code/master/2020/input_files/input'\n",
        "                                f'{day}.txt').read().decode('utf-8')\n",
        "\n",
        "def get_input_as_lines(day):\n",
        "  return get_input(day).split('\\n')[:-1]\n",
        "\n",
        "def parse_ints(text):\n",
        "  return [int(x) for x in re.findall(r'\\d+', text)]"
      ],
      "execution_count": 7,
      "outputs": []
    },
    {
      "cell_type": "markdown",
      "metadata": {
        "id": "n2Sk9YuUYfOW"
      },
      "source": [
        "# Day 1"
      ]
    },
    {
      "cell_type": "code",
      "metadata": {
        "id": "-GTywVZRG9Hi",
        "colab": {
          "base_uri": "https://localhost:8080/"
        },
        "outputId": "b1b75399-0595-4439-fe45-86592b6fd22c"
      },
      "source": [
        "#@title Part 1 { form-width: \"500px\" }\n",
        "\n",
        "def d1p1():\n",
        "  expenses = parse_ints(get_input(day))\n",
        "  for val1, val2 in itertools.combinations(expenses, r=2):\n",
        "    if val1 + val2 == 2020: return val1, val2 \n",
        "\n",
        "# 'And so it begins' \n",
        "# (for non-nerds: this is a LOTR reference timing 2:46:41 enjoy!)\n",
        "day = 1\n",
        "val1, val2 = d1p1()\n",
        "print(f'The two entries that sum to 2020 are: {val1} and {val2}. Their product'\n",
        "      f' is {val1*val2}')"
      ],
      "execution_count": 10,
      "outputs": [
        {
          "output_type": "stream",
          "text": [
            "The two entries that sum to 2020 are: 1204 and 816. Their product is 982464\n"
          ],
          "name": "stdout"
        }
      ]
    },
    {
      "cell_type": "code",
      "metadata": {
        "colab": {
          "base_uri": "https://localhost:8080/"
        },
        "id": "hNE59c3MaNBP",
        "outputId": "64bcbe2b-3e72-43dc-f4bc-6dd07cf7fbdd"
      },
      "source": [
        "#@title Part 2 { form-width: \"500px\" }\n",
        "\n",
        "def d1p2():\n",
        "  expenses = parse_ints(get_input(day))\n",
        "  for val1, val2, val3 in itertools.combinations(expenses, r=3):\n",
        "    if val1 + val2 + val3 == 2020: return val1, val2, val3\n",
        "\n",
        "val1, val2, val3 = d1p2()\n",
        "print(f'The three entries that sum to 2020 are: {val1}, {val2} and {val3}. '\n",
        "      f'Their product is {val1*val2*val3}')"
      ],
      "execution_count": 12,
      "outputs": [
        {
          "output_type": "stream",
          "text": [
            "The three entries that sum to 2020 are: 490, 261 and 1269. Their product is 162292410\n"
          ],
          "name": "stdout"
        }
      ]
    }
  ]
}