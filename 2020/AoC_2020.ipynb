{
  "nbformat": 4,
  "nbformat_minor": 0,
  "metadata": {
    "colab": {
      "name": "AoC 2020",
      "provenance": [],
      "collapsed_sections": []
    },
    "kernelspec": {
      "name": "python3",
      "display_name": "Python 3"
    }
  },
  "cells": [
    {
      "cell_type": "code",
      "metadata": {
        "id": "BHPU0YAV_tR8",
        "cellView": "form"
      },
      "source": [
        "#@title Imports { form-width: \"20%\" }\n",
        "# Some imports that might be useful one day\n",
        "!pip install recordtype\n",
        "from recordtype import recordtype\n",
        "import numpy as np\n",
        "import urllib.request\n",
        "import re\n",
        "import collections\n",
        "import itertools\n",
        "import heapq\n",
        "import functools\n",
        "\n",
        "def get_input(day):\n",
        "  return urllib.request.urlopen(f'https://raw.githubusercontent.com/SantoSimone'\n",
        "                                f'/Advent-of-Code/master/2020/input_files/input'\n",
        "                                f'{day}.txt').read().decode('utf-8')\n",
        "\n",
        "def get_input_as_lines(day):\n",
        "  return get_input(day).split('\\n')[:-1]\n",
        "\n",
        "def parse_ints(text):\n",
        "  return [int(x) for x in re.findall(r'\\d+', text)]"
      ],
      "execution_count": null,
      "outputs": []
    },
    {
      "cell_type": "markdown",
      "metadata": {
        "id": "n2Sk9YuUYfOW"
      },
      "source": [
        "# Day 1"
      ]
    },
    {
      "cell_type": "code",
      "metadata": {
        "id": "-GTywVZRG9Hi",
        "cellView": "form"
      },
      "source": [
        "#@title Part 1 { form-width: \"20%\" }\n",
        "\n",
        "def d1p1():\n",
        "  expenses = parse_ints(get_input(day))\n",
        "  for val1, val2 in itertools.combinations(expenses, r=2):\n",
        "    if val1 + val2 == 2020: return val1, val2 \n",
        "\n",
        "# 'And so it begins' \n",
        "# (for non-nerds: this is a LOTR reference timing 2:46:41 enjoy!)\n",
        "day = 1\n",
        "val1, val2 = d1p1()\n",
        "print(f'The two entries that sum to 2020 are: {val1} and {val2}. Their product'\n",
        "      f' is {val1*val2}')"
      ],
      "execution_count": null,
      "outputs": []
    },
    {
      "cell_type": "code",
      "metadata": {
        "id": "hNE59c3MaNBP",
        "cellView": "form"
      },
      "source": [
        "#@title Part 2 { form-width: \"20%\" }\n",
        "\n",
        "def d1p2():\n",
        "  expenses = parse_ints(get_input(day))\n",
        "  for val1, val2, val3 in itertools.combinations(expenses, r=3):\n",
        "    if val1 + val2 + val3 == 2020: return val1, val2, val3\n",
        "\n",
        "val1, val2, val3 = d1p2()\n",
        "print(f'The three entries that sum to 2020 are: {val1}, {val2} and {val3}. '\n",
        "      f'Their product is {val1*val2*val3}')"
      ],
      "execution_count": null,
      "outputs": []
    },
    {
      "cell_type": "markdown",
      "metadata": {
        "id": "5gaDdFpwq_cL"
      },
      "source": [
        "# Day 2"
      ]
    },
    {
      "cell_type": "code",
      "metadata": {
        "id": "9u3RJesj8dX2",
        "cellView": "form"
      },
      "source": [
        "#@title Part 1 { form-width: \"20%\" }\n",
        "\n",
        "def d2p1(inputs):\n",
        "  def check_policy(line):\n",
        "    least, most, ch, pw = re.match(r'(\\d+)-(\\d+) (\\w): (\\w+)', line).groups()\n",
        "    return int(least) <= collections.Counter(pw)[ch] <= int(most)\n",
        "\n",
        "  return sum([check_policy(line) for line in inputs])\n",
        "  \n",
        "# It's day 2\n",
        "day = 2\n",
        "valid = d2p1(get_input_as_lines(day))\n",
        "print(f'# of valid passwords: {valid}')"
      ],
      "execution_count": null,
      "outputs": []
    },
    {
      "cell_type": "code",
      "metadata": {
        "id": "vPNJL_dAr5Ye",
        "cellView": "form"
      },
      "source": [
        "#@title Part 2 { form-width: \"20%\" }\n",
        "\n",
        "# Policy has changed, so we will change our policy func\n",
        "def d2p2(inputs):\n",
        "  def check_policy(line):\n",
        "    least, most, ch, pw = re.match(r'(\\d+)-(\\d+) (\\w): (\\w+)', line).groups()\n",
        "    return (pw[int(least) - 1] == ch) ^ (pw[int(most) - 1] == ch)\n",
        "\n",
        "  return sum([check_policy(line) for line in inputs])\n",
        "  \n",
        "\n",
        "valid = d2p2(get_input_as_lines(day))\n",
        "print(f'# of valid passwords: {valid}')"
      ],
      "execution_count": null,
      "outputs": []
    },
    {
      "cell_type": "markdown",
      "metadata": {
        "id": "Bk8bEE2oPcwN"
      },
      "source": [
        "# Day 3"
      ]
    },
    {
      "cell_type": "code",
      "metadata": {
        "id": "bGOiKBJHuEKH",
        "cellView": "form"
      },
      "source": [
        "#@title Part 1 { form-width: \"20%\" }\n",
        "\n",
        "def d3p1(lines, start, slope):\n",
        "    def generator(start, slope, width):\n",
        "        i = 0\n",
        "        while True:\n",
        "            yield start[0] + (slope[0] * i) % width, start[1] + slope[1] * i\n",
        "            i += 1\n",
        "\n",
        "    def create_map(lines):\n",
        "        return np.array([\n",
        "            [x == '#' for x in line]  # columns\n",
        "            for line in lines  # rows\n",
        "        ], dtype=np.int32)  # ones and zeros are always nice\n",
        "\n",
        "    tree_map = create_map(lines)\n",
        "    height, width = tree_map.shape\n",
        "    sum = 0\n",
        "    for c, r in generator(start, slope, width):\n",
        "        if r >= height: return sum\n",
        "        sum += tree_map[r, c]\n",
        "\n",
        "# It's day 3\n",
        "day = 3\n",
        "start = (0, 0)\n",
        "slope = (3, 1) \n",
        "trees = d3p1(get_input_as_lines(day), start, slope)\n",
        "print(f'# of trees with first policy: {trees}')"
      ],
      "execution_count": null,
      "outputs": []
    },
    {
      "cell_type": "code",
      "metadata": {
        "id": "ej4iPnSRRR6F",
        "cellView": "form"
      },
      "source": [
        "#@title Part 2 { form-width: \"20%\" }\n",
        "\n",
        "# Not an hard request, we simply need to call previous func 5 times\n",
        "def d3p2(lines, start, slopes):\n",
        "  return np.prod([d3p1(lines, start, slope) for slope in slopes])\n",
        "  \n",
        "slopes = ((1, 1), (3, 1), (5, 1), (7, 1), (1, 2))\n",
        "trees = d3p2(get_input_as_lines(day), start, slopes)\n",
        "print(f'Multiplied values of trees encountered with 5 policies: {trees}')"
      ],
      "execution_count": null,
      "outputs": []
    },
    {
      "cell_type": "markdown",
      "metadata": {
        "id": "HrB990PaeC7Y"
      },
      "source": [
        "# Day 4"
      ]
    },
    {
      "cell_type": "code",
      "metadata": {
        "id": "vIkpnuJsRtF1",
        "cellView": "form"
      },
      "source": [
        "#@title Part 1 { form-width: \"20%\" }\n",
        "def parse_input(lines):\n",
        "    ret = []\n",
        "    passport = {}\n",
        "    for line in lines:\n",
        "        if line == '':\n",
        "            ret.append(passport)\n",
        "            passport = {}\n",
        "            continue\n",
        "        parts = line.split()\n",
        "        for p in parts:\n",
        "            k, v = p.split(':')\n",
        "            passport[k] = v\n",
        "    ret.append(passport)\n",
        "\n",
        "    return ret\n",
        "\n",
        "def check_passport(passport, required_fields):\n",
        "  return all(field in passport for field in required_fields)\n",
        "\n",
        "def d4p1(lines):\n",
        "  passports = parse_input(lines)\n",
        "  return np.sum([check_passport(passport, required_fields) \n",
        "                   for passport in passports])\n",
        "\n",
        "# It's day 4\n",
        "day = 4\n",
        "lines = get_input_as_lines(day)\n",
        "required_fields = ['byr', 'iyr', 'eyr', 'hgt', 'hcl', 'ecl', 'pid']\n",
        "optional_fields = ['cid']\n",
        "s = d4p1(lines)\n",
        "print(f'Valid passports: {s}')"
      ],
      "execution_count": null,
      "outputs": []
    },
    {
      "cell_type": "code",
      "metadata": {
        "id": "hzu1mxOHeTOO",
        "cellView": "form"
      },
      "source": [
        "#@title Part 2 { form-width: \"20%\" }\n",
        "\n",
        "# Now we want also data validation\n",
        "def data_validation(passport):\n",
        "  valid = True\n",
        "  try:\n",
        "      num, unit = re.match(r'(\\d+)(\\w+)', passport['hgt']).groups()\n",
        "      if unit == 'cm':\n",
        "          valid = (valid and (150 <= int(num) <= 193))\n",
        "      elif unit == 'in':\n",
        "          valid = (valid and (59 <= int(num) <= 76))\n",
        "      else:\n",
        "          return False\n",
        "\n",
        "      return valid and (1920 <= int(passport['byr']) <= 2002) \\\n",
        "              and (2010 <= int(passport['iyr']) <= 2020) \\\n",
        "              and (2020 <= int(passport['eyr']) <= 2030) \\\n",
        "              and passport['hcl'][0] == '#' and len(passport['hcl']) == 7 \\\n",
        "              and all('0' <= c <= '9' or 'a' <= c <= 'f' for c in passport['hcl'][1:]) \\\n",
        "              and passport['ecl'] in ['amb', 'blu', 'brn', 'gry', 'grn', 'hzl', 'oth'] \\\n",
        "              and int(passport['pid']) and len(passport['pid']) == 9\n",
        "  except:\n",
        "      return False\n",
        "\n",
        "def d4p2(lines):\n",
        "  passports = parse_input(lines)\n",
        "  return np.sum([check_passport(passport, required_fields)\n",
        "                 and data_validation(passport)\n",
        "                 for passport in passports])\n",
        "  \n",
        "\n",
        "s = d4p2(lines)\n",
        "print(f'Valid passports with valid data: {s}')"
      ],
      "execution_count": null,
      "outputs": []
    },
    {
      "cell_type": "markdown",
      "metadata": {
        "id": "mCGwoGIUoAUW"
      },
      "source": [
        "# Day 5"
      ]
    },
    {
      "cell_type": "code",
      "metadata": {
        "id": "S5N076yVfa-3",
        "cellView": "form"
      },
      "source": [
        "#@title Part 1 { form-width: \"20%\" }\n",
        "\n",
        "def binary_space(line, upper_char, lower_char):\n",
        "  return int(line.replace(upper_char, '1').replace(lower_char, '0'), base=2)\n",
        "\n",
        "def d5p1(lines):\n",
        "  return [binary_space(seat[:7], 'B', 'F') * 8 \n",
        "          + binary_space(seat[7:], 'R', 'L')\n",
        "          for seat in lines]\n",
        "\n",
        "# It's day 5\n",
        "day = 5\n",
        "lines = get_input_as_lines(day)\n",
        "highest = max(d5p1(lines))\n",
        "print(f'Highest seat ID: {highest}')"
      ],
      "execution_count": null,
      "outputs": []
    },
    {
      "cell_type": "code",
      "metadata": {
        "id": "p4VJ5c-Wqxn_",
        "cellView": "form"
      },
      "source": [
        "#@title Part 2 { form-width: \"20%\" }\n",
        "\n",
        "def check_pre_post(id, ids):\n",
        "  return id if id + 1 in ids and id - 1 in ids and id not in ids else False\n",
        "\n",
        "def d5p2(lines):\n",
        "  ids = d5p1(lines)\n",
        "  return np.sum([check_pre_post(id, ids) for id in range(min(ids), max(ids))])\n",
        "\n",
        "my_id = d5p2(lines)\n",
        "print(f'My ID is: {my_id}')"
      ],
      "execution_count": null,
      "outputs": []
    },
    {
      "cell_type": "markdown",
      "metadata": {
        "id": "c998TfVaqsy_"
      },
      "source": [
        "# Day 6"
      ]
    },
    {
      "cell_type": "code",
      "metadata": {
        "id": "-HyK6Zrfx7y8",
        "cellView": "form"
      },
      "source": [
        "#@title Part 1 { form-width: \"20%\" }\n",
        "\n",
        "def parse_input(lines):\n",
        "    return [\n",
        "            list(g) \n",
        "            for k, g in itertools.groupby(lines, lambda x: x != '') if k\n",
        "           ]\n",
        "\n",
        "def d6p1(lines):\n",
        "    groups = parse_input(lines)\n",
        "    return sum([\n",
        "        len(set(''.join(group))) for group in groups\n",
        "    ])\n",
        "\n",
        "# It's day 5\n",
        "day = 6\n",
        "lines = get_input_as_lines(day)\n",
        "s = d6p1(lines)\n",
        "print(f'Number of total questions: {s}')"
      ],
      "execution_count": null,
      "outputs": []
    },
    {
      "cell_type": "code",
      "metadata": {
        "id": "XvRHXllcrPHI",
        "cellView": "form"
      },
      "source": [
        "#@title Part 2 { form-width: \"20%\" }\n",
        "\n",
        "def d6p2(lines):\n",
        "    groups = parse_input(lines)\n",
        "    all_questions = [set(''.join(group)) for group in groups]\n",
        "    return sum(\n",
        "        [\n",
        "            all(x in g for g in groups[i])\n",
        "            for i, group_set in enumerate(all_questions)\n",
        "            for x in group_set\n",
        "        ]\n",
        "    )\n",
        "\n",
        "s = d6p2(lines)\n",
        "print(f'Number of total questions: {s}')"
      ],
      "execution_count": null,
      "outputs": []
    },
    {
      "cell_type": "markdown",
      "metadata": {
        "id": "wzHjZ0eMT_8a"
      },
      "source": [
        "# Day 7"
      ]
    },
    {
      "cell_type": "code",
      "metadata": {
        "id": "FjkmMYsBuzZ4",
        "cellView": "form"
      },
      "source": [
        "#@title Part 1 { form-width: \"20%\" }\n",
        "\n",
        "def parse_line(line):\n",
        "  parts = re.split('bag', line)\n",
        "  stuff = {\n",
        "      key.strip(): int(value)\n",
        "      for p in parts[1:]\n",
        "      for value, key in re.findall(r'(\\d+) ([a-z ]+)', p)\n",
        "  }\n",
        "  return {parts[0].strip(): stuff}\n",
        "\n",
        "def parse_input(lines):\n",
        "  bags = {}\n",
        "  for line in lines:\n",
        "      bags.update(parse_line(line))\n",
        "  return bags\n",
        "\n",
        "def rec_contains(bags, bag, bag_to_place):\n",
        "  return bag_to_place == bag \\\n",
        "          or any(rec_contains(bags, inside_bag, bag_to_place) \n",
        "                 for inside_bag in bags[bag])\n",
        "\n",
        "def d7p1(lines, bag_to_place):\n",
        "  bags = parse_input(lines)\n",
        "  return [rec_contains(bags, bag, bag_to_place) for bag in bags]\n",
        "\n",
        "# It's day 7\n",
        "day = 7\n",
        "lines = get_input_as_lines(day)\n",
        "# We sub 1 because shiny gold is counted in our algorithm\n",
        "s = sum(d7p1(lines, 'shiny gold')) - 1\n",
        "print(f'Shiny gold bag is contained in : {s}')"
      ],
      "execution_count": null,
      "outputs": []
    },
    {
      "cell_type": "code",
      "metadata": {
        "id": "sus8VghjUSCh",
        "cellView": "form"
      },
      "source": [
        "#@title Part 2 { form-width: \"20%\" }\n",
        "\n",
        "def count_bags_inside(bags, outer_bag):\n",
        "  # When we reach an empty bag we count 1 and we always add 1 to the count \n",
        "  # of inner bags cause we also count current outer bag\n",
        "  return 1 + sum([num * count_bags_inside(bags, inner) \n",
        "                  for inner, num in bags[outer_bag].items()])\n",
        "\n",
        "\n",
        "def d7p2(lines, bag_to_place):\n",
        "  return count_bags_inside(parse_input(lines), bag_to_place)\n",
        "\n",
        "# We sub 1 because shiny gold is counted in our algorithm\n",
        "s = d7p2(lines, 'shiny gold') - 1\n",
        "print(f'Shiny gold contains {s} bags')"
      ],
      "execution_count": null,
      "outputs": []
    },
    {
      "cell_type": "markdown",
      "metadata": {
        "id": "PPt64lVufcP6"
      },
      "source": [
        "# Day 8"
      ]
    },
    {
      "cell_type": "code",
      "metadata": {
        "id": "YsA4lOlqaunK",
        "cellView": "form"
      },
      "source": [
        "#@title Part 1 { form-width: \"20%\" }\n",
        "\n",
        "Instruction = collections.namedtuple('Instruction', ['code', 'value'])\n",
        "\n",
        "def parse_instructions(lines):\n",
        "  return [\n",
        "          Instruction(code=inst, value=int(value)) \n",
        "          for inst, value in [line.split() for line in lines]\n",
        "          ]\n",
        "\n",
        "def execute(inst, idx, acc):\n",
        "  if inst.code == 'acc': return idx + 1, acc + inst.value\n",
        "  elif inst.code == 'jmp': return idx + inst.value, acc\n",
        "  elif inst.code == 'nop': return idx + 1, acc\n",
        "\n",
        "def d8p1(instructions):\n",
        "  i, accumulator, done = 0, 0, set()\n",
        "  while i not in done:\n",
        "    done = done.union({i})\n",
        "    i, accumulator = execute(instructions[i], i, accumulator)\n",
        "\n",
        "  return accumulator\n",
        "\n",
        "# It's day 8\n",
        "day = 8\n",
        "instructions = parse_instructions(get_input_as_lines(day))\n",
        "acc = d8p1(instructions)\n",
        "print(f'Right before repeating an instruction the accumulator is: {acc}')"
      ],
      "execution_count": null,
      "outputs": []
    },
    {
      "cell_type": "code",
      "metadata": {
        "id": "VEpRgB0zfdkx",
        "cellView": "form"
      },
      "source": [
        "#@title Part 2 { form-width: \"20%\" }\n",
        "\n",
        "def changed_instructions(instructions):\n",
        "  changes = {'nop': 'jmp', 'jmp': 'nop'}\n",
        "  for i, inst in enumerate(instructions):\n",
        "    if inst.code in changes.keys():\n",
        "      yield instructions[:i] \\\n",
        "            + [Instruction(code=changes[inst.code], value=inst.value)] \\\n",
        "            + instructions[i+1:] \n",
        "\n",
        "def d8p2(instructions):\n",
        "  for changed in changed_instructions(instructions):\n",
        "      i, accumulator, done = 0, 0, set()\n",
        "      while i <= len(changed) - 1 and i not in done:\n",
        "          done = done.union({i})\n",
        "          i, accumulator = execute(changed[i], i, accumulator)\n",
        "      if i >= len(changed): return accumulator\n",
        "\n",
        "instructions = parse_instructions(get_input_as_lines(day))\n",
        "acc = d8p2(instructions)\n",
        "print(f'Changing one single operation the program terminates with: {acc}')"
      ],
      "execution_count": null,
      "outputs": []
    },
    {
      "cell_type": "markdown",
      "metadata": {
        "id": "7bL9SBQ44cC8"
      },
      "source": [
        "# Day 9"
      ]
    },
    {
      "cell_type": "code",
      "metadata": {
        "id": "38SxKV9Mi4tB",
        "cellView": "form"
      },
      "source": [
        "#@title Part 1 { form-width: \"20%\" }\r\n",
        "\r\n",
        "def valid(next, previous):\r\n",
        "  prev_set = set(previous)\r\n",
        "  if next not in map(lambda x: x[0] + x[1], itertools.combinations(prev_set, 2)):\r\n",
        "    return False\r\n",
        "  return True\r\n",
        "\r\n",
        "def d9p1(nums, preamble):\r\n",
        "    for i, num in enumerate(nums[preamble:]):\r\n",
        "        if not valid(num, nums[i:i+preamble]): return num\r\n",
        "    return -np.inf\r\n",
        "\r\n",
        "# It's day 9\r\n",
        "day = 9\r\n",
        "nums = parse_ints(get_input(day))\r\n",
        "invalid = d9p1(nums, 25)\r\n",
        "print(f'First number that does not respect the policy is: {invalid}')"
      ],
      "execution_count": null,
      "outputs": []
    },
    {
      "cell_type": "code",
      "metadata": {
        "id": "ZdVs3LHE-BHu",
        "cellView": "form"
      },
      "source": [
        "#@title Part 2 { form-width: \"20%\" }\r\n",
        "\r\n",
        "def d9p2(nums, preamble):\r\n",
        "  invalid = d9p1(nums, preamble)\r\n",
        "  start, end, partial = 0, 0, 0\r\n",
        "  while partial != invalid:\r\n",
        "      if partial > invalid:\r\n",
        "          partial -= nums[start]\r\n",
        "          start += 1\r\n",
        "          continue\r\n",
        "      else:\r\n",
        "          partial += nums[end]\r\n",
        "      end += 1\r\n",
        "  return min(nums[start:end]) + max(nums[start:end])\r\n",
        "\r\n",
        "weakness = d9p2(nums, 25)\r\n",
        "print(f'The encryption weakness is: {weakness}')"
      ],
      "execution_count": null,
      "outputs": []
    },
    {
      "cell_type": "markdown",
      "metadata": {
        "id": "zI_kllwsxAHi"
      },
      "source": [
        "# Day 10"
      ]
    },
    {
      "cell_type": "code",
      "metadata": {
        "id": "4JN2350G-9js",
        "cellView": "form"
      },
      "source": [
        "#@title Part 1 { form-width: \"20%\" }\r\n",
        "\r\n",
        "def jolt_diff(low, high, condition):\r\n",
        "  return 1 if (high - low) == condition else 0\r\n",
        "\r\n",
        "def d10p1(adapters):\r\n",
        "  sorted_adapters = sorted(adapters)\r\n",
        "  subsequent = [(0, sorted_adapters[0])]  # first connection\r\n",
        "  subsequent += [\r\n",
        "                 (sorted_adapters[i], sorted_adapters[i + 1])\r\n",
        "                 for i, _ in enumerate(sorted_adapters[:-1])\r\n",
        "                ]\r\n",
        "  ones = sum(map(lambda x: jolt_diff(x[0], x[1], 1), subsequent))\r\n",
        "  threes = sum(map(lambda x: jolt_diff(x[0], x[1], 3), subsequent)) + 1\r\n",
        "  return ones * threes\r\n",
        "\r\n",
        "# It's day 10\r\n",
        "day = 10\r\n",
        "adapters = parse_ints(get_input(day))\r\n",
        "ret = d10p1(adapters)\r\n",
        "print(f'Multiplication of 1-jolts by 3-jolts is: {ret}')"
      ],
      "execution_count": null,
      "outputs": []
    },
    {
      "cell_type": "code",
      "metadata": {
        "id": "-s1xeL2W1-tk",
        "cellView": "form"
      },
      "source": [
        "#@title Part 2 { form-width: \"20%\" }\r\n",
        "# This was a though one: did not understand the stack of calls could be so\r\n",
        "# overwhelming in a brute-force approach..\r\n",
        "# Had to switch from a for-loop (A* search) to recursion (lru_cache friendly) \r\n",
        "\r\n",
        "State = collections.namedtuple('State', 'jolts, adapters')\r\n",
        "\r\n",
        "def d10p2(adapters):\r\n",
        "    # Add last connection\r\n",
        "    adapters = sorted(adapters)\r\n",
        "    goal = max(adapters) + 3  # final connection is built-in adapter\r\n",
        "    adapters.append(goal)\r\n",
        "    return recursive_search(State(0, frozenset(adapters)), goal)\r\n",
        "\r\n",
        "\r\n",
        "@functools.lru_cache(maxsize=500)\r\n",
        "def recursive_search(curr, goal):\r\n",
        "    if curr.jolts == goal: return 1\r\n",
        "    possible_nexts = possible_connections(curr)\r\n",
        "    if not possible_nexts: return 0\r\n",
        "    return sum([\r\n",
        "        recursive_search(next_adap, goal) for next_adap in possible_nexts\r\n",
        "    ])\r\n",
        "\r\n",
        "\r\n",
        "def possible_connections(state):\r\n",
        "    possibles = filter(lambda x: state.jolts < x <= state.jolts + 3, state.adapters)\r\n",
        "    return [State(adap, state.adapters.difference({a for a in state.adapters if a <= adap})) for adap in possibles]\r\n",
        "\r\n",
        "adapters = parse_ints(get_input(day))\r\n",
        "ret = d10p2(adapters)\r\n",
        "print(f'Number of possible configurations is: {ret}')"
      ],
      "execution_count": null,
      "outputs": []
    },
    {
      "cell_type": "markdown",
      "metadata": {
        "id": "amqDxG7udrWX"
      },
      "source": [
        "# Day 11"
      ]
    },
    {
      "cell_type": "code",
      "metadata": {
        "id": "lvUDplCEdtX2",
        "cellView": "form"
      },
      "source": [
        "#@title Part 1 { form-width: \"20%\" }\r\n",
        "\r\n",
        "def create_seats_map(lines):\r\n",
        "  # Seats will be: -1 floor, 0 empty, 1 occupied\r\n",
        "  seats = [line.replace('.', '0').replace('L', '1') for line in lines]\r\n",
        "  seats = [[int(s) for s in line] for line in seats]\r\n",
        "  seats = np.array(seats) - 1\r\n",
        "  return seats\r\n",
        "\r\n",
        "def num_adjacent_occupied(seats, r, c):\r\n",
        "  rows = [max(0, r - 1), r, min(r + 1, seats.shape[0] - 1)]\r\n",
        "  cols = [max(0, c - 1), c, min(c + 1, seats.shape[1] - 1)]\r\n",
        "  adjacent = set(itertools.product(rows, cols))\r\n",
        "  # We do not count our seat, so we remove it from combinations\r\n",
        "  adjacent.remove((r,c))\r\n",
        "  return sum([1 for row, col in adjacent if seats[row, col] == 1])\r\n",
        "\r\n",
        "def round_seat(seats, max_adjacent):\r\n",
        "  def evaluate_single(seat, r, c):\r\n",
        "    if seat == -1: return -1\r\n",
        "    num_adjacent = num_adjacent_occupied(seats, r, c)\r\n",
        "    \r\n",
        "    # Empty and no occupied adjacent -> occupied\r\n",
        "    if seat == 0 and num_adjacent == 0: return 1\r\n",
        "    elif seat == 0: return 0\r\n",
        "    \r\n",
        "    # Occupied and `max_adjacent` or more adjacent occupied -> empty\r\n",
        "    if seat == 1 and num_adjacent >= max_adjacent: return 0\r\n",
        "    else: return 1\r\n",
        "\r\n",
        "  new_seats = np.array(\r\n",
        "      [evaluate_single(s, r, c)\r\n",
        "       for (r, c), s in np.ndenumerate(seats)\r\n",
        "      ]\r\n",
        "  )\r\n",
        "  # Above operation outputs the flattened matrix, so we reshape\r\n",
        "  return np.reshape(new_seats, (seats.shape[0], seats.shape[1]))\r\n",
        "\r\n",
        "\r\n",
        "def d11p1(lines, max_adjacent):\r\n",
        "  last_seats = create_seats_map(lines)\r\n",
        "  while True:\r\n",
        "    new_seats = round_seat(last_seats, max_adjacent)\r\n",
        "    if all((new_seats == last_seats).reshape(-1)):\r\n",
        "      return sum(new_seats[new_seats > 0])\r\n",
        "    last_seats = new_seats[:, :]\r\n",
        "\r\n",
        "# It's day 11\r\n",
        "day = 11\r\n",
        "lines = get_input_as_lines(day)\r\n",
        "ret = d11p1(lines, 4)\r\n",
        "print(f'Final number of occupied seats is: {ret}')"
      ],
      "execution_count": null,
      "outputs": []
    },
    {
      "cell_type": "code",
      "metadata": {
        "cellView": "form",
        "id": "cMVrK_KagDLP"
      },
      "source": [
        "#@title Part 2 { form-width: \"20%\" }\r\n",
        "\r\n",
        "# We only need to change the policies\r\n",
        "def num_adjacent_occupied(seats, r, c):\r\n",
        "    def check_direction(r, c, direction):\r\n",
        "        row_dx, col_dx = direction\r\n",
        "        h, w = seats.shape\r\n",
        "        for i in range(1, max(h, w)):\r\n",
        "            if not (-1 < r + row_dx * i < h and -1 < c + col_dx * i < w): return 0\r\n",
        "            if seats[r + row_dx * i, c + col_dx * i] == -1:\r\n",
        "                continue\r\n",
        "            else:\r\n",
        "                return seats[r + row_dx * i, c + col_dx * i]\r\n",
        "        return 0\r\n",
        "\r\n",
        "    directions = [(-1, -1), (-1, 0), (-1, 1),  # Topleft - Top - Topright\r\n",
        "                  (0, -1), (0, 1),  # Left - Right\r\n",
        "                  (1, -1), (1, 0), (1, 1)]  # Bottomleft - Bottom - Bottomright\r\n",
        "\r\n",
        "    return sum([check_direction(r, c, dir) for dir in directions])\r\n",
        "\r\n",
        "# It's day 11\r\n",
        "day = 11\r\n",
        "lines = get_input_as_lines(day)\r\n",
        "ret = d11p1(lines, 5)\r\n",
        "print(f'Final number of occupied seats is: {ret}')"
      ],
      "execution_count": null,
      "outputs": []
    },
    {
      "cell_type": "markdown",
      "metadata": {
        "id": "A1sWWRneodCi"
      },
      "source": [
        "# Day 12"
      ]
    },
    {
      "cell_type": "code",
      "metadata": {
        "id": "zhEaptUboelq"
      },
      "source": [
        "#@title Part 1 { form-width: \"20%\" }\r\n",
        "\r\n",
        "def parse_instructions(input_txt):\r\n",
        "    return [(code, int(value)) for (code, value) in re.findall(r'(\\w)(\\d+)', input_txt)]\r\n",
        "\r\n",
        "def d12p1(input_txt):\r\n",
        "    instructions = parse_instructions(input_txt)\r\n",
        "    # East, North, West, South\r\n",
        "    directions = np.array([(1, 0), (0, 1), (-1, 0), (0, -1)])\r\n",
        "    direction_idx = 0\r\n",
        "    pos = np.array([0, 0])\r\n",
        "    for code, value in instructions:\r\n",
        "        if code == 'N': pos += (0, value)\r\n",
        "        if code == 'S': pos += (0, -value)\r\n",
        "        if code == 'E': pos += (value, 0)\r\n",
        "        if code == 'W': pos += (-value, 0)\r\n",
        "        if code == 'L': direction_idx += (value // 90)\r\n",
        "        if code == 'R': direction_idx -= (value // 90)\r\n",
        "        if code == 'F': pos += directions[direction_idx % 4] * value\r\n",
        "\r\n",
        "    return sum(np.abs(pos))\r\n",
        "\r\n",
        "# It's day 12\r\n",
        "day = 12\r\n",
        "input_txt = get_input(day)\r\n",
        "ret = d12p1(input_txt)\r\n",
        "print(f'Manhattan distance from starting position (0,0) is: {ret}')"
      ],
      "execution_count": null,
      "outputs": []
    },
    {
      "cell_type": "code",
      "metadata": {
        "id": "-MNccoj6CSG0"
      },
      "source": [
        "#@title Part 2 { form-width: \"20%\" }\r\n",
        "# Wanted to give a little bit of structure to ease the read of rotation\r\n",
        "Position = recordtype('Position', 'x y')\r\n",
        "\r\n",
        "def d12p2(input_txt):\r\n",
        "  instructions = parse_instructions(input_txt)\r\n",
        "  waypoint_pos = Position(x=10, y=1)\r\n",
        "  ship_pos = Position(x=0, y=0)\r\n",
        "  for code, value in instructions:\r\n",
        "    if code == 'N': waypoint_pos.y += value\r\n",
        "    elif code == 'S': waypoint_pos.y -= value\r\n",
        "    elif code == 'E': waypoint_pos.x += value\r\n",
        "    elif code == 'W': waypoint_pos.x -= value\r\n",
        "    elif code == 'F':\r\n",
        "        ship_pos.x += waypoint_pos.x * value\r\n",
        "        ship_pos.y += waypoint_pos.y * value\r\n",
        "    else:  # code is L or R now\r\n",
        "      value = -value if code == 'L' else value\r\n",
        "      # Cannot format decently, so i will keep this oneliners\r\n",
        "      cos_v, sin_v = int(np.cos(np.deg2rad(value))), int(np.sin(np.deg2rad(value)))\r\n",
        "      waypoint_pos.x, waypoint_pos.y = waypoint_pos.x * cos_v + waypoint_pos.y * sin_v, -waypoint_pos.x * sin_v + waypoint_pos.y * cos_v\r\n",
        "\r\n",
        "  return np.abs(ship_pos.x) + np.abs(ship_pos.y)\r\n",
        "\r\n",
        "ret = d12p2(input_txt)\r\n",
        "print(f'Manhattan distance from starting position (0,0) is: {ret}')"
      ],
      "execution_count": null,
      "outputs": []
    },
    {
      "cell_type": "code",
      "metadata": {
        "id": "vsIc8I_ny9dE"
      },
      "source": [
        ""
      ],
      "execution_count": null,
      "outputs": []
    }
  ]
}