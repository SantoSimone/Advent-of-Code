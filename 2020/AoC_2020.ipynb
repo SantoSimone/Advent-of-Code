{
  "nbformat": 4,
  "nbformat_minor": 0,
  "metadata": {
    "colab": {
      "name": "AoC 2020",
      "provenance": [],
      "collapsed_sections": []
    },
    "kernelspec": {
      "name": "python3",
      "display_name": "Python 3"
    }
  },
  "cells": [
    {
      "cell_type": "code",
      "metadata": {
        "id": "BHPU0YAV_tR8"
      },
      "source": [
        "#@title Imports { form-width: \"20%\" }\n",
        "# Some imports that might be useful one day\n",
        "import numpy as np\n",
        "import urllib.request\n",
        "import re\n",
        "import collections\n",
        "import itertools\n",
        "import heapq\n",
        "\n",
        "def get_input(day):\n",
        "  return urllib.request.urlopen(f'https://raw.githubusercontent.com/SantoSimone'\n",
        "                                f'/Advent-of-Code/master/2020/input_files/input'\n",
        "                                f'{day}.txt').read().decode('utf-8')\n",
        "\n",
        "def get_input_as_lines(day):\n",
        "  return get_input(day).split('\\n')[:-1]\n",
        "\n",
        "def parse_ints(text):\n",
        "  return [int(x) for x in re.findall(r'\\d+', text)]"
      ],
      "execution_count": null,
      "outputs": []
    },
    {
      "cell_type": "markdown",
      "metadata": {
        "id": "n2Sk9YuUYfOW"
      },
      "source": [
        "# Day 1"
      ]
    },
    {
      "cell_type": "code",
      "metadata": {
        "id": "-GTywVZRG9Hi"
      },
      "source": [
        "#@title Part 1 { form-width: \"20%\" }\n",
        "\n",
        "def d1p1():\n",
        "  expenses = parse_ints(get_input(day))\n",
        "  for val1, val2 in itertools.combinations(expenses, r=2):\n",
        "    if val1 + val2 == 2020: return val1, val2 \n",
        "\n",
        "# 'And so it begins' \n",
        "# (for non-nerds: this is a LOTR reference timing 2:46:41 enjoy!)\n",
        "day = 1\n",
        "val1, val2 = d1p1()\n",
        "print(f'The two entries that sum to 2020 are: {val1} and {val2}. Their product'\n",
        "      f' is {val1*val2}')"
      ],
      "execution_count": null,
      "outputs": []
    },
    {
      "cell_type": "code",
      "metadata": {
        "id": "hNE59c3MaNBP"
      },
      "source": [
        "#@title Part 2 { form-width: \"20%\" }\n",
        "\n",
        "def d1p2():\n",
        "  expenses = parse_ints(get_input(day))\n",
        "  for val1, val2, val3 in itertools.combinations(expenses, r=3):\n",
        "    if val1 + val2 + val3 == 2020: return val1, val2, val3\n",
        "\n",
        "val1, val2, val3 = d1p2()\n",
        "print(f'The three entries that sum to 2020 are: {val1}, {val2} and {val3}. '\n",
        "      f'Their product is {val1*val2*val3}')"
      ],
      "execution_count": null,
      "outputs": []
    },
    {
      "cell_type": "markdown",
      "metadata": {
        "id": "5gaDdFpwq_cL"
      },
      "source": [
        "# Day 2"
      ]
    },
    {
      "cell_type": "code",
      "metadata": {
        "id": "9u3RJesj8dX2"
      },
      "source": [
        "#@title Part 1 { form-width: \"20%\" }\n",
        "\n",
        "def d2p1(inputs):\n",
        "  def check_policy(line):\n",
        "    least, most, ch, pw = re.match(r'(\\d+)-(\\d+) (\\w): (\\w+)', line).groups()\n",
        "    return int(least) <= collections.Counter(pw)[ch] <= int(most)\n",
        "\n",
        "  return sum([check_policy(line) for line in inputs])\n",
        "  \n",
        "# It's day 2\n",
        "day = 2\n",
        "valid = d2p1(get_input_as_lines(day))\n",
        "print(f'# of valid passwords: {valid}')"
      ],
      "execution_count": null,
      "outputs": []
    },
    {
      "cell_type": "code",
      "metadata": {
        "id": "vPNJL_dAr5Ye"
      },
      "source": [
        "#@title Part 2 { form-width: \"20%\" }\n",
        "\n",
        "# Policy has changed, so we will change our policy func\n",
        "def d2p2(inputs):\n",
        "  def check_policy(line):\n",
        "    least, most, ch, pw = re.match(r'(\\d+)-(\\d+) (\\w): (\\w+)', line).groups()\n",
        "    return (pw[int(least) - 1] == ch) ^ (pw[int(most) - 1] == ch)\n",
        "\n",
        "  return sum([check_policy(line) for line in inputs])\n",
        "  \n",
        "\n",
        "valid = d2p2(get_input_as_lines(day))\n",
        "print(f'# of valid passwords: {valid}')"
      ],
      "execution_count": null,
      "outputs": []
    },
    {
      "cell_type": "code",
      "metadata": {
        "id": "bGOiKBJHuEKH"
      },
      "source": [
        ""
      ],
      "execution_count": null,
      "outputs": []
    }
  ]
}