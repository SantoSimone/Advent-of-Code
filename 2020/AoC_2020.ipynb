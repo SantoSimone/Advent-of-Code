{
  "nbformat": 4,
  "nbformat_minor": 0,
  "metadata": {
    "colab": {
      "name": "AoC 2020",
      "provenance": [],
      "collapsed_sections": []
    },
    "kernelspec": {
      "name": "python3",
      "display_name": "Python 3"
    }
  },
  "cells": [
    {
      "cell_type": "code",
      "metadata": {
        "id": "BHPU0YAV_tR8"
      },
      "source": [
        "#@title Imports { form-width: \"20%\" }\n",
        "# Some imports that might be useful one day\n",
        "import numpy as np\n",
        "import urllib.request\n",
        "import re\n",
        "import collections\n",
        "import itertools\n",
        "import heapq\n",
        "\n",
        "def get_input(day):\n",
        "  return urllib.request.urlopen(f'https://raw.githubusercontent.com/SantoSimone'\n",
        "                                f'/Advent-of-Code/master/2020/input_files/input'\n",
        "                                f'{day}.txt').read().decode('utf-8')\n",
        "\n",
        "def get_input_as_lines(day):\n",
        "  return get_input(day).split('\\n')[:-1]\n",
        "\n",
        "def parse_ints(text):\n",
        "  return [int(x) for x in re.findall(r'\\d+', text)]"
      ],
      "execution_count": 1,
      "outputs": []
    },
    {
      "cell_type": "markdown",
      "metadata": {
        "id": "n2Sk9YuUYfOW"
      },
      "source": [
        "# Day 1"
      ]
    },
    {
      "cell_type": "code",
      "metadata": {
        "id": "-GTywVZRG9Hi",
        "cellView": "form"
      },
      "source": [
        "#@title Part 1 { form-width: \"20%\" }\n",
        "\n",
        "def d1p1():\n",
        "  expenses = parse_ints(get_input(day))\n",
        "  for val1, val2 in itertools.combinations(expenses, r=2):\n",
        "    if val1 + val2 == 2020: return val1, val2 \n",
        "\n",
        "# 'And so it begins' \n",
        "# (for non-nerds: this is a LOTR reference timing 2:46:41 enjoy!)\n",
        "day = 1\n",
        "val1, val2 = d1p1()\n",
        "print(f'The two entries that sum to 2020 are: {val1} and {val2}. Their product'\n",
        "      f' is {val1*val2}')"
      ],
      "execution_count": null,
      "outputs": []
    },
    {
      "cell_type": "code",
      "metadata": {
        "id": "hNE59c3MaNBP",
        "cellView": "form"
      },
      "source": [
        "#@title Part 2 { form-width: \"20%\" }\n",
        "\n",
        "def d1p2():\n",
        "  expenses = parse_ints(get_input(day))\n",
        "  for val1, val2, val3 in itertools.combinations(expenses, r=3):\n",
        "    if val1 + val2 + val3 == 2020: return val1, val2, val3\n",
        "\n",
        "val1, val2, val3 = d1p2()\n",
        "print(f'The three entries that sum to 2020 are: {val1}, {val2} and {val3}. '\n",
        "      f'Their product is {val1*val2*val3}')"
      ],
      "execution_count": null,
      "outputs": []
    },
    {
      "cell_type": "markdown",
      "metadata": {
        "id": "5gaDdFpwq_cL"
      },
      "source": [
        "# Day 2"
      ]
    },
    {
      "cell_type": "code",
      "metadata": {
        "id": "9u3RJesj8dX2",
        "cellView": "form"
      },
      "source": [
        "#@title Part 1 { form-width: \"20%\" }\n",
        "\n",
        "def d2p1(inputs):\n",
        "  def check_policy(line):\n",
        "    least, most, ch, pw = re.match(r'(\\d+)-(\\d+) (\\w): (\\w+)', line).groups()\n",
        "    return int(least) <= collections.Counter(pw)[ch] <= int(most)\n",
        "\n",
        "  return sum([check_policy(line) for line in inputs])\n",
        "  \n",
        "# It's day 2\n",
        "day = 2\n",
        "valid = d2p1(get_input_as_lines(day))\n",
        "print(f'# of valid passwords: {valid}')"
      ],
      "execution_count": null,
      "outputs": []
    },
    {
      "cell_type": "code",
      "metadata": {
        "id": "vPNJL_dAr5Ye",
        "cellView": "form"
      },
      "source": [
        "#@title Part 2 { form-width: \"20%\" }\n",
        "\n",
        "# Policy has changed, so we will change our policy func\n",
        "def d2p2(inputs):\n",
        "  def check_policy(line):\n",
        "    least, most, ch, pw = re.match(r'(\\d+)-(\\d+) (\\w): (\\w+)', line).groups()\n",
        "    return (pw[int(least) - 1] == ch) ^ (pw[int(most) - 1] == ch)\n",
        "\n",
        "  return sum([check_policy(line) for line in inputs])\n",
        "  \n",
        "\n",
        "valid = d2p2(get_input_as_lines(day))\n",
        "print(f'# of valid passwords: {valid}')"
      ],
      "execution_count": null,
      "outputs": []
    },
    {
      "cell_type": "markdown",
      "metadata": {
        "id": "Bk8bEE2oPcwN"
      },
      "source": [
        "# Day 3"
      ]
    },
    {
      "cell_type": "code",
      "metadata": {
        "id": "bGOiKBJHuEKH",
        "colab": {
          "base_uri": "https://localhost:8080/"
        },
        "cellView": "form",
        "outputId": "62203d51-71cc-4792-c1da-5e963152155a"
      },
      "source": [
        "#@title Part 1 { form-width: \"20%\" }\n",
        "\n",
        "def d3p1(lines, start, slope):\n",
        "    def generator(start, slope, width):\n",
        "        i = 0\n",
        "        while True:\n",
        "            yield start[0] + (slope[0] * i) % width, start[1] + slope[1] * i\n",
        "            i += 1\n",
        "\n",
        "    def create_map(lines):\n",
        "        return np.array([\n",
        "            [x == '#' for x in line]  # columns\n",
        "            for line in lines  # rows\n",
        "        ], dtype=np.int32)  # ones and zeros are always nice\n",
        "\n",
        "    tree_map = create_map(lines)\n",
        "    height, width = tree_map.shape\n",
        "    sum = 0\n",
        "    for c, r in generator(start, slope, width):\n",
        "        if r >= height: return sum\n",
        "        sum += tree_map[r, c]\n",
        "\n",
        "# It's day 3\n",
        "day = 3\n",
        "start = (0, 0)\n",
        "slope = (3, 1) \n",
        "trees = d3p1(get_input_as_lines(day), start, slope)\n",
        "print(f'# of trees with first policy: {trees}')"
      ],
      "execution_count": null,
      "outputs": [
        {
          "output_type": "stream",
          "text": [
            "# of trees with first policy: 167\n"
          ],
          "name": "stdout"
        }
      ]
    },
    {
      "cell_type": "code",
      "metadata": {
        "colab": {
          "base_uri": "https://localhost:8080/"
        },
        "id": "ej4iPnSRRR6F",
        "cellView": "form",
        "outputId": "9edab84a-769e-4a14-b22e-48091274ea1c"
      },
      "source": [
        "#@title Part 2 { form-width: \"20%\" }\n",
        "\n",
        "# Not an hard request, we simply need to call previous func 5 times\n",
        "def d3p2(lines, start, slopes):\n",
        "  return np.prod([d3p1(lines, start, slope) for slope in slopes])\n",
        "  \n",
        "slopes = ((1, 1), (3, 1), (5, 1), (7, 1), (1, 2))\n",
        "trees = d3p2(get_input_as_lines(day), start, slopes)\n",
        "print(f'Multiplied values of trees encountered with 5 policies: {trees}')"
      ],
      "execution_count": null,
      "outputs": [
        {
          "output_type": "stream",
          "text": [
            "Multiplied values of trees encountered with 5 policies: 736527114\n"
          ],
          "name": "stdout"
        }
      ]
    },
    {
      "cell_type": "markdown",
      "metadata": {
        "id": "HrB990PaeC7Y"
      },
      "source": [
        "# Day 4"
      ]
    },
    {
      "cell_type": "code",
      "metadata": {
        "id": "vIkpnuJsRtF1",
        "colab": {
          "base_uri": "https://localhost:8080/"
        },
        "cellView": "form",
        "outputId": "71c8fc39-d02a-4285-fd5c-96eef62c7b32"
      },
      "source": [
        "#@title Part 1 { form-width: \"20%\" }\n",
        "def parse_input(lines):\n",
        "    ret = []\n",
        "    passport = {}\n",
        "    for line in lines:\n",
        "        if line == '':\n",
        "            ret.append(passport)\n",
        "            passport = {}\n",
        "            continue\n",
        "        parts = line.split()\n",
        "        for p in parts:\n",
        "            k, v = p.split(':')\n",
        "            passport[k] = v\n",
        "    ret.append(passport)\n",
        "\n",
        "    return ret\n",
        "\n",
        "def check_passport(passport, required_fields):\n",
        "  return all(field in passport for field in required_fields)\n",
        "\n",
        "def d4p1(lines):\n",
        "  passports = parse_input(lines)\n",
        "  return np.sum([check_passport(passport, required_fields) \n",
        "                   for passport in passports])\n",
        "\n",
        "# It's day 4\n",
        "day = 4\n",
        "lines = get_input_as_lines(day)\n",
        "required_fields = ['byr', 'iyr', 'eyr', 'hgt', 'hcl', 'ecl', 'pid']\n",
        "optional_fields = ['cid']\n",
        "s = d4p1(lines)\n",
        "print(f'Valid passports: {s}')"
      ],
      "execution_count": null,
      "outputs": [
        {
          "output_type": "stream",
          "text": [
            "Valid passports: 239\n"
          ],
          "name": "stdout"
        }
      ]
    },
    {
      "cell_type": "code",
      "metadata": {
        "colab": {
          "base_uri": "https://localhost:8080/"
        },
        "id": "hzu1mxOHeTOO",
        "cellView": "form",
        "outputId": "e9986084-1083-4f27-c355-a69015c7b60d"
      },
      "source": [
        "#@title Part 2 { form-width: \"20%\" }\n",
        "\n",
        "# Now we want also data validation\n",
        "def data_validation(passport):\n",
        "  valid = True\n",
        "  try:\n",
        "      num, unit = re.match(r'(\\d+)(\\w+)', passport['hgt']).groups()\n",
        "      if unit == 'cm':\n",
        "          valid = (valid and (150 <= int(num) <= 193))\n",
        "      elif unit == 'in':\n",
        "          valid = (valid and (59 <= int(num) <= 76))\n",
        "      else:\n",
        "          return False\n",
        "\n",
        "      return valid and (1920 <= int(passport['byr']) <= 2002) \\\n",
        "              and (2010 <= int(passport['iyr']) <= 2020) \\\n",
        "              and (2020 <= int(passport['eyr']) <= 2030) \\\n",
        "              and passport['hcl'][0] == '#' and len(passport['hcl']) == 7 \\\n",
        "              and all('0' <= c <= '9' or 'a' <= c <= 'f' for c in passport['hcl'][1:]) \\\n",
        "              and passport['ecl'] in ['amb', 'blu', 'brn', 'gry', 'grn', 'hzl', 'oth'] \\\n",
        "              and int(passport['pid']) and len(passport['pid']) == 9\n",
        "  except:\n",
        "      return False\n",
        "\n",
        "def d4p2(lines):\n",
        "  passports = parse_input(lines)\n",
        "  return np.sum([check_passport(passport, required_fields)\n",
        "                 and data_validation(passport)\n",
        "                 for passport in passports])\n",
        "  \n",
        "\n",
        "s = d4p2(lines)\n",
        "print(f'Valid passports with valid data: {s}')"
      ],
      "execution_count": null,
      "outputs": [
        {
          "output_type": "stream",
          "text": [
            "Valid passports with valid data: 188\n"
          ],
          "name": "stdout"
        }
      ]
    },
    {
      "cell_type": "markdown",
      "metadata": {
        "id": "mCGwoGIUoAUW"
      },
      "source": [
        "# Day 5"
      ]
    },
    {
      "cell_type": "code",
      "metadata": {
        "id": "S5N076yVfa-3",
        "colab": {
          "base_uri": "https://localhost:8080/"
        },
        "outputId": "8935386e-422e-407d-a953-d9bfa0bf3b11"
      },
      "source": [
        "#@title Part 1 { form-width: \"20%\" }\n",
        "\n",
        "def binary_space(chars, upper, lower, low_char, high_char):\n",
        "  for c in chars:\n",
        "    lower += (upper - lower + 1) / 2 if c == low_char else 0\n",
        "    upper -= (upper - lower + 1) / 2 if c == high_char else 0\n",
        "  return upper\n",
        "\n",
        "def d5p1(lines):\n",
        "  return [\n",
        "          int(binary_space(seat[:7], 127, 0, 'B', 'F') * 8 \n",
        "          + binary_space(seat[7:], 7, 0, 'R', 'L'))\n",
        "          for seat in lines\n",
        "          ]\n",
        "\n",
        "# It's day 5\n",
        "day = 5\n",
        "lines = get_input_as_lines(day)\n",
        "highest = max(d5p1(lines))\n",
        "print(f'Highest seat ID: {highest}')"
      ],
      "execution_count": 46,
      "outputs": [
        {
          "output_type": "stream",
          "text": [
            "Highest seat ID: 922\n"
          ],
          "name": "stdout"
        }
      ]
    },
    {
      "cell_type": "code",
      "metadata": {
        "colab": {
          "base_uri": "https://localhost:8080/"
        },
        "id": "p4VJ5c-Wqxn_",
        "outputId": "fcb25751-4b49-4d14-aec4-8b01053c5d45"
      },
      "source": [
        "#@title Part 2 { form-width: \"20%\" }\n",
        "\n",
        "def check_pre_post(id, ids):\n",
        "  return id if id + 1 in ids and id - 1 in ids and id not in ids else False\n",
        "\n",
        "def d5p2(lines):\n",
        "  ids = d5p1(lines)\n",
        "  return np.sum([check_pre_post(id, ids) for id in range(min(ids), max(ids))])\n",
        "\n",
        "my_id = d5p2(lines)\n",
        "print(f'My ID is: {my_id}')"
      ],
      "execution_count": 47,
      "outputs": [
        {
          "output_type": "stream",
          "text": [
            "My ID is: 747\n"
          ],
          "name": "stdout"
        }
      ]
    },
    {
      "cell_type": "code",
      "metadata": {
        "id": "-HyK6Zrfx7y8"
      },
      "source": [
        ""
      ],
      "execution_count": null,
      "outputs": []
    }
  ]
}