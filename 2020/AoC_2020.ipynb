{
  "nbformat": 4,
  "nbformat_minor": 0,
  "metadata": {
    "colab": {
      "name": "AoC 2020",
      "provenance": [],
      "collapsed_sections": []
    },
    "kernelspec": {
      "name": "python3",
      "display_name": "Python 3"
    }
  },
  "cells": [
    {
      "cell_type": "code",
      "metadata": {
        "id": "BHPU0YAV_tR8",
        "colab": {
          "base_uri": "https://localhost:8080/"
        },
        "cellView": "form",
        "outputId": "00e05097-319b-443f-c6e0-cb94626a60ef"
      },
      "source": [
        "#@title Imports { form-width: \"20%\" }\n",
        "# Some imports that might be useful one day\n",
        "\n",
        "!pip install recordtype\n",
        "!pip install ipython-autotime\n",
        "%load_ext autotime\n",
        "from recordtype import recordtype\n",
        "import numpy as np\n",
        "import urllib.request\n",
        "import re\n",
        "import collections\n",
        "import itertools\n",
        "import heapq\n",
        "import functools\n",
        "import copy\n",
        "\n",
        "def get_input(day):\n",
        "  return urllib.request.urlopen(f'https://raw.githubusercontent.com/SantoSimone'\n",
        "                                f'/Advent-of-Code/master/2020/input_files/input'\n",
        "                                f'{day}.txt').read().decode('utf-8')\n",
        "\n",
        "def get_input_as_lines(day):\n",
        "  return get_input(day).split('\\n')[:-1]\n",
        "\n",
        "def parse_ints(text):\n",
        "  return [int(x) for x in re.findall(r'\\d+', text)]\n",
        "\n",
        "def splitter(list_to_split, split_val):\n",
        "  ret = []\n",
        "  curr = []\n",
        "  for val in list_to_split:\n",
        "    if val == split_val:\n",
        "      ret.append(curr)\n",
        "      curr = []\n",
        "      continue\n",
        "    curr.append(val)\n",
        "  \n",
        "  return ret"
      ],
      "execution_count": 4,
      "outputs": [
        {
          "output_type": "stream",
          "text": [
            "Requirement already satisfied: recordtype in /usr/local/lib/python3.7/dist-packages (1.3)\n",
            "Requirement already satisfied: six in /usr/local/lib/python3.7/dist-packages (from recordtype) (1.15.0)\n",
            "Requirement already satisfied: ipython-autotime in /usr/local/lib/python3.7/dist-packages (0.3.1)\n",
            "Requirement already satisfied: ipython in /usr/local/lib/python3.7/dist-packages (from ipython-autotime) (5.5.0)\n",
            "Requirement already satisfied: prompt-toolkit<2.0.0,>=1.0.4 in /usr/local/lib/python3.7/dist-packages (from ipython->ipython-autotime) (1.0.18)\n",
            "Requirement already satisfied: pexpect; sys_platform != \"win32\" in /usr/local/lib/python3.7/dist-packages (from ipython->ipython-autotime) (4.8.0)\n",
            "Requirement already satisfied: setuptools>=18.5 in /usr/local/lib/python3.7/dist-packages (from ipython->ipython-autotime) (54.0.0)\n",
            "Requirement already satisfied: pickleshare in /usr/local/lib/python3.7/dist-packages (from ipython->ipython-autotime) (0.7.5)\n",
            "Requirement already satisfied: pygments in /usr/local/lib/python3.7/dist-packages (from ipython->ipython-autotime) (2.6.1)\n",
            "Requirement already satisfied: traitlets>=4.2 in /usr/local/lib/python3.7/dist-packages (from ipython->ipython-autotime) (5.0.5)\n",
            "Requirement already satisfied: decorator in /usr/local/lib/python3.7/dist-packages (from ipython->ipython-autotime) (4.4.2)\n",
            "Requirement already satisfied: simplegeneric>0.8 in /usr/local/lib/python3.7/dist-packages (from ipython->ipython-autotime) (0.8.1)\n",
            "Requirement already satisfied: wcwidth in /usr/local/lib/python3.7/dist-packages (from prompt-toolkit<2.0.0,>=1.0.4->ipython->ipython-autotime) (0.2.5)\n",
            "Requirement already satisfied: six>=1.9.0 in /usr/local/lib/python3.7/dist-packages (from prompt-toolkit<2.0.0,>=1.0.4->ipython->ipython-autotime) (1.15.0)\n",
            "Requirement already satisfied: ptyprocess>=0.5 in /usr/local/lib/python3.7/dist-packages (from pexpect; sys_platform != \"win32\"->ipython->ipython-autotime) (0.7.0)\n",
            "Requirement already satisfied: ipython-genutils in /usr/local/lib/python3.7/dist-packages (from traitlets>=4.2->ipython->ipython-autotime) (0.2.0)\n",
            "The autotime extension is already loaded. To reload it, use:\n",
            "  %reload_ext autotime\n",
            "time: 5.87 s (started: 2021-03-07 00:26:27 +00:00)\n"
          ],
          "name": "stdout"
        }
      ]
    },
    {
      "cell_type": "markdown",
      "metadata": {
        "id": "n2Sk9YuUYfOW"
      },
      "source": [
        "# Day 1"
      ]
    },
    {
      "cell_type": "code",
      "metadata": {
        "id": "-GTywVZRG9Hi",
        "cellView": "form"
      },
      "source": [
        "#@title Part 1 { form-width: \"20%\" }\n",
        "\n",
        "def d1p1():\n",
        "  expenses = parse_ints(get_input(day))\n",
        "  for val1, val2 in itertools.combinations(expenses, r=2):\n",
        "    if val1 + val2 == 2020: return val1, val2 \n",
        "\n",
        "# 'And so it begins' \n",
        "# (for non-nerds: this is a LOTR reference timing 2:46:41 enjoy!)\n",
        "day = 1\n",
        "val1, val2 = d1p1()\n",
        "print(f'The two entries that sum to 2020 are: {val1} and {val2}. Their product'\n",
        "      f' is {val1*val2}')"
      ],
      "execution_count": null,
      "outputs": []
    },
    {
      "cell_type": "code",
      "metadata": {
        "id": "hNE59c3MaNBP",
        "cellView": "form"
      },
      "source": [
        "#@title Part 2 { form-width: \"20%\" }\n",
        "\n",
        "def d1p2():\n",
        "  expenses = parse_ints(get_input(day))\n",
        "  for val1, val2, val3 in itertools.combinations(expenses, r=3):\n",
        "    if val1 + val2 + val3 == 2020: return val1, val2, val3\n",
        "\n",
        "val1, val2, val3 = d1p2()\n",
        "print(f'The three entries that sum to 2020 are: {val1}, {val2} and {val3}. '\n",
        "      f'Their product is {val1*val2*val3}')"
      ],
      "execution_count": null,
      "outputs": []
    },
    {
      "cell_type": "markdown",
      "metadata": {
        "id": "5gaDdFpwq_cL"
      },
      "source": [
        "# Day 2"
      ]
    },
    {
      "cell_type": "code",
      "metadata": {
        "id": "9u3RJesj8dX2",
        "cellView": "form"
      },
      "source": [
        "#@title Part 1 { form-width: \"20%\" }\n",
        "\n",
        "def d2p1(inputs):\n",
        "  def check_policy(line):\n",
        "    least, most, ch, pw = re.match(r'(\\d+)-(\\d+) (\\w): (\\w+)', line).groups()\n",
        "    return int(least) <= collections.Counter(pw)[ch] <= int(most)\n",
        "\n",
        "  return sum([check_policy(line) for line in inputs])\n",
        "  \n",
        "# It's day 2\n",
        "day = 2\n",
        "valid = d2p1(get_input_as_lines(day))\n",
        "print(f'# of valid passwords: {valid}')"
      ],
      "execution_count": null,
      "outputs": []
    },
    {
      "cell_type": "code",
      "metadata": {
        "id": "vPNJL_dAr5Ye",
        "cellView": "form"
      },
      "source": [
        "#@title Part 2 { form-width: \"20%\" }\n",
        "\n",
        "# Policy has changed, so we will change our policy func\n",
        "def d2p2(inputs):\n",
        "  def check_policy(line):\n",
        "    least, most, ch, pw = re.match(r'(\\d+)-(\\d+) (\\w): (\\w+)', line).groups()\n",
        "    return (pw[int(least) - 1] == ch) ^ (pw[int(most) - 1] == ch)\n",
        "\n",
        "  return sum([check_policy(line) for line in inputs])\n",
        "  \n",
        "\n",
        "valid = d2p2(get_input_as_lines(day))\n",
        "print(f'# of valid passwords: {valid}')"
      ],
      "execution_count": null,
      "outputs": []
    },
    {
      "cell_type": "markdown",
      "metadata": {
        "id": "Bk8bEE2oPcwN"
      },
      "source": [
        "# Day 3"
      ]
    },
    {
      "cell_type": "code",
      "metadata": {
        "id": "bGOiKBJHuEKH",
        "cellView": "form"
      },
      "source": [
        "#@title Part 1 { form-width: \"20%\" }\n",
        "\n",
        "def d3p1(lines, start, slope):\n",
        "    def generator(start, slope, width):\n",
        "        i = 0\n",
        "        while True:\n",
        "            yield start[0] + (slope[0] * i) % width, start[1] + slope[1] * i\n",
        "            i += 1\n",
        "\n",
        "    def create_map(lines):\n",
        "        return np.array([\n",
        "            [x == '#' for x in line]  # columns\n",
        "            for line in lines  # rows\n",
        "        ], dtype=np.int32)  # ones and zeros are always nice\n",
        "\n",
        "    tree_map = create_map(lines)\n",
        "    height, width = tree_map.shape\n",
        "    sum = 0\n",
        "    for c, r in generator(start, slope, width):\n",
        "        if r >= height: return sum\n",
        "        sum += tree_map[r, c]\n",
        "\n",
        "# It's day 3\n",
        "day = 3\n",
        "start = (0, 0)\n",
        "slope = (3, 1) \n",
        "trees = d3p1(get_input_as_lines(day), start, slope)\n",
        "print(f'# of trees with first policy: {trees}')"
      ],
      "execution_count": null,
      "outputs": []
    },
    {
      "cell_type": "code",
      "metadata": {
        "id": "ej4iPnSRRR6F",
        "cellView": "form"
      },
      "source": [
        "#@title Part 2 { form-width: \"20%\" }\n",
        "\n",
        "# Not an hard request, we simply need to call previous func 5 times\n",
        "def d3p2(lines, start, slopes):\n",
        "  return np.prod([d3p1(lines, start, slope) for slope in slopes])\n",
        "  \n",
        "slopes = ((1, 1), (3, 1), (5, 1), (7, 1), (1, 2))\n",
        "trees = d3p2(get_input_as_lines(day), start, slopes)\n",
        "print(f'Multiplied values of trees encountered with 5 policies: {trees}')"
      ],
      "execution_count": null,
      "outputs": []
    },
    {
      "cell_type": "markdown",
      "metadata": {
        "id": "HrB990PaeC7Y"
      },
      "source": [
        "# Day 4"
      ]
    },
    {
      "cell_type": "code",
      "metadata": {
        "id": "vIkpnuJsRtF1",
        "cellView": "form"
      },
      "source": [
        "#@title Part 1 { form-width: \"20%\" }\n",
        "def parse_input(lines):\n",
        "    ret = []\n",
        "    passport = {}\n",
        "    for line in lines:\n",
        "        if line == '':\n",
        "            ret.append(passport)\n",
        "            passport = {}\n",
        "            continue\n",
        "        parts = line.split()\n",
        "        for p in parts:\n",
        "            k, v = p.split(':')\n",
        "            passport[k] = v\n",
        "    ret.append(passport)\n",
        "\n",
        "    return ret\n",
        "\n",
        "def check_passport(passport, required_fields):\n",
        "  return all(field in passport for field in required_fields)\n",
        "\n",
        "def d4p1(lines):\n",
        "  passports = parse_input(lines)\n",
        "  return np.sum([check_passport(passport, required_fields) \n",
        "                   for passport in passports])\n",
        "\n",
        "# It's day 4\n",
        "day = 4\n",
        "lines = get_input_as_lines(day)\n",
        "required_fields = ['byr', 'iyr', 'eyr', 'hgt', 'hcl', 'ecl', 'pid']\n",
        "optional_fields = ['cid']\n",
        "s = d4p1(lines)\n",
        "print(f'Valid passports: {s}')"
      ],
      "execution_count": null,
      "outputs": []
    },
    {
      "cell_type": "code",
      "metadata": {
        "id": "hzu1mxOHeTOO",
        "cellView": "form"
      },
      "source": [
        "#@title Part 2 { form-width: \"20%\" }\n",
        "\n",
        "# Now we want also data validation\n",
        "def data_validation(passport):\n",
        "  valid = True\n",
        "  try:\n",
        "      num, unit = re.match(r'(\\d+)(\\w+)', passport['hgt']).groups()\n",
        "      if unit == 'cm':\n",
        "          valid = (valid and (150 <= int(num) <= 193))\n",
        "      elif unit == 'in':\n",
        "          valid = (valid and (59 <= int(num) <= 76))\n",
        "      else:\n",
        "          return False\n",
        "\n",
        "      return valid and (1920 <= int(passport['byr']) <= 2002) \\\n",
        "              and (2010 <= int(passport['iyr']) <= 2020) \\\n",
        "              and (2020 <= int(passport['eyr']) <= 2030) \\\n",
        "              and passport['hcl'][0] == '#' and len(passport['hcl']) == 7 \\\n",
        "              and all('0' <= c <= '9' or 'a' <= c <= 'f' for c in passport['hcl'][1:]) \\\n",
        "              and passport['ecl'] in ['amb', 'blu', 'brn', 'gry', 'grn', 'hzl', 'oth'] \\\n",
        "              and int(passport['pid']) and len(passport['pid']) == 9\n",
        "  except:\n",
        "      return False\n",
        "\n",
        "def d4p2(lines):\n",
        "  passports = parse_input(lines)\n",
        "  return np.sum([check_passport(passport, required_fields)\n",
        "                 and data_validation(passport)\n",
        "                 for passport in passports])\n",
        "  \n",
        "\n",
        "s = d4p2(lines)\n",
        "print(f'Valid passports with valid data: {s}')"
      ],
      "execution_count": null,
      "outputs": []
    },
    {
      "cell_type": "markdown",
      "metadata": {
        "id": "mCGwoGIUoAUW"
      },
      "source": [
        "# Day 5"
      ]
    },
    {
      "cell_type": "code",
      "metadata": {
        "id": "S5N076yVfa-3",
        "cellView": "form"
      },
      "source": [
        "#@title Part 1 { form-width: \"20%\" }\n",
        "\n",
        "def binary_space(line, upper_char, lower_char):\n",
        "  return int(line.replace(upper_char, '1').replace(lower_char, '0'), base=2)\n",
        "\n",
        "def d5p1(lines):\n",
        "  return [binary_space(seat[:7], 'B', 'F') * 8 \n",
        "          + binary_space(seat[7:], 'R', 'L')\n",
        "          for seat in lines]\n",
        "\n",
        "# It's day 5\n",
        "day = 5\n",
        "lines = get_input_as_lines(day)\n",
        "highest = max(d5p1(lines))\n",
        "print(f'Highest seat ID: {highest}')"
      ],
      "execution_count": null,
      "outputs": []
    },
    {
      "cell_type": "code",
      "metadata": {
        "id": "p4VJ5c-Wqxn_",
        "cellView": "form"
      },
      "source": [
        "#@title Part 2 { form-width: \"20%\" }\n",
        "\n",
        "def check_pre_post(id, ids):\n",
        "  return id if id + 1 in ids and id - 1 in ids and id not in ids else False\n",
        "\n",
        "def d5p2(lines):\n",
        "  ids = d5p1(lines)\n",
        "  return np.sum([check_pre_post(id, ids) for id in range(min(ids), max(ids))])\n",
        "\n",
        "my_id = d5p2(lines)\n",
        "print(f'My ID is: {my_id}')"
      ],
      "execution_count": null,
      "outputs": []
    },
    {
      "cell_type": "markdown",
      "metadata": {
        "id": "c998TfVaqsy_"
      },
      "source": [
        "# Day 6"
      ]
    },
    {
      "cell_type": "code",
      "metadata": {
        "id": "-HyK6Zrfx7y8",
        "cellView": "form"
      },
      "source": [
        "#@title Part 1 { form-width: \"20%\" }\n",
        "\n",
        "def parse_input(lines):\n",
        "    return [\n",
        "            list(g) \n",
        "            for k, g in itertools.groupby(lines, lambda x: x != '') if k\n",
        "           ]\n",
        "\n",
        "def d6p1(lines):\n",
        "    groups = parse_input(lines)\n",
        "    return sum([\n",
        "        len(set(''.join(group))) for group in groups\n",
        "    ])\n",
        "\n",
        "# It's day 5\n",
        "day = 6\n",
        "lines = get_input_as_lines(day)\n",
        "s = d6p1(lines)\n",
        "print(f'Number of total questions: {s}')"
      ],
      "execution_count": null,
      "outputs": []
    },
    {
      "cell_type": "code",
      "metadata": {
        "id": "XvRHXllcrPHI",
        "cellView": "form"
      },
      "source": [
        "#@title Part 2 { form-width: \"20%\" }\n",
        "\n",
        "def d6p2(lines):\n",
        "    groups = parse_input(lines)\n",
        "    all_questions = [set(''.join(group)) for group in groups]\n",
        "    return sum(\n",
        "        [\n",
        "            all(x in g for g in groups[i])\n",
        "            for i, group_set in enumerate(all_questions)\n",
        "            for x in group_set\n",
        "        ]\n",
        "    )\n",
        "\n",
        "s = d6p2(lines)\n",
        "print(f'Number of total questions: {s}')"
      ],
      "execution_count": null,
      "outputs": []
    },
    {
      "cell_type": "markdown",
      "metadata": {
        "id": "wzHjZ0eMT_8a"
      },
      "source": [
        "# Day 7"
      ]
    },
    {
      "cell_type": "code",
      "metadata": {
        "id": "FjkmMYsBuzZ4",
        "cellView": "form"
      },
      "source": [
        "#@title Part 1 { form-width: \"20%\" }\n",
        "\n",
        "def parse_line(line):\n",
        "  parts = re.split('bag', line)\n",
        "  stuff = {\n",
        "      key.strip(): int(value)\n",
        "      for p in parts[1:]\n",
        "      for value, key in re.findall(r'(\\d+) ([a-z ]+)', p)\n",
        "  }\n",
        "  return {parts[0].strip(): stuff}\n",
        "\n",
        "def parse_input(lines):\n",
        "  bags = {}\n",
        "  for line in lines:\n",
        "      bags.update(parse_line(line))\n",
        "  return bags\n",
        "\n",
        "def rec_contains(bags, bag, bag_to_place):\n",
        "  return bag_to_place == bag \\\n",
        "          or any(rec_contains(bags, inside_bag, bag_to_place) \n",
        "                 for inside_bag in bags[bag])\n",
        "\n",
        "def d7p1(lines, bag_to_place):\n",
        "  bags = parse_input(lines)\n",
        "  return [rec_contains(bags, bag, bag_to_place) for bag in bags]\n",
        "\n",
        "# It's day 7\n",
        "day = 7\n",
        "lines = get_input_as_lines(day)\n",
        "# We sub 1 because shiny gold is counted in our algorithm\n",
        "s = sum(d7p1(lines, 'shiny gold')) - 1\n",
        "print(f'Shiny gold bag is contained in : {s}')"
      ],
      "execution_count": null,
      "outputs": []
    },
    {
      "cell_type": "code",
      "metadata": {
        "id": "sus8VghjUSCh",
        "cellView": "form"
      },
      "source": [
        "#@title Part 2 { form-width: \"20%\" }\n",
        "\n",
        "def count_bags_inside(bags, outer_bag):\n",
        "  # When we reach an empty bag we count 1 and we always add 1 to the count \n",
        "  # of inner bags cause we also count current outer bag\n",
        "  return 1 + sum([num * count_bags_inside(bags, inner) \n",
        "                  for inner, num in bags[outer_bag].items()])\n",
        "\n",
        "\n",
        "def d7p2(lines, bag_to_place):\n",
        "  return count_bags_inside(parse_input(lines), bag_to_place)\n",
        "\n",
        "# We sub 1 because shiny gold is counted in our algorithm\n",
        "s = d7p2(lines, 'shiny gold') - 1\n",
        "print(f'Shiny gold contains {s} bags')"
      ],
      "execution_count": null,
      "outputs": []
    },
    {
      "cell_type": "markdown",
      "metadata": {
        "id": "PPt64lVufcP6"
      },
      "source": [
        "# Day 8"
      ]
    },
    {
      "cell_type": "code",
      "metadata": {
        "id": "YsA4lOlqaunK",
        "cellView": "form"
      },
      "source": [
        "#@title Part 1 { form-width: \"20%\" }\n",
        "\n",
        "Instruction = collections.namedtuple('Instruction', ['code', 'value'])\n",
        "\n",
        "def parse_instructions(lines):\n",
        "  return [\n",
        "          Instruction(code=inst, value=int(value)) \n",
        "          for inst, value in [line.split() for line in lines]\n",
        "          ]\n",
        "\n",
        "def execute(inst, idx, acc):\n",
        "  if inst.code == 'acc': return idx + 1, acc + inst.value\n",
        "  elif inst.code == 'jmp': return idx + inst.value, acc\n",
        "  elif inst.code == 'nop': return idx + 1, acc\n",
        "\n",
        "def d8p1(instructions):\n",
        "  i, accumulator, done = 0, 0, set()\n",
        "  while i not in done:\n",
        "    done = done.union({i})\n",
        "    i, accumulator = execute(instructions[i], i, accumulator)\n",
        "\n",
        "  return accumulator\n",
        "\n",
        "# It's day 8\n",
        "day = 8\n",
        "instructions = parse_instructions(get_input_as_lines(day))\n",
        "acc = d8p1(instructions)\n",
        "print(f'Right before repeating an instruction the accumulator is: {acc}')"
      ],
      "execution_count": null,
      "outputs": []
    },
    {
      "cell_type": "code",
      "metadata": {
        "id": "VEpRgB0zfdkx",
        "cellView": "form"
      },
      "source": [
        "#@title Part 2 { form-width: \"20%\" }\n",
        "\n",
        "def changed_instructions(instructions):\n",
        "  changes = {'nop': 'jmp', 'jmp': 'nop'}\n",
        "  for i, inst in enumerate(instructions):\n",
        "    if inst.code in changes.keys():\n",
        "      yield instructions[:i] \\\n",
        "            + [Instruction(code=changes[inst.code], value=inst.value)] \\\n",
        "            + instructions[i+1:] \n",
        "\n",
        "def d8p2(instructions):\n",
        "  for changed in changed_instructions(instructions):\n",
        "      i, accumulator, done = 0, 0, set()\n",
        "      while i <= len(changed) - 1 and i not in done:\n",
        "          done = done.union({i})\n",
        "          i, accumulator = execute(changed[i], i, accumulator)\n",
        "      if i >= len(changed): return accumulator\n",
        "\n",
        "instructions = parse_instructions(get_input_as_lines(day))\n",
        "acc = d8p2(instructions)\n",
        "print(f'Changing one single operation the program terminates with: {acc}')"
      ],
      "execution_count": null,
      "outputs": []
    },
    {
      "cell_type": "markdown",
      "metadata": {
        "id": "7bL9SBQ44cC8"
      },
      "source": [
        "# Day 9"
      ]
    },
    {
      "cell_type": "code",
      "metadata": {
        "id": "38SxKV9Mi4tB",
        "cellView": "form"
      },
      "source": [
        "#@title Part 1 { form-width: \"20%\" }\r\n",
        "\r\n",
        "def valid(next, previous):\r\n",
        "  prev_set = set(previous)\r\n",
        "  if next not in map(lambda x: x[0] + x[1], itertools.combinations(prev_set, 2)):\r\n",
        "    return False\r\n",
        "  return True\r\n",
        "\r\n",
        "def d9p1(nums, preamble):\r\n",
        "    for i, num in enumerate(nums[preamble:]):\r\n",
        "        if not valid(num, nums[i:i+preamble]): return num\r\n",
        "    return -np.inf\r\n",
        "\r\n",
        "# It's day 9\r\n",
        "day = 9\r\n",
        "nums = parse_ints(get_input(day))\r\n",
        "invalid = d9p1(nums, 25)\r\n",
        "print(f'First number that does not respect the policy is: {invalid}')"
      ],
      "execution_count": null,
      "outputs": []
    },
    {
      "cell_type": "code",
      "metadata": {
        "id": "ZdVs3LHE-BHu",
        "cellView": "form"
      },
      "source": [
        "#@title Part 2 { form-width: \"20%\" }\r\n",
        "\r\n",
        "def d9p2(nums, preamble):\r\n",
        "  invalid = d9p1(nums, preamble)\r\n",
        "  start, end, partial = 0, 0, 0\r\n",
        "  while partial != invalid:\r\n",
        "      if partial > invalid:\r\n",
        "          partial -= nums[start]\r\n",
        "          start += 1\r\n",
        "          continue\r\n",
        "      else:\r\n",
        "          partial += nums[end]\r\n",
        "      end += 1\r\n",
        "  return min(nums[start:end]) + max(nums[start:end])\r\n",
        "\r\n",
        "weakness = d9p2(nums, 25)\r\n",
        "print(f'The encryption weakness is: {weakness}')"
      ],
      "execution_count": null,
      "outputs": []
    },
    {
      "cell_type": "markdown",
      "metadata": {
        "id": "zI_kllwsxAHi"
      },
      "source": [
        "# Day 10"
      ]
    },
    {
      "cell_type": "code",
      "metadata": {
        "id": "4JN2350G-9js",
        "cellView": "form"
      },
      "source": [
        "#@title Part 1 { form-width: \"20%\" }\r\n",
        "\r\n",
        "def jolt_diff(low, high, condition):\r\n",
        "  return 1 if (high - low) == condition else 0\r\n",
        "\r\n",
        "def d10p1(adapters):\r\n",
        "  sorted_adapters = sorted(adapters)\r\n",
        "  subsequent = [(0, sorted_adapters[0])]  # first connection\r\n",
        "  subsequent += [\r\n",
        "                 (sorted_adapters[i], sorted_adapters[i + 1])\r\n",
        "                 for i, _ in enumerate(sorted_adapters[:-1])\r\n",
        "                ]\r\n",
        "  ones = sum(map(lambda x: jolt_diff(x[0], x[1], 1), subsequent))\r\n",
        "  threes = sum(map(lambda x: jolt_diff(x[0], x[1], 3), subsequent)) + 1\r\n",
        "  return ones * threes\r\n",
        "\r\n",
        "# It's day 10\r\n",
        "day = 10\r\n",
        "adapters = parse_ints(get_input(day))\r\n",
        "ret = d10p1(adapters)\r\n",
        "print(f'Multiplication of 1-jolts by 3-jolts is: {ret}')"
      ],
      "execution_count": null,
      "outputs": []
    },
    {
      "cell_type": "code",
      "metadata": {
        "id": "-s1xeL2W1-tk",
        "cellView": "form"
      },
      "source": [
        "#@title Part 2 { form-width: \"20%\" }\r\n",
        "# This was a though one: did not understand the stack of calls could be so\r\n",
        "# overwhelming in a brute-force approach..\r\n",
        "# Had to switch from a for-loop (A* search) to recursion (lru_cache friendly) \r\n",
        "\r\n",
        "State = collections.namedtuple('State', 'jolts, adapters')\r\n",
        "\r\n",
        "def d10p2(adapters):\r\n",
        "    # Add last connection\r\n",
        "    adapters = sorted(adapters)\r\n",
        "    goal = max(adapters) + 3  # final connection is built-in adapter\r\n",
        "    adapters.append(goal)\r\n",
        "    return recursive_search(State(0, frozenset(adapters)), goal)\r\n",
        "\r\n",
        "\r\n",
        "@functools.lru_cache(maxsize=500)\r\n",
        "def recursive_search(curr, goal):\r\n",
        "    if curr.jolts == goal: return 1\r\n",
        "    possible_nexts = possible_connections(curr)\r\n",
        "    if not possible_nexts: return 0\r\n",
        "    return sum([\r\n",
        "        recursive_search(next_adap, goal) for next_adap in possible_nexts\r\n",
        "    ])\r\n",
        "\r\n",
        "\r\n",
        "def possible_connections(state):\r\n",
        "    possibles = filter(lambda x: state.jolts < x <= state.jolts + 3, state.adapters)\r\n",
        "    return [State(adap, state.adapters.difference({a for a in state.adapters if a <= adap})) for adap in possibles]\r\n",
        "\r\n",
        "adapters = parse_ints(get_input(day))\r\n",
        "ret = d10p2(adapters)\r\n",
        "print(f'Number of possible configurations is: {ret}')"
      ],
      "execution_count": null,
      "outputs": []
    },
    {
      "cell_type": "markdown",
      "metadata": {
        "id": "amqDxG7udrWX"
      },
      "source": [
        "# Day 11"
      ]
    },
    {
      "cell_type": "code",
      "metadata": {
        "id": "lvUDplCEdtX2",
        "cellView": "form"
      },
      "source": [
        "#@title Part 1 { form-width: \"20%\" }\r\n",
        "\r\n",
        "def create_seats_map(lines):\r\n",
        "  # Seats will be: -1 floor, 0 empty, 1 occupied\r\n",
        "  seats = [line.replace('.', '0').replace('L', '1') for line in lines]\r\n",
        "  seats = [[int(s) for s in line] for line in seats]\r\n",
        "  seats = np.array(seats) - 1\r\n",
        "  return seats\r\n",
        "\r\n",
        "def num_adjacent_occupied(seats, r, c):\r\n",
        "  rows = [max(0, r - 1), r, min(r + 1, seats.shape[0] - 1)]\r\n",
        "  cols = [max(0, c - 1), c, min(c + 1, seats.shape[1] - 1)]\r\n",
        "  adjacent = set(itertools.product(rows, cols))\r\n",
        "  # We do not count our seat, so we remove it from combinations\r\n",
        "  adjacent.remove((r,c))\r\n",
        "  return sum([1 for row, col in adjacent if seats[row, col] == 1])\r\n",
        "\r\n",
        "def round_seat(seats, max_adjacent):\r\n",
        "  def evaluate_single(seat, r, c):\r\n",
        "    if seat == -1: return -1\r\n",
        "    num_adjacent = num_adjacent_occupied(seats, r, c)\r\n",
        "    \r\n",
        "    # Empty and no occupied adjacent -> occupied\r\n",
        "    if seat == 0 and num_adjacent == 0: return 1\r\n",
        "    elif seat == 0: return 0\r\n",
        "    \r\n",
        "    # Occupied and `max_adjacent` or more adjacent occupied -> empty\r\n",
        "    if seat == 1 and num_adjacent >= max_adjacent: return 0\r\n",
        "    else: return 1\r\n",
        "\r\n",
        "  new_seats = np.array(\r\n",
        "      [evaluate_single(s, r, c)\r\n",
        "       for (r, c), s in np.ndenumerate(seats)\r\n",
        "      ]\r\n",
        "  )\r\n",
        "  # Above operation outputs the flattened matrix, so we reshape\r\n",
        "  return np.reshape(new_seats, (seats.shape[0], seats.shape[1]))\r\n",
        "\r\n",
        "\r\n",
        "def d11p1(lines, max_adjacent):\r\n",
        "  last_seats = create_seats_map(lines)\r\n",
        "  while True:\r\n",
        "    new_seats = round_seat(last_seats, max_adjacent)\r\n",
        "    if all((new_seats == last_seats).reshape(-1)):\r\n",
        "      return sum(new_seats[new_seats > 0])\r\n",
        "    last_seats = new_seats[:, :]\r\n",
        "\r\n",
        "# It's day 11\r\n",
        "day = 11\r\n",
        "lines = get_input_as_lines(day)\r\n",
        "ret = d11p1(lines, 4)\r\n",
        "print(f'Final number of occupied seats is: {ret}')"
      ],
      "execution_count": null,
      "outputs": []
    },
    {
      "cell_type": "code",
      "metadata": {
        "cellView": "form",
        "id": "cMVrK_KagDLP"
      },
      "source": [
        "#@title Part 2 { form-width: \"20%\" }\r\n",
        "\r\n",
        "# We only need to change the policies\r\n",
        "def num_adjacent_occupied(seats, r, c):\r\n",
        "    def check_direction(r, c, direction):\r\n",
        "        row_dx, col_dx = direction\r\n",
        "        h, w = seats.shape\r\n",
        "        for i in range(1, max(h, w)):\r\n",
        "            if not (-1 < r + row_dx * i < h and -1 < c + col_dx * i < w): return 0\r\n",
        "            if seats[r + row_dx * i, c + col_dx * i] == -1:\r\n",
        "                continue\r\n",
        "            else:\r\n",
        "                return seats[r + row_dx * i, c + col_dx * i]\r\n",
        "        return 0\r\n",
        "\r\n",
        "    directions = [(-1, -1), (-1, 0), (-1, 1),  # Topleft - Top - Topright\r\n",
        "                  (0, -1), (0, 1),  # Left - Right\r\n",
        "                  (1, -1), (1, 0), (1, 1)]  # Bottomleft - Bottom - Bottomright\r\n",
        "\r\n",
        "    return sum([check_direction(r, c, dir) for dir in directions])\r\n",
        "\r\n",
        "# It's day 11\r\n",
        "day = 11\r\n",
        "lines = get_input_as_lines(day)\r\n",
        "ret = d11p1(lines, 5)\r\n",
        "print(f'Final number of occupied seats is: {ret}')"
      ],
      "execution_count": null,
      "outputs": []
    },
    {
      "cell_type": "markdown",
      "metadata": {
        "id": "A1sWWRneodCi"
      },
      "source": [
        "# Day 12"
      ]
    },
    {
      "cell_type": "code",
      "metadata": {
        "id": "zhEaptUboelq",
        "cellView": "form"
      },
      "source": [
        "#@title Part 1 { form-width: \"20%\" }\r\n",
        "\r\n",
        "def parse_instructions(input_txt):\r\n",
        "    return [(code, int(value)) for (code, value) in re.findall(r'(\\w)(\\d+)', input_txt)]\r\n",
        "\r\n",
        "def d12p1(input_txt):\r\n",
        "    instructions = parse_instructions(input_txt)\r\n",
        "    # East, North, West, South\r\n",
        "    directions = np.array([(1, 0), (0, 1), (-1, 0), (0, -1)])\r\n",
        "    direction_idx = 0\r\n",
        "    pos = np.array([0, 0])\r\n",
        "    for code, value in instructions:\r\n",
        "        if code == 'N': pos += (0, value)\r\n",
        "        if code == 'S': pos += (0, -value)\r\n",
        "        if code == 'E': pos += (value, 0)\r\n",
        "        if code == 'W': pos += (-value, 0)\r\n",
        "        if code == 'L': direction_idx += (value // 90)\r\n",
        "        if code == 'R': direction_idx -= (value // 90)\r\n",
        "        if code == 'F': pos += directions[direction_idx % 4] * value\r\n",
        "\r\n",
        "    return sum(np.abs(pos))\r\n",
        "\r\n",
        "# It's day 12\r\n",
        "day = 12\r\n",
        "input_txt = get_input(day)\r\n",
        "ret = d12p1(input_txt)\r\n",
        "print(f'Manhattan distance from starting position (0,0) is: {ret}')"
      ],
      "execution_count": null,
      "outputs": []
    },
    {
      "cell_type": "code",
      "metadata": {
        "id": "-MNccoj6CSG0",
        "cellView": "form"
      },
      "source": [
        "#@title Part 2 { form-width: \"20%\" }\r\n",
        "# Wanted to give a little bit of structure to ease the read of rotation\r\n",
        "Position = recordtype('Position', 'x y')\r\n",
        "\r\n",
        "def d12p2(input_txt):\r\n",
        "  instructions = parse_instructions(input_txt)\r\n",
        "  waypoint_pos = Position(x=10, y=1)\r\n",
        "  ship_pos = Position(x=0, y=0)\r\n",
        "  for code, value in instructions:\r\n",
        "    if code == 'N': waypoint_pos.y += value\r\n",
        "    elif code == 'S': waypoint_pos.y -= value\r\n",
        "    elif code == 'E': waypoint_pos.x += value\r\n",
        "    elif code == 'W': waypoint_pos.x -= value\r\n",
        "    elif code == 'F':\r\n",
        "        ship_pos.x += waypoint_pos.x * value\r\n",
        "        ship_pos.y += waypoint_pos.y * value\r\n",
        "    else:  # code is L or R now\r\n",
        "      value = -value if code == 'L' else value\r\n",
        "      # Cannot format decently, so i will keep this oneliners\r\n",
        "      cos_v, sin_v = int(np.cos(np.deg2rad(value))), int(np.sin(np.deg2rad(value)))\r\n",
        "      waypoint_pos.x, waypoint_pos.y = waypoint_pos.x * cos_v + waypoint_pos.y * sin_v, -waypoint_pos.x * sin_v + waypoint_pos.y * cos_v\r\n",
        "\r\n",
        "  return np.abs(ship_pos.x) + np.abs(ship_pos.y)\r\n",
        "\r\n",
        "ret = d12p2(input_txt)\r\n",
        "print(f'Manhattan distance from starting position (0,0) is: {ret}')"
      ],
      "execution_count": null,
      "outputs": []
    },
    {
      "cell_type": "markdown",
      "metadata": {
        "id": "17Pbk0ENN2fp"
      },
      "source": [
        "# Day 13"
      ]
    },
    {
      "cell_type": "code",
      "metadata": {
        "id": "vsIc8I_ny9dE",
        "cellView": "form"
      },
      "source": [
        "#@title Part 1 { form-width: \"20%\" }\r\n",
        "\r\n",
        "def d13p1(input_txt):\r\n",
        "  inputs = parse_ints(input_txt)\r\n",
        "  start, buses = inputs[0], np.array(inputs[1:])\r\n",
        "  first_bus_after_timestamp = ((start // buses) + 1) * buses\r\n",
        "  bus_id = buses[np.argmin(first_bus_after_timestamp)]\r\n",
        "  minutes_to_wait = np.min(first_bus_after_timestamp) - start\r\n",
        "  return bus_id * minutes_to_wait\r\n",
        "\r\n",
        "# It's day 13\r\n",
        "day = 13\r\n",
        "input_txt = get_input(day)\r\n",
        "ret = d13p1(input_txt)\r\n",
        "print(f'Bus ID times minutes to wait is: {ret}')"
      ],
      "execution_count": null,
      "outputs": []
    },
    {
      "cell_type": "code",
      "metadata": {
        "cellView": "form",
        "id": "gHKTzfF5N54s"
      },
      "source": [
        "#@title Part 2 { form-width: \"20%\" }\r\n",
        "\r\n",
        "# We need to parse differently now\r\n",
        "\r\n",
        "def parse_inputs(buses_line):\r\n",
        "    buses = parse_ints(buses_line)\r\n",
        "    subsequents = np.array(\r\n",
        "        [-i for i, ts in enumerate(buses_line.split(',')) if ts != 'x']\r\n",
        "    )\r\n",
        "    return buses, subsequents\r\n",
        "\r\n",
        "# Colab runs Pyton 3.6 so we need to run euclidean algorithm instead of an easy\r\n",
        "# oneliner -> s_i = pow(big_n_i, -1, bus_id)\r\n",
        "def euclidean_algo(a, b):\r\n",
        "    old_r, r = a, b\r\n",
        "    old_s, s = 1, 0\r\n",
        "    while r != 0:\r\n",
        "        q = old_r // r\r\n",
        "        old_r, r = r, old_r % r\r\n",
        "        old_s, s = s, old_s - q * s\r\n",
        "    return old_s\r\n",
        "\r\n",
        "\r\n",
        "def d13p2(lines):\r\n",
        "    buses, subsequents = parse_inputs(lines[1])\r\n",
        "    \r\n",
        "    # Chinese Remainder Theorem saves us lots of time, THANKS!\r\n",
        "    big_n = np.prod(buses)\r\n",
        "    big_n_i = big_n // buses\r\n",
        "    s_i = [euclidean_algo(n, id) for id, n in zip(buses, big_n_i)]\r\n",
        "    timestamp = sum(\r\n",
        "        [offset * s * n for offset, s, n in zip(subsequents, s_i, big_n_i)]\r\n",
        "    )\r\n",
        "    return timestamp % big_n\r\n",
        "\r\n",
        "lines = get_input_as_lines(day)\r\n",
        "ret = d13p2(lines)\r\n",
        "print(f'First timestamp that meets the condition is: {ret}')"
      ],
      "execution_count": null,
      "outputs": []
    },
    {
      "cell_type": "markdown",
      "metadata": {
        "id": "YjDVP4PfFXiL"
      },
      "source": [
        "# Day 14"
      ]
    },
    {
      "cell_type": "code",
      "metadata": {
        "id": "JI1Q3WJg6pNP",
        "cellView": "form"
      },
      "source": [
        "#@title Part 1 { form-width: \"20%\" }\r\n",
        "\r\n",
        "# This day's code will probably be refactored one day, i am pretty tired and i\r\n",
        "# should go to bed, anyway let's end this quickly\r\n",
        "\r\n",
        "def write_on_mem(mem, address, value, mask):\r\n",
        "  value = f'{value:036b}'\r\n",
        "  value = [mask[i] if mask[i] != 'X' else value[i] for i in range(len(mask))]\r\n",
        "  mem[address] = int(''.join(value), 2)\r\n",
        "\r\n",
        "def d14p1(lines):\r\n",
        "  mem = {}\r\n",
        "  for line in lines:\r\n",
        "    if line.startswith('mask'):\r\n",
        "      mask = line.split('=')[1].strip()\r\n",
        "    elif line.startswith('mem'):\r\n",
        "      address, value = parse_ints(line)\r\n",
        "      write_on_mem(mem, address, value, mask)\r\n",
        "  \r\n",
        "  return sum(mem.values())\r\n",
        "\r\n",
        "# It's day 14\r\n",
        "day = 14\r\n",
        "lines = get_input_as_lines(day)\r\n",
        "ret = d14p1(lines)\r\n",
        "print(f'Sum of all values left in memory is: {ret}')"
      ],
      "execution_count": null,
      "outputs": []
    },
    {
      "cell_type": "code",
      "metadata": {
        "id": "1XaotoFdJxJ0",
        "cellView": "form"
      },
      "source": [
        "#@title Part 2 { form-width: \"20%\" }\r\n",
        "\r\n",
        "def write_on_mem(mem, address, value, mask):\r\n",
        "  def actual_write(floatings):\r\n",
        "    floatings = list(reversed(floatings))\r\n",
        "    write_address = []\r\n",
        "    for i, mask_val in enumerate(mask):\r\n",
        "      if mask_val == '1': write_address.append(mask_val)\r\n",
        "      elif mask_val == 'X': write_address.append(floatings.pop())\r\n",
        "      else: write_address.append(address[i])\r\n",
        "    write_address = int(''.join(write_address), 2)\r\n",
        "    mem[write_address] = value\r\n",
        "\r\n",
        "  address = f'{address:036b}'\r\n",
        "  masked_address = [mask[i] if mask[i] != '0' else address[i] \r\n",
        "                    for i in range(len(mask))]\r\n",
        "  x_count = masked_address.count('X')\r\n",
        "  for fl in [f'{x:0{x_count}b}' for x in range(2**x_count)]:\r\n",
        "    actual_write(fl)\r\n",
        "\r\n",
        "ret = d14p1(lines)\r\n",
        "print(f'Sum of all values left in memory is: {ret}')"
      ],
      "execution_count": null,
      "outputs": []
    },
    {
      "cell_type": "markdown",
      "metadata": {
        "id": "XMhIjXK64o6d"
      },
      "source": [
        "# Day 15"
      ]
    },
    {
      "cell_type": "code",
      "metadata": {
        "id": "zYEkK2k64qVF",
        "cellView": "form"
      },
      "source": [
        "#@title Part 1 { form-width: \"20%\" }\r\n",
        "\r\n",
        "def d15p1(input_nums):\r\n",
        "  last_num = input_nums[-1]\r\n",
        "  for i in range(len(input_nums), 2020):\r\n",
        "    last_num = input_nums[-1]\r\n",
        "    if last_num not in input_nums[:-1]:\r\n",
        "      input_nums.append(0)\r\n",
        "    else:\r\n",
        "      input_nums.append(\r\n",
        "        # last occurence - previous occurence\r\n",
        "        len(input_nums) - (len(input_nums) - 1 - input_nums[:-1][::-1].index(last_num))\r\n",
        "      )\r\n",
        "\r\n",
        "  return input_nums[-1]\r\n",
        "\r\n",
        "# It's day 15, today input is not from some file\r\n",
        "input_nums = [8, 13, 1, 0, 18, 9]\r\n",
        "ret = d15p1(input_nums)\r\n",
        "print(f'2020th number spoken is: {ret}')"
      ],
      "execution_count": null,
      "outputs": []
    },
    {
      "cell_type": "code",
      "metadata": {
        "id": "EAdMKCrG4qh9",
        "cellView": "form"
      },
      "source": [
        "#@title Part 2 { form-width: \"20%\" }\r\n",
        "\r\n",
        "# Obviously list were the easy way, let's implemented the faster way\r\n",
        "def d15p2(input_nums):\r\n",
        "  spoken = {val: i + 1 for i, val in enumerate(input_nums)}\r\n",
        "  num = 0\r\n",
        "  for i in range(len(input_nums) + 1, 30000000):\r\n",
        "    if num in spoken:\r\n",
        "      spoken[num], num = i, i - spoken[num]\r\n",
        "    else:\r\n",
        "      spoken[num], num = i, 0\r\n",
        "\r\n",
        "  return num\r\n",
        "\r\n",
        "# It's day 15, today input is not from some file\r\n",
        "input_nums = [8, 13, 1, 0, 18, 9]\r\n",
        "ret = d15p2(input_nums)\r\n",
        "print(f'30.000.000-th number spoken is: {ret}')"
      ],
      "execution_count": null,
      "outputs": []
    },
    {
      "cell_type": "markdown",
      "metadata": {
        "id": "V-glvxGcJzXT"
      },
      "source": [
        "# Day 16"
      ]
    },
    {
      "cell_type": "code",
      "metadata": {
        "id": "qnvUSGDfJ1PL",
        "cellView": "form"
      },
      "source": [
        "#@title Part 1 { form-width: \"20%\" }\r\n",
        "\r\n",
        "def parse_rule(line):\r\n",
        "  k = line.split(':')[0]\r\n",
        "  v = []\r\n",
        "  for r1, r2 in re.findall(r'(\\d+)-(\\d+)', line):\r\n",
        "    v = itertools.chain(v, range(int(r1), int(r2) + 1))\r\n",
        "  return (k, list(v))\r\n",
        "\r\n",
        "def parse_inputs(lines):\r\n",
        "  # rules - ticket - nearby are divided by blank line\r\n",
        "  sep = lines.index('')\r\n",
        "  rules_lines = lines[:sep]\r\n",
        "  my_ticket = lines[sep + 2]  # line above stating 'your ticket' is useless\r\n",
        "  nearby = lines[sep + 5:]  # same as above\r\n",
        "  rules = [parse_rule(r) for r in rules_lines]\r\n",
        "\r\n",
        "  my_ticket = parse_ints(my_ticket)\r\n",
        "  nearbies = [parse_ints(n) for n in nearby]\r\n",
        "  return rules, my_ticket, nearbies\r\n",
        "\r\n",
        "def scanning_error(ticket, rules):\r\n",
        "  return sum(\r\n",
        "      [val for val in ticket \r\n",
        "      if all(val not in r for r in rules)]\r\n",
        "  )\r\n",
        "\r\n",
        "def d16p1(lines):\r\n",
        "  rules, my_ticket, nearbies = parse_inputs(lines)\r\n",
        "  rules_values = [r[1] for r in rules]\r\n",
        "  return sum([scanning_error(t, rules_values) for t in nearbies])\r\n",
        "\r\n",
        "\r\n",
        "# It's day 16\r\n",
        "day = 16\r\n",
        "lines = get_input_as_lines(day)\r\n",
        "ret = d16p1(lines)\r\n",
        "print(f'Number of invalid tickets is: {ret}')"
      ],
      "execution_count": null,
      "outputs": []
    },
    {
      "cell_type": "code",
      "metadata": {
        "id": "tG6vajWNJ05r",
        "cellView": "form"
      },
      "source": [
        "#@title Part 2 { form-width: \"20%\" }\r\n",
        "\r\n",
        "def possible_columns(rules, valid_tickets):\r\n",
        "  ret = []\r\n",
        "  for rule in rules:\r\n",
        "    valid = []\r\n",
        "    for i in range(len(rules)):\r\n",
        "      if sum([scanning_error([t[i]], [rule[1]]) for t in valid_tickets]) == 0:\r\n",
        "        valid.append(i)\r\n",
        "    ret.append(valid)\r\n",
        "  return ret\r\n",
        "\r\n",
        "# Gotta admit this was a bit hard, so i preferred saving some time and get\r\n",
        "# from StackOverflow\r\n",
        "def product_without_duplicates(*cols):\r\n",
        "  def inner(i):\r\n",
        "    if i == n:\r\n",
        "      yield tuple(result)\r\n",
        "      return\r\n",
        "    for elt in sets[i] - seen:\r\n",
        "      seen.add(elt)\r\n",
        "      result[i] = elt\r\n",
        "      for t in inner(i+1):\r\n",
        "        yield t\r\n",
        "      seen.remove(elt)\r\n",
        "\r\n",
        "  sets = [set(seq) for seq in cols]\r\n",
        "  n = len(sets)\r\n",
        "  seen = set()\r\n",
        "  result = [None] * n\r\n",
        "  for t in inner(0):\r\n",
        "    yield t\r\n",
        "\r\n",
        "def d16p2(lines):\r\n",
        "  rules, my_ticket, nearbies = parse_inputs(lines)\r\n",
        "  rules_values = [r[1] for r in rules]\r\n",
        "  valid_tickets = [t for t in nearbies if scanning_error(t, rules_values) == 0]\r\n",
        "  cols = possible_columns(rules, valid_tickets)\r\n",
        "  for perm in product_without_duplicates(*cols):\r\n",
        "    rules_values = [rules[r][1] for r in perm]\r\n",
        "    if sum([scanning_error(t, rules_values) for t in valid_tickets]) == 0:\r\n",
        "      return np.prod([my_ticket[i] for i, p in enumerate(perm)\r\n",
        "                      if rules[i][0].startswith('departure')])\r\n",
        "\r\n",
        "ret = d16p2(lines)\r\n",
        "print(f'Multiplication of desired values in my ticket is: {ret}')"
      ],
      "execution_count": null,
      "outputs": []
    },
    {
      "cell_type": "markdown",
      "metadata": {
        "id": "ne45JUIgC-Cd"
      },
      "source": [
        "# Day 17"
      ]
    },
    {
      "cell_type": "code",
      "metadata": {
        "id": "EKzemYd7YDIn",
        "cellView": "form"
      },
      "source": [
        "#@title Part 1 { form-width: \"20%\" }\r\n",
        "\r\n",
        "def parse_input_grid(lines):\r\n",
        "    grid = [\r\n",
        "        [1 if x == '#' else 0 for x in line]\r\n",
        "        for line in lines\r\n",
        "    ]\r\n",
        "    return np.array(grid)\r\n",
        "\r\n",
        "\r\n",
        "def neighbours(pos):\r\n",
        "    possible_moves = list(itertools.product([-1, 0, 1], repeat=len(pos)))\r\n",
        "    # We are not neighbours of ourselves\r\n",
        "    possible_moves.remove((0,) * len(pos))\r\n",
        "    for s in possible_moves:\r\n",
        "        yield tuple(np.array(pos) + np.array(s))\r\n",
        "\r\n",
        "\r\n",
        "def round_op(cubes):\r\n",
        "  def check_cube(pos):\r\n",
        "    active_neighbors = sum([cubes[p]\r\n",
        "                            for p in neighbours(pos)\r\n",
        "                            if all([0 <= dim < cubes.shape[i] \r\n",
        "                                    for i, dim in enumerate(p)])\r\n",
        "                           ])\r\n",
        "    if cubes[pos]:\r\n",
        "      return 1 if active_neighbors in [2, 3] else 0\r\n",
        "    else:\r\n",
        "      return 1 if active_neighbors == 3 else 0\r\n",
        "\r\n",
        "  return np.array([check_cube(pos) \r\n",
        "                  for pos, _ in np.ndenumerate(cubes)]\r\n",
        "                  ).reshape(cubes.shape)\r\n",
        "\r\n",
        "def d17p1(lines, rounds):\r\n",
        "  cubes = parse_input_grid(lines)\r\n",
        "  cubes = np.expand_dims(cubes, -1)\r\n",
        "  for i in range(rounds):\r\n",
        "    cubes = np.pad(cubes, 1)\r\n",
        "    cubes = round_op(cubes)\r\n",
        "  return np.sum(cubes)\r\n",
        "\r\n",
        "# It's day 17\r\n",
        "day = 17\r\n",
        "lines = get_input_as_lines(day)\r\n",
        "ret = d17p1(lines, 6)\r\n",
        "print(f'After 6 rounds, number of active cubes is {ret}')"
      ],
      "execution_count": null,
      "outputs": []
    },
    {
      "cell_type": "code",
      "metadata": {
        "id": "yLLv3OZRsCEZ",
        "cellView": "form"
      },
      "source": [
        "#@title Part 2 { form-width: \"20%\" }\r\n",
        "\r\n",
        "# This takes a little bit of time (around 1m 30s), should investigate how to \r\n",
        "# optimize that\r\n",
        "def d17p2(lines, rounds):\r\n",
        "  cubes = parse_input_grid(lines)\r\n",
        "  cubes = np.expand_dims(np.expand_dims(cubes, -1), -1)\r\n",
        "  for i in range(rounds):\r\n",
        "    cubes = np.pad(cubes, 1)\r\n",
        "    cubes = round_op(cubes)\r\n",
        "  return np.sum(cubes)\r\n",
        "\r\n",
        "ret = d17p2(lines, 6)\r\n",
        "print(f'After 6 rounds, number of active cubes is {ret}')"
      ],
      "execution_count": null,
      "outputs": []
    },
    {
      "cell_type": "markdown",
      "metadata": {
        "id": "k3fabGzPXcnk"
      },
      "source": [
        "# Day 18"
      ]
    },
    {
      "cell_type": "code",
      "metadata": {
        "colab": {
          "base_uri": "https://localhost:8080/"
        },
        "cellView": "form",
        "id": "h77Sm_t1Xb0_",
        "outputId": "fddabb2d-0f7d-434d-9fb3-9051ff3e3ba1"
      },
      "source": [
        "#@title Part 1 { form-width: \"20%\" }\r\n",
        "\r\n",
        "def solve_simple(line):\r\n",
        "    line = line.replace('(', '').replace(')', '')\r\n",
        "    ret = 0\r\n",
        "    next_op = '+'\r\n",
        "    if len(line) < 2:\r\n",
        "        return ret\r\n",
        "    for c in re.split(r'(\\+|\\*)', line):\r\n",
        "        if c == '+' or c == '*':\r\n",
        "            next_op = c\r\n",
        "        elif c.strip().isdigit():\r\n",
        "            ret = ret + int(c) if next_op == '+' else ret * int(c)\r\n",
        "\r\n",
        "    return ret\r\n",
        "\r\n",
        "\r\n",
        "def resolve(line):\r\n",
        "    while len(re.findall(r'(\\([0-9+* ]+\\))', line)) > 0:\r\n",
        "        for par in re.findall(r'(\\([0-9+* ]+\\))', line):\r\n",
        "            line = line.replace(par, str(solve_simple(par)))\r\n",
        "\r\n",
        "    return solve_simple(line)\r\n",
        "\r\n",
        "\r\n",
        "def d18p1(lines):\r\n",
        "    return sum([resolve(line) for line in lines])\r\n",
        "\r\n",
        "# It's day 18\r\n",
        "day = 18\r\n",
        "lines = get_input_as_lines(day)\r\n",
        "ret = d18p1(lines)\r\n",
        "print(f'Sum of results is: {ret}')"
      ],
      "execution_count": null,
      "outputs": [
        {
          "output_type": "stream",
          "text": [
            "Sum of results is: 69490582260\n",
            "time: 810 ms (started: 2020-12-22 12:14:46 +00:00)\n"
          ],
          "name": "stdout"
        }
      ]
    },
    {
      "cell_type": "code",
      "metadata": {
        "colab": {
          "base_uri": "https://localhost:8080/"
        },
        "id": "8IkBoA6RX42j",
        "cellView": "form",
        "outputId": "88b63918-899d-4e13-c70b-522f78e37333"
      },
      "source": [
        "#@title Part 2 { form-width: \"20%\" }\r\n",
        "\r\n",
        "# We need to solve plus first, then muls\r\n",
        "# Little changes to consider overflows\r\n",
        "\r\n",
        "def solve_simple(line):\r\n",
        "    while len(re.findall(r'(\\d+ \\+ \\d+)+', line)) > 0:\r\n",
        "        for plus in re.findall(r'(\\d+ \\+ \\d+)+', line)[:1]:\r\n",
        "            line = line.replace(plus, str(sum(parse_ints(plus))))\r\n",
        "\r\n",
        "    return np.prod(np.longlong(parse_ints(line)))\r\n",
        "\r\n",
        "def resolve(line):\r\n",
        "    while len(re.findall(r'(\\([0-9+* ]+\\))', line)) > 0:\r\n",
        "        for par in re.findall(r'(\\([0-9+* ]+\\))', line):\r\n",
        "            line = line.replace(par, str(solve_simple(par)))\r\n",
        "\r\n",
        "    return np.longlong(solve_simple(line))\r\n",
        "\r\n",
        "ret = d18p1(lines)\r\n",
        "print(f'Sum of results is: {ret}')"
      ],
      "execution_count": null,
      "outputs": [
        {
          "output_type": "stream",
          "text": [
            "Sum of results is: 362464596624526\n",
            "time: 49.3 ms (started: 2020-12-22 12:40:54 +00:00)\n"
          ],
          "name": "stdout"
        }
      ]
    },
    {
      "cell_type": "markdown",
      "metadata": {
        "id": "o719MNMsY8TA"
      },
      "source": [
        "# Day 19"
      ]
    },
    {
      "cell_type": "code",
      "metadata": {
        "id": "6-tEifqhY9zq",
        "colab": {
          "base_uri": "https://localhost:8080/"
        },
        "cellView": "form",
        "outputId": "bfc8edb9-ef71-419a-b832-5cd53be57edf"
      },
      "source": [
        "#@title Part 1 { form-width: \"20%\" }\r\n",
        "\r\n",
        "# I will highly leverage the re package, after all this day is just a remake of\r\n",
        "# regex matching\r\n",
        "\r\n",
        "def process_rule(rules, number):\r\n",
        "  ret = \"(\"\r\n",
        "  rule = rules[number].split()\r\n",
        "\r\n",
        "  for val in rule:\r\n",
        "    if val.isnumeric():\r\n",
        "      ret += process_rule(rules, val)\r\n",
        "    else:\r\n",
        "      ret += val\r\n",
        "\r\n",
        "  return ret + \")\"\r\n",
        "\r\n",
        "def d19p1(lines):\r\n",
        "  rules, messages = lines[:lines.index('')], lines[lines.index('') + 1:]\r\n",
        "  rules_dict = {\r\n",
        "      rule.split(\": \")[0]: rule.split(\": \")[1].replace('\"','')\r\n",
        "      for rule in rules\r\n",
        "  }\r\n",
        "\r\n",
        "  regex = re.compile(process_rule(rules_dict, \"0\"))\r\n",
        "  ret = [1 if re.fullmatch(regex, msg) else 0 for msg in messages]\r\n",
        "  return sum(ret)\r\n",
        "\r\n",
        "# It's day 19\r\n",
        "day = 19\r\n",
        "lines = get_input_as_lines(day)\r\n",
        "ret = d19p1(lines)\r\n",
        "print(f'Number of messages that match rule 0 is: {ret}')"
      ],
      "execution_count": null,
      "outputs": [
        {
          "output_type": "stream",
          "text": [
            "Number of messages that match rule 0 is: 224\n",
            "time: 85.5 ms (started: 2021-02-22 21:53:28 +00:00)\n"
          ],
          "name": "stdout"
        }
      ]
    },
    {
      "cell_type": "code",
      "metadata": {
        "id": "XmbB1JAsZL0H",
        "colab": {
          "base_uri": "https://localhost:8080/"
        },
        "cellView": "form",
        "outputId": "13ab8523-9782-4c90-8f01-97a43cdce55d"
      },
      "source": [
        "#@title Part 2 { form-width: \"20%\" }\r\n",
        "def d19p2(lines):\r\n",
        "  rules, messages = lines[:lines.index('')], lines[lines.index('') + 1:]\r\n",
        "  rules_dict = {\r\n",
        "      rule.split(\": \")[0]: rule.split(\": \")[1].replace('\"','')\r\n",
        "      for rule in rules\r\n",
        "  }\r\n",
        "  # hard coded for brevity\r\n",
        "  rules_dict[\"8\"] = \"42 +\"\r\n",
        "  rules_dict[\"11\"] = \"42 ( 42 ( 42 ( 42 ( 42 ( 42 ( 42 ( 42 ( 42 ( 42 ( 42 31 )? 31 )? 31 )? 31 )? 31 )? 31 )? 31 )? 31 )? 31 )? 31 )? 31\"\r\n",
        "  regex = re.compile(process_rule(rules_dict, \"0\"))\r\n",
        "  ret = [1 if re.fullmatch(regex, msg) else 0 for msg in messages]\r\n",
        "  return sum(ret)\r\n",
        "\r\n",
        "# It's day 19\r\n",
        "day = 19\r\n",
        "lines = get_input_as_lines(day)\r\n",
        "ret = d19p2(lines)\r\n",
        "print(f'Number of messages that match rule 0 is: {ret}')"
      ],
      "execution_count": null,
      "outputs": [
        {
          "output_type": "stream",
          "text": [
            "Number of messages that match rule 0 is: 436\n",
            "time: 625 ms (started: 2021-02-22 22:38:03 +00:00)\n"
          ],
          "name": "stdout"
        }
      ]
    },
    {
      "cell_type": "markdown",
      "metadata": {
        "id": "Do9Ou0DjfYw4"
      },
      "source": [
        "# Day 20"
      ]
    },
    {
      "cell_type": "code",
      "metadata": {
        "id": "APR61SNIfbkd",
        "colab": {
          "base_uri": "https://localhost:8080/"
        },
        "cellView": "form",
        "outputId": "9c0dbd6e-c3b9-4ee0-ae30-db0068e73b7e"
      },
      "source": [
        "#@title Part 1 { form-width: \"20%\" }\r\n",
        "\r\n",
        "def parse_inputs(lines):\r\n",
        "  def parse_tile(tile_block):\r\n",
        "    uid = int(re.findall(r'([\\d]+)', tile_block[0])[0])\r\n",
        "    square_dim = len(tile_block[1:])\r\n",
        "    tiles[uid] = np.array(\r\n",
        "        [1 if x == '#' else 0 for line in tile_block[1:] for x in line]\r\n",
        "    ).reshape((square_dim, square_dim))\r\n",
        "\r\n",
        "  tiles = {}\r\n",
        "  for tile in splitter(lines, ''):\r\n",
        "    parse_tile(tile)\r\n",
        "\r\n",
        "  return tiles\r\n",
        "\r\n",
        "\r\n",
        "def edges(tile):\r\n",
        "  return list(map(tuple, [tile[0], tile[:, -1], tile[-1], tile[:, 0]]))\r\n",
        "\r\n",
        "def top_edge(tile): return tile[0]\r\n",
        "def left_edge(tile): return tile[:, 0]\r\n",
        "def bottom_edge(tile): return tile[-1]\r\n",
        "def right_edge(tile): return tile[:, -1]\r\n",
        "\r\n",
        "def flip(tile):\r\n",
        "  return np.flip(tile, 0)\r\n",
        "\r\n",
        "\r\n",
        "def rot90(tile):\r\n",
        "  return np.rot90(tile)\r\n",
        "\r\n",
        "\r\n",
        "def transform(tile):\r\n",
        "  ret = [tile]\r\n",
        "  tmp = copy.deepcopy(tile)\r\n",
        "  for _ in range(3):\r\n",
        "    ret.append(rot90(tmp))\r\n",
        "    tmp = rot90(tmp)\r\n",
        "  ret += [flip(t) for t in ret]\r\n",
        "  return ret\r\n",
        "\r\n",
        "\r\n",
        "def d20p1(lines):\r\n",
        "  tiles = parse_inputs(lines)\r\n",
        "  all_transforms = {k: transform(v) for k, v in tiles.items()}\r\n",
        "  possible_edges = {}\r\n",
        "  for uid, tile in tiles.items():\r\n",
        "    possible_edges[uid] = set.union(*[set(edges(t)) for t in transform(tile)])\r\n",
        "\r\n",
        "  dim = int(len(tiles) ** 0.5)\r\n",
        "  grid = np.array([[(None, None)] * dim for _ in range(dim)])\r\n",
        "  used = set()\r\n",
        "\r\n",
        "  possible_neighbor = collections.defaultdict(list)\r\n",
        "  for i, j in itertools.combinations(tiles.keys(), 2):\r\n",
        "    if len(possible_edges[i] & possible_edges[j]) == 2:\r\n",
        "      possible_neighbor[i].append(j)\r\n",
        "      possible_neighbor[j].append(i)\r\n",
        "\r\n",
        "  def recursion(pos):\r\n",
        "    row, col = np.divmod(pos, dim)\r\n",
        "    if pos == dim**2:\r\n",
        "      return True\r\n",
        "    if pos == 0:\r\n",
        "      neighbors = tiles.keys()\r\n",
        "    else:\r\n",
        "      neighbors = set()\r\n",
        "      if row > 0:\r\n",
        "        neighbors = neighbors.union(set(possible_neighbor[grid[row - 1, col][0]]))\r\n",
        "      if col > 0:\r\n",
        "        neighbors = neighbors.union(set(possible_neighbor[grid[row, col - 1][0]]))\r\n",
        "    for tile_id in neighbors:\r\n",
        "      if tile_id in used:\r\n",
        "        continue\r\n",
        "      for i, t in enumerate(all_transforms[tile_id]):\r\n",
        "        top, left = True, True\r\n",
        "        if row > 0:\r\n",
        "          top_id, top_transform = grid[row - 1, col]\r\n",
        "          top_tile = all_transforms[top_id][top_transform]\r\n",
        "          top = all(bottom_edge(top_tile) == top_edge(t))\r\n",
        "        if col > 0:\r\n",
        "          left_id, left_transform = grid[row, col - 1]\r\n",
        "          left_tile = all_transforms[left_id][left_transform]\r\n",
        "          left = all(right_edge(left_tile) == left_edge(t))\r\n",
        "        if top and left:\r\n",
        "          grid[row, col] = tile_id, i\r\n",
        "          used.add(tile_id)\r\n",
        "          if recursion(pos + 1):\r\n",
        "            return True\r\n",
        "          used.remove(tile_id)\r\n",
        "    return False\r\n",
        "\r\n",
        "  recursion(0)\r\n",
        "\r\n",
        "  corners = [grid[r, c][0] for r, c in [(0, 0), (0, dim-1), (dim-1, 0), (dim-1, dim-1)]]\r\n",
        "\r\n",
        "  return corners, grid\r\n",
        "\r\n",
        "\r\n",
        "\r\n",
        "# It's day 20\r\n",
        "day = 20\r\n",
        "lines = get_input_as_lines(day)\r\n",
        "ret, _ = d20p1(lines)\r\n",
        "print(f'Product of 4 corners is: {np.prod(ret, dtype=np.longlong)}')"
      ],
      "execution_count": 6,
      "outputs": [
        {
          "output_type": "stream",
          "text": [
            "Product of 4 corners is: 7901522557967\n",
            "time: 413 ms (started: 2021-03-07 00:26:47 +00:00)\n"
          ],
          "name": "stdout"
        }
      ]
    },
    {
      "cell_type": "code",
      "metadata": {
        "colab": {
          "base_uri": "https://localhost:8080/"
        },
        "id": "vl85oWh7fdqE",
        "cellView": "form",
        "outputId": "3ec09cc8-c653-4214-a049-7416de582ed2"
      },
      "source": [
        "#@title Part 2 { form-width: \"20%\" }\r\n",
        "\r\n",
        "def d20p2(lines):\r\n",
        "  _, grid = d20p1(lines)\r\n",
        "  tiles = parse_inputs(lines)\r\n",
        "  all_transforms = {k: transform(v) for k, v in tiles.items()}\r\n",
        "  image = np.concatenate(\r\n",
        "    [\r\n",
        "      np.concatenate(\r\n",
        "        [all_transforms[grid[i, j][0]][grid[i, j][1]][1:-1, 1:-1]\r\n",
        "         for j in range(12)],\r\n",
        "        axis=1\r\n",
        "      )\r\n",
        "      for i in range(12)\r\n",
        "    ],\r\n",
        "    axis=0\r\n",
        "  )\r\n",
        "\r\n",
        "  string = '                  # \\n#    ##    ##    ###\\n #  #  #  #  #  #   '\r\n",
        "  sea_monster = np.array(\r\n",
        "      [\r\n",
        "          [1 if c == '#' else 0 for c in line]\r\n",
        "          for line in string.splitlines()\r\n",
        "      ]\r\n",
        "  )\r\n",
        "\r\n",
        "  count = 0\r\n",
        "  for img in transform(image):\r\n",
        "    for i in range(img.shape[0] - sea_monster.shape[0] + 1):\r\n",
        "      for j in range(img.shape[1] - sea_monster.shape[1] + 1):\r\n",
        "        check = img[i:i+sea_monster.shape[0], j:j+sea_monster.shape[1]]\r\n",
        "        if ((check & sea_monster) == sea_monster).all():\r\n",
        "          count += 1\r\n",
        "    if count: break\r\n",
        "\r\n",
        "  return np.sum(image) - count * np.sum(sea_monster)\r\n",
        "\r\n",
        "# It's day 20\r\n",
        "day = 20\r\n",
        "lines = get_input_as_lines(day)\r\n",
        "ret = d20p2(lines)\r\n",
        "print(f'Number of \\'#\\' not in sea monsters is: {ret}')"
      ],
      "execution_count": 7,
      "outputs": [
        {
          "output_type": "stream",
          "text": [
            "Number of '#' not in sea monsters is: 2476\n",
            "time: 609 ms (started: 2021-03-07 00:30:05 +00:00)\n"
          ],
          "name": "stdout"
        }
      ]
    },
    {
      "cell_type": "markdown",
      "metadata": {
        "id": "fVPfF6DVw5yE"
      },
      "source": [
        "# Day 21"
      ]
    },
    {
      "cell_type": "code",
      "metadata": {
        "id": "7lLgGArPw5Tl",
        "colab": {
          "base_uri": "https://localhost:8080/"
        },
        "cellView": "form",
        "outputId": "dad433fc-a5fd-4c12-f820-cebef2b971b2"
      },
      "source": [
        "#@title Part 1 { form-width: \"20%\" }\r\n",
        "\r\n",
        "def d21p1(lines):\r\n",
        "  def split_ingredients_allergens(line):\r\n",
        "    ingredients, allergens = line.split('(')\r\n",
        "    ingredients = re.findall(r'(\\w+)+', ingredients)\r\n",
        "    allergens = re.findall(r'(\\w+)+', allergens)[1:]\r\n",
        "    return set(ingredients), set(allergens)\r\n",
        "\r\n",
        "  allergens_dict = {}\r\n",
        "  ing_count = collections.defaultdict(int)\r\n",
        "  for line in lines:\r\n",
        "    ingredients, allergens = split_ingredients_allergens(line)\r\n",
        "    for all in allergens:\r\n",
        "      if all in allergens_dict:\r\n",
        "        allergens_dict[all].intersection_update(ingredients)\r\n",
        "      else:\r\n",
        "        allergens_dict[all] = set(ingredients)\r\n",
        "\r\n",
        "    for ing in ingredients:\r\n",
        "      ing_count[ing] += 1\r\n",
        "\r\n",
        "  ret = sum(\r\n",
        "      [ing_count[x] for x in ing_count if not any(x in a for a in allergens_dict.values())]\r\n",
        "  )\r\n",
        "\r\n",
        "  return ret, allergens_dict\r\n",
        "\r\n",
        "\r\n",
        "# It's day 21\r\n",
        "day = 21\r\n",
        "lines = get_input_as_lines(day)\r\n",
        "ret, a = d21p1(lines)\r\n",
        "print(f'Ingredients that cannot possibly contain any of the allergens appear {ret} times')"
      ],
      "execution_count": null,
      "outputs": [
        {
          "output_type": "stream",
          "text": [
            "Ingredients that cannot possibly contain any of the allergens appear 2211 times\n",
            "time: 160 ms (started: 2021-02-27 08:08:37 +00:00)\n"
          ],
          "name": "stdout"
        }
      ]
    },
    {
      "cell_type": "code",
      "metadata": {
        "colab": {
          "base_uri": "https://localhost:8080/"
        },
        "id": "bXEHhnE67QSL",
        "cellView": "form",
        "outputId": "45551243-2193-4d2e-bc3c-bddcfa892070"
      },
      "source": [
        "#@title Part 2 { form-width: \"20%\" }\r\n",
        "\r\n",
        "def d21p2(lines):\r\n",
        "  def update_dict(ingredient):\r\n",
        "    for a in allergens_dict:\r\n",
        "      if ingredient in allergens_dict[a]:\r\n",
        "        allergens_dict[a].discard(ingredient)\r\n",
        "\r\n",
        "  allergens_dict = d21p1(lines)[1]\r\n",
        "  tot = len(allergens_dict)\r\n",
        "  identified = []\r\n",
        "  while len(identified) < tot:\r\n",
        "    for a in allergens_dict:\r\n",
        "      if len(allergens_dict[a]) == 1:\r\n",
        "        ing = allergens_dict[a].pop()\r\n",
        "        identified.append((a, ing))\r\n",
        "        update_dict(ing)\r\n",
        "  \r\n",
        "  identified = [x[1] for x in sorted(identified, key=lambda x: x[0])]\r\n",
        "\r\n",
        "  return ','.join(identified)\r\n",
        "\r\n",
        "\r\n",
        "# It's day 21\r\n",
        "day = 21\r\n",
        "lines = get_input_as_lines(day)\r\n",
        "ret = d21p2(lines)\r\n",
        "print(f'My canonical dangerous ingredient list is: {ret}')"
      ],
      "execution_count": null,
      "outputs": [
        {
          "output_type": "stream",
          "text": [
            "My canonical dangerous ingredient list is: vv,nlxsmb,rnbhjk,bvnkk,ttxvphb,qmkz,trmzkcfg,jpvz\n",
            "time: 83.1 ms (started: 2021-02-26 18:58:06 +00:00)\n"
          ],
          "name": "stdout"
        }
      ]
    },
    {
      "cell_type": "markdown",
      "metadata": {
        "id": "VnnPQJjczLbJ"
      },
      "source": [
        "# Day 22"
      ]
    },
    {
      "cell_type": "code",
      "metadata": {
        "colab": {
          "base_uri": "https://localhost:8080/"
        },
        "id": "62Mg1IEIzLB7",
        "cellView": "form",
        "outputId": "33b0f949-4427-4c79-f0c9-775fbae66233"
      },
      "source": [
        "#@title Part 1 { form-width: \"20%\" }\r\n",
        "\r\n",
        "def get_decks(lines):\r\n",
        "  deck1 = [int(n) for n in lines[:lines.index('')] if n.isdigit()]\r\n",
        "  deck2 = [int(n) for n in lines[lines.index(''):] if n.isdigit()]\r\n",
        "  return deck1, deck2\r\n",
        "\r\n",
        "def d22p1(lines):\r\n",
        "  p1, p2 = get_decks(lines)\r\n",
        "  _, ret = play_game(p1, p2)\r\n",
        "  return ret\r\n",
        "\r\n",
        "def proc_round(p1, p2):\r\n",
        "  p1_card = p1.pop(0)\r\n",
        "  p2_card = p2.pop(0)\r\n",
        "  if p1_card > p2_card:\r\n",
        "    p1.extend([p1_card, p2_card])\r\n",
        "  else:\r\n",
        "    p2.extend([p2_card, p1_card])\r\n",
        "  \r\n",
        "def play_game(p1, p2):\r\n",
        "  while len(p1) > 0 and len(p2) > 0:\r\n",
        "    proc_round(p1, p2)\r\n",
        "\r\n",
        "  ret_v = p1 if len(p1) > 0 else p2\r\n",
        "  ret_p = 0 if len(p1) > 0 else 1\r\n",
        "  return ret_p, np.sum(\r\n",
        "      np.array(ret_v) * np.array(list(reversed(range(1, len(ret_v)+1))))\r\n",
        "  )\r\n",
        "\r\n",
        "\r\n",
        "# It's day 22\r\n",
        "day = 22\r\n",
        "lines = get_input_as_lines(day)\r\n",
        "ret = d22p1(lines)\r\n",
        "print(f'Winning player\\'s score is: {ret}')"
      ],
      "execution_count": null,
      "outputs": [
        {
          "output_type": "stream",
          "text": [
            "Winning player's score is: 34664\n",
            "time: 168 ms (started: 2021-02-27 09:30:31 +00:00)\n"
          ],
          "name": "stdout"
        }
      ]
    },
    {
      "cell_type": "code",
      "metadata": {
        "colab": {
          "base_uri": "https://localhost:8080/"
        },
        "id": "eiiCoN1-zU7x",
        "cellView": "form",
        "outputId": "04f39dc0-da8b-4e42-f52a-baac5f22bbab"
      },
      "source": [
        "#@title Part 2 { form-width: \"20%\" }\r\n",
        "\r\n",
        "# We just need to change the round processing to get some recursion\r\n",
        "# And to add the infinite loop check\r\n",
        "def proc_round(p1, p2, played1, played2):\r\n",
        "  if tuple(p1) in played1 or tuple(p2) in played2:\r\n",
        "    return None\r\n",
        "  played1.add(tuple(p1))\r\n",
        "  played2.add(tuple(p2))\r\n",
        "\r\n",
        "  p1_card = p1.pop(0)\r\n",
        "  p2_card = p2.pop(0)\r\n",
        "\r\n",
        "  winner = 0 if p1_card > p2_card else 1\r\n",
        "  if len(p1) >= p1_card and len(p2) >= p2_card:\r\n",
        "    winner, _ = play_game(p1[:p1_card], p2[:p2_card])\r\n",
        "\r\n",
        "  if winner == 0:\r\n",
        "    p1.extend([p1_card, p2_card])\r\n",
        "  else:  # winner == 1\r\n",
        "    p2.extend([p2_card, p1_card])\r\n",
        "\r\n",
        "  return winner\r\n",
        "\r\n",
        "def play_game(p1, p2):\r\n",
        "  played1, played2 = set(), set()\r\n",
        "  while len(p1) > 0 and len(p2) > 0:\r\n",
        "    now = proc_round(p1, p2, played1, played2)\r\n",
        "    if now is None:\r\n",
        "      p2 = []\r\n",
        "      break\r\n",
        "\r\n",
        "  ret_v = p1 if len(p1) > 0 else p2\r\n",
        "  ret_p = 0 if len(p1) > 0 else 1\r\n",
        "  return ret_p, np.sum(\r\n",
        "    np.array(ret_v) * np.array(list(reversed(range(1, len(ret_v) + 1))))\r\n",
        "  )\r\n",
        "\r\n",
        "\r\n",
        "ret = d22p1(lines)\r\n",
        "print(f'Winning player\\'s score is: {ret}')"
      ],
      "execution_count": null,
      "outputs": [
        {
          "output_type": "stream",
          "text": [
            "Winning player's score is: 32018\n",
            "time: 1.16 s (started: 2021-02-27 09:45:49 +00:00)\n"
          ],
          "name": "stdout"
        }
      ]
    },
    {
      "cell_type": "markdown",
      "metadata": {
        "id": "NJ7haW5U4w8M"
      },
      "source": [
        "# Day 23"
      ]
    },
    {
      "cell_type": "code",
      "metadata": {
        "colab": {
          "base_uri": "https://localhost:8080/"
        },
        "id": "2ZNElDh8TPuJ",
        "cellView": "form",
        "outputId": "89f14b8d-1d3c-472f-b3dd-f8f64105159c"
      },
      "source": [
        "#@title Part 1 { form-width: \"20%\" }\r\n",
        "\r\n",
        "# Needed a while to implement all this, so i want to document a bit.\r\n",
        "# Since part 2 asks for an efficient implementation, instead of using an array\r\n",
        "# that gets rolled many times, I'm using a 'successor' array where the i-th \r\n",
        "# position means that the successor of value i is successor[i]. This way only 3\r\n",
        "# values get swapped every loop.\r\n",
        "# To be cleaner, also the destination check has been more efficient\r\n",
        "# Result is not \"efficient\", but 15s for part 2 is way better than initial\r\n",
        "# 4 days required by quick and dirty implementation :)\r\n",
        "\r\n",
        "def d23p1(cups, moves):\r\n",
        "  def get_next(pos, n):\r\n",
        "    r = []\r\n",
        "    for i in range(n):\r\n",
        "      r.append(succ[pos])\r\n",
        "      pos = succ[pos]\r\n",
        "    return r\r\n",
        "\r\n",
        "  succ = [None] * (len(cups) + 1)\r\n",
        "  for i, x in enumerate(cups):\r\n",
        "    succ[x] = cups[(i+1) % len(cups)]\r\n",
        "\r\n",
        "  curr_pos = cups[0]\r\n",
        "  for _ in range(moves):\r\n",
        "    three = get_next(curr_pos, 3)\r\n",
        "\r\n",
        "    dst = curr_pos - 1\r\n",
        "    while True:\r\n",
        "      if dst < 1:\r\n",
        "        dst = max(cups)\r\n",
        "      if dst not in three:\r\n",
        "        break\r\n",
        "      dst -= 1\r\n",
        "\r\n",
        "    succ[curr_pos], succ[dst], succ[three[-1]] = succ[three[-1]], succ[curr_pos], succ[dst]\r\n",
        "\r\n",
        "    curr_pos = succ[curr_pos]\r\n",
        "\r\n",
        "  return get_next(1, 8)\r\n",
        "\r\n",
        "\r\n",
        "\r\n",
        "# It's day 23.. but no input from the net\r\n",
        "cups = list(map(int, '394618527'))\r\n",
        "ret = d23p1(cups, 100)\r\n",
        "ret = ''.join(map(str, ret))\r\n",
        "print(f'Final label order: {ret}')"
      ],
      "execution_count": null,
      "outputs": [
        {
          "output_type": "stream",
          "text": [
            "Final label order: 78569234\n",
            "time: 41.3 ms (started: 2021-02-27 18:13:47 +00:00)\n"
          ],
          "name": "stdout"
        }
      ]
    },
    {
      "cell_type": "code",
      "metadata": {
        "colab": {
          "base_uri": "https://localhost:8080/"
        },
        "cellView": "form",
        "id": "ra_1RpYd5TEK",
        "outputId": "774add29-675c-421e-e648-19d5012a877b"
      },
      "source": [
        "#@title Part 2 { form-width: \"20%\" }\r\n",
        "\r\n",
        "cups = list(map(int, '394618527'))\r\n",
        "max_num = max(cups)\r\n",
        "for i in range(max_num + 1, 1_000_001):\r\n",
        "  cups.append(i)\r\n",
        "ret = d23p1(cups, 10_000_000)\r\n",
        "ret = ret[0] * ret[1]\r\n",
        "print(f'Final label order: {ret}')"
      ],
      "execution_count": null,
      "outputs": [
        {
          "output_type": "stream",
          "text": [
            "Final label order: 565615814504\n",
            "time: 15.7 s (started: 2021-02-27 18:14:24 +00:00)\n"
          ],
          "name": "stdout"
        }
      ]
    },
    {
      "cell_type": "markdown",
      "metadata": {
        "id": "sFGkPV9StOMl"
      },
      "source": [
        "# Day 24"
      ]
    },
    {
      "cell_type": "code",
      "metadata": {
        "id": "Cgcom3HltPpF",
        "colab": {
          "base_uri": "https://localhost:8080/"
        },
        "cellView": "form",
        "outputId": "e714377b-6af0-4019-80b2-8faf4eb15794"
      },
      "source": [
        "#@title Part 1 { form-width: \"20%\" }\r\n",
        "\r\n",
        "moves = {\r\n",
        "  'w': (0, -2),\r\n",
        "  'sw': (1, -1),\r\n",
        "  'se': (1, 1),\r\n",
        "  'e': (0, 2),\r\n",
        "  'ne': (-1, 1),\r\n",
        "  'nw': (-1, -1)\r\n",
        "}\r\n",
        "\r\n",
        "def process_grid(lines, size):\r\n",
        "  hex_grid = np.zeros((size, size))\r\n",
        "  for i in range(size):\r\n",
        "    for j in range(size):\r\n",
        "      if (i + j) % 2 == 0:\r\n",
        "        hex_grid[i, j] = 1\r\n",
        "\r\n",
        "  def parse_steps(line):\r\n",
        "    steps = []\r\n",
        "    window = 1\r\n",
        "    i = 0\r\n",
        "    while i < len(line):\r\n",
        "      if line[i:i + window] in moves.keys():\r\n",
        "        steps.append(moves[line[i:i + window]])\r\n",
        "        i += window\r\n",
        "        window = 1\r\n",
        "      else:\r\n",
        "        window += 1\r\n",
        "\r\n",
        "    return steps\r\n",
        "\r\n",
        "  ref_x = ref_y = size // 2\r\n",
        "  for line in lines:\r\n",
        "    steps = parse_steps(line)\r\n",
        "    y = sum([x[0] for x in steps])\r\n",
        "    x = sum([x[1] for x in steps])\r\n",
        "    hex_grid[ref_y + y, ref_x + x] *= -1\r\n",
        "  \r\n",
        "  return hex_grid\r\n",
        "\r\n",
        "def d24p1(lines, size):\r\n",
        "  hex_grid = process_grid(lines, size)\r\n",
        "  counts = collections.Counter(hex_grid.ravel())\r\n",
        "  return counts[-1] if -1 in counts else None\r\n",
        "\r\n",
        "# It's day 24\r\n",
        "day = 24\r\n",
        "lines = get_input_as_lines(day)\r\n",
        "ret = d24p1(lines, 65)\r\n",
        "print(f'There are {ret} tiles with black side up')"
      ],
      "execution_count": null,
      "outputs": [
        {
          "output_type": "stream",
          "text": [
            "There are 330 tiles with black side up\n",
            "time: 89.6 ms (started: 2021-02-28 17:09:35 +00:00)\n"
          ],
          "name": "stdout"
        }
      ]
    },
    {
      "cell_type": "code",
      "metadata": {
        "id": "jhBaTO5CtS7s",
        "colab": {
          "base_uri": "https://localhost:8080/"
        },
        "cellView": "form",
        "outputId": "9d9185d9-c7bd-459d-8a50-3908c1d95c78"
      },
      "source": [
        "#@title Part 2 { form-width: \"20%\" }\r\n",
        "import copy\r\n",
        "\r\n",
        "def d24p2(lines, size):\r\n",
        "    def count_neighbors(i, j):\r\n",
        "        count = 0\r\n",
        "        for n in moves.values():\r\n",
        "            y = i + n[0]\r\n",
        "            x = j + n[1]\r\n",
        "            if 0 <= x < hex_grid.shape[1] and 0 <= y < hex_grid.shape[0] \\\r\n",
        "               and hex_grid[y, x] == -1:\r\n",
        "                count += 1\r\n",
        "        return count\r\n",
        "\r\n",
        "    def process_day(hex_grid):\r\n",
        "        new_grid = copy.deepcopy(hex_grid)\r\n",
        "        for (i, j), _ in np.ndenumerate(hex_grid):\r\n",
        "            if hex_grid[i, j] == 0:\r\n",
        "                continue\r\n",
        "            c = count_neighbors(i, j)\r\n",
        "            if hex_grid[i, j] == 1 and c == 2:\r\n",
        "                new_grid[i, j] *= -1\r\n",
        "            if hex_grid[i, j] == -1 and (c == 0 or c > 2):\r\n",
        "                new_grid[i, j] *= -1\r\n",
        "        \r\n",
        "        return new_grid\r\n",
        "\r\n",
        "    hex_grid = process_grid(lines, size)    \r\n",
        "\r\n",
        "    for a in range(100):\r\n",
        "      hex_grid = process_day(hex_grid)\r\n",
        "\r\n",
        "    counts = collections.Counter(hex_grid.ravel())\r\n",
        "    return counts[-1] if -1 in counts else None\r\n",
        "\r\n",
        "\r\n",
        "# It's day 24\r\n",
        "day = 24\r\n",
        "lines = get_input_as_lines(day)\r\n",
        "ret = d24p2(lines, 240)\r\n",
        "print(f'There are {ret} tiles with black side up')"
      ],
      "execution_count": null,
      "outputs": [
        {
          "output_type": "stream",
          "text": [
            "There are 3711 tiles with black side up\n",
            "time: 21.5 s (started: 2021-02-28 17:16:11 +00:00)\n"
          ],
          "name": "stdout"
        }
      ]
    },
    {
      "cell_type": "markdown",
      "metadata": {
        "id": "6Hb7izhFpapV"
      },
      "source": [
        "# Day 25"
      ]
    },
    {
      "cell_type": "code",
      "metadata": {
        "id": "NGoe8rnZpcFw",
        "colab": {
          "base_uri": "https://localhost:8080/"
        },
        "cellView": "form",
        "outputId": "73e26cdf-58f7-4cfe-b467-ac7f3abb1107"
      },
      "source": [
        "#@title Part 1 { form-width: \"20%\" }\r\n",
        "def d25p1(lines):\r\n",
        "  card, door = list(map(int, lines))\r\n",
        "  card_loops, door_loops = 1, 1\r\n",
        "  while pow(7, card_loops, 20201227) != card:\r\n",
        "    card_loops += 1\r\n",
        "  while pow(7, door_loops, 20201227) != door:\r\n",
        "    door_loops += 1\r\n",
        "  \r\n",
        "  return pow(door, card_loops, 20201227)\r\n",
        "\r\n",
        "# It's day 25\r\n",
        "day = 25\r\n",
        "lines = get_input_as_lines(day)\r\n",
        "ret = d25p1(lines)\r\n",
        "print(f'The encryption key is: {ret}')"
      ],
      "execution_count": null,
      "outputs": [
        {
          "output_type": "stream",
          "text": [
            "The encryption key is: 12181021\n",
            "time: 52 s (started: 2021-03-01 20:26:31 +00:00)\n"
          ],
          "name": "stdout"
        }
      ]
    }
  ]
}