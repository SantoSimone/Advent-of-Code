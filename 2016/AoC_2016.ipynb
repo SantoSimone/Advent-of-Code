{
  "nbformat": 4,
  "nbformat_minor": 0,
  "metadata": {
    "colab": {
      "name": "AoC 2016",
      "provenance": [],
      "collapsed_sections": []
    },
    "kernelspec": {
      "name": "python3",
      "display_name": "Python 3"
    }
  },
  "cells": [
    {
      "cell_type": "code",
      "metadata": {
        "id": "rRfuJI4_tJHQ",
        "cellView": "form"
      },
      "source": [
        "#@title Imports { form-width: \"20%\" }\n",
        "\n",
        "import numpy as np\n",
        "import urllib.request\n",
        "import re\n",
        "from collections import Counter\n",
        "import itertools\n",
        "import hashlib\n",
        "\n",
        "\n",
        "def get_input(day):\n",
        "  return urllib.request.urlopen(\n",
        "      f'https://raw.githubusercontent.com/SantoSimone/Advent-of-Code/master/'\n",
        "      f'2016/input_files/input{day}.txt'\n",
        "      ).read().decode('utf-8')\n",
        "\n",
        "def get_input_as_lines(day):\n",
        "  return get_input(day).split('\\n')[:-1]\n",
        "\n",
        "def parse_ints(text):\n",
        "  return [int(x) for x in re.findall(r'\\d+', text)]\n"
      ],
      "execution_count": null,
      "outputs": []
    },
    {
      "cell_type": "markdown",
      "metadata": {
        "id": "WIIoiWgxs5Qh"
      },
      "source": [
        "# Day 1\n"
      ]
    },
    {
      "cell_type": "code",
      "metadata": {
        "id": "tgZsWeScrPZw",
        "cellView": "form"
      },
      "source": [
        "#@title Part 1 { form-width: \"20%\" }\n",
        "def no_time_for_taxicab(input):\n",
        "  # Parsing inputs\n",
        "  moves = [(el[0], el[1:]) for el in [split.replace(' ', '') \n",
        "            for split in input.split(sep=',')]] # (dir, num)\n",
        "\n",
        "  # Starting pos is center of plane heading North\n",
        "  pos = 0\n",
        "  head = 1j\n",
        "  visited = [pos]\n",
        "\n",
        "  for direction, steps in moves:    \n",
        "    # turn right is a 90° clockwise, while left is 90° anti-clockwise\n",
        "    head *= -1j if direction == 'R' else 1j\n",
        "    for i in range(int(steps)):\n",
        "      pos += 1 * head\n",
        "      visited.append(pos)\n",
        "\n",
        "  return abs(pos.real) + abs(pos.imag)\n",
        "\n",
        "\n",
        "# It's day 1\n",
        "day = 1\n",
        "\n",
        "input = get_input(day)\n",
        "\n",
        "no_time_for_taxicab(input)\n"
      ],
      "execution_count": null,
      "outputs": []
    },
    {
      "cell_type": "code",
      "metadata": {
        "id": "2zjBJgbjuT4q",
        "cellView": "form"
      },
      "source": [
        "#@title Part 2 { form-width: \"20%\" }\n",
        "# We just need to add a check in the function\n",
        "\n",
        "def no_time_for_taxicab_pt2(input):\n",
        "  # Parsing inputs\n",
        "  moves = [(el[0], el[1:]) for el in [split.replace(' ', '') \n",
        "            for split in input.split(sep=',')]] # (dir, num)\n",
        "\n",
        "  # Starting pos is center of plane heading North\n",
        "  pos = 0\n",
        "  head = 1j\n",
        "  visited = [pos]\n",
        "\n",
        "  for direction, steps in moves:    \n",
        "    # turn right is a 90° clockwise, while left is 90° anti-clockwise\n",
        "    head *= -1j if direction == 'R' else 1j\n",
        "    for i in range(int(steps)):\n",
        "      pos += 1 * head\n",
        "      if pos in visited:\n",
        "        return abs(pos.real) + abs(pos.imag)\n",
        "      visited.append(pos)\n",
        "\n",
        "  return abs(pos.real) + abs(pos.imag)\n",
        "\n",
        "\n",
        "# It's day 1\n",
        "no_time_for_taxicab_pt2(input)"
      ],
      "execution_count": null,
      "outputs": []
    },
    {
      "cell_type": "markdown",
      "metadata": {
        "id": "iLJIYjPCsrWI"
      },
      "source": [
        "# Day 2\n"
      ]
    },
    {
      "cell_type": "code",
      "metadata": {
        "id": "-8Tir8WhsM-h",
        "cellView": "form"
      },
      "source": [
        "#@title Part 1 { form-width: \"20%\" }\n",
        "# It's day 2\n",
        "day = 2\n",
        "\n",
        "# Split file into lines\n",
        "lines = get_input_as_lines(day)\n",
        "\n",
        "keypad = np.array([\n",
        "  ['1', '2', '3'],\n",
        "  ['4', '5', '6'],\n",
        "  ['7', '8', '9']\n",
        "])\n",
        "\n",
        "# Encoding movements (Row, Col)\n",
        "moves = {\n",
        "  'U' : np.array([-1, 0]),\n",
        "  'D' : np.array([+1, 0]),\n",
        "  'L' : np.array([0, -1]),\n",
        "  'R' : np.array([0, +1])\n",
        "}\n",
        "pos = np.array([1, 1])\n",
        "code = ''\n",
        "\n",
        "for line in lines:\n",
        "  for move in line:\n",
        "    pos += moves[move]\n",
        "    pos = np.clip(pos, 0, keypad.shape[0] -1)    \n",
        "  \n",
        "  # End of line -> store actual value\n",
        "  code += keypad[pos[0], pos[1]]\n",
        "\n",
        "# Final code to bathroom\n",
        "print(code)"
      ],
      "execution_count": null,
      "outputs": []
    },
    {
      "cell_type": "code",
      "metadata": {
        "id": "Ldzf2FFYtGiP",
        "cellView": "form"
      },
      "source": [
        "#@title Part 2 { form-width: \"20%\" }\n",
        "# New keypad\n",
        "keypad = np.array([\n",
        "  ['0', '0', '1', '0', '0'],\n",
        "  ['0', '2', '3', '4', '0'],\n",
        "  ['5', '6', '7', '8', '9'],\n",
        "  ['0', 'A', 'B', 'C', '0'],\n",
        "  ['0', '0', 'D', '0', '0'],\n",
        "])\n",
        "\n",
        "# New rules\n",
        "def should_i_stay_or_should_i_go(pos, move):\n",
        "  move = pos + move\n",
        "  move = np.clip(move, 0, 4)\n",
        "  \n",
        "  return pos if keypad[move[0], move[1]] == '0' else move\n",
        "\n",
        "pos = np.array([2, 0])\n",
        "code = ''\n",
        "\n",
        "for line in lines:\n",
        "  for move in line:\n",
        "    pos = should_i_stay_or_should_i_go(pos, moves[move])\n",
        "  \n",
        "  code += keypad[pos[0], pos[1]]\n",
        "\n",
        "  \n",
        "print(code)\n"
      ],
      "execution_count": null,
      "outputs": []
    },
    {
      "cell_type": "markdown",
      "metadata": {
        "id": "wNsM4fDkxwbf"
      },
      "source": [
        "# Day 3"
      ]
    },
    {
      "cell_type": "code",
      "metadata": {
        "id": "zYQ-vRnexIbT",
        "cellView": "form"
      },
      "source": [
        "#@title Part 1 { form-width: \"20%\" }\n",
        "\n",
        "def check_triangle(tr):\n",
        "  # Returns True if valid False otherwise\n",
        "  x, y, z = sorted(tr)\n",
        "  return z < x + y\n",
        "\n",
        "\n",
        "# It's day 3\n",
        "day = 3\n",
        "\n",
        "# Split file into lines\n",
        "lines = get_input_as_lines(day)\n",
        "# Each line is a triangle\n",
        "step = [line.split(' ') for line in lines]\n",
        "# Filtering out empty splits\n",
        "triangles = [parse_ints(l) for l in lines]\n",
        "\n",
        "sum(map(check_triangle, triangles))"
      ],
      "execution_count": null,
      "outputs": []
    },
    {
      "cell_type": "code",
      "metadata": {
        "id": "WgoHZLdTydvb",
        "cellView": "form"
      },
      "source": [
        "#@title Part 2 { form-width: \"20%\" }\n",
        "\n",
        "new_triangles = [\n",
        "                 tr \n",
        "                 for i in range(0, len(triangles), 3)\n",
        "                 for tr in zip(triangles[i], triangles[i+1], triangles[i+2])\n",
        "                 ]\n",
        "\n",
        "sum(map(check_triangle, new_triangles))"
      ],
      "execution_count": null,
      "outputs": []
    },
    {
      "cell_type": "markdown",
      "metadata": {
        "id": "7KM-SN3e0vxz"
      },
      "source": [
        "# Day 4"
      ]
    },
    {
      "cell_type": "code",
      "metadata": {
        "id": "rwlmpDCSzrg9",
        "cellView": "form"
      },
      "source": [
        "#@title Part 1 { form-width: \"20%\" }\n",
        "\n",
        "def parse_room(room):\n",
        "  # Parse chars (with dashes), sector id and checksum for each room entry\n",
        "  return re.match(r'([a-z-]+)-(\\d+)\\[([a-z]+)\\]', room).groups()\n",
        "\n",
        "def check_room(room):\n",
        "  chars, id, checksum = parse_room(room)\n",
        "  # collections.Counter obj performs exactly what we want\n",
        "  counts = Counter(chars.replace('-', ''))\n",
        "  # Getting real checksum\n",
        "  real = ''.join(\n",
        "      [v[0] for v in sorted(counts.items(), key=lambda x: (-x[1], x[0]))][:5]\n",
        "      )\n",
        "  return int(id) if real == checksum else 0\n",
        "\n",
        "\n",
        "# It's day 4\n",
        "day = 4\n",
        "\n",
        "# Split file into lines\n",
        "lines = get_input_as_lines(day)\n",
        "# Each line is a room\n",
        "rooms = [line for line in lines]\n",
        "\n",
        "sum = np.sum([check_room(r) for r in rooms])\n",
        "sum"
      ],
      "execution_count": null,
      "outputs": []
    },
    {
      "cell_type": "code",
      "metadata": {
        "id": "PQfAg5YZ6Gqs",
        "cellView": "form"
      },
      "source": [
        "#@title Part 2 { form-width: \"20%\" }\n",
        "\n",
        "def decrypt(room):\n",
        "  chars, id, checksum = parse_room(room)\n",
        "  # First, we decrypt a single word, then we concatenates with whitespaces\n",
        "  ret = ' '.join([ \n",
        "                ''.join([chr(97 + (ord(ch) - 97 + int(id)) % 26)\n",
        "                for ch in word])\n",
        "        for word in chars.split('-') \n",
        "        ])\n",
        "  return ret, int(id)\n",
        "\n",
        "for room in rooms:\n",
        "  msg, id = decrypt(room)\n",
        "  if 'north' in msg:\n",
        "    print(id)\n"
      ],
      "execution_count": null,
      "outputs": []
    },
    {
      "cell_type": "markdown",
      "metadata": {
        "id": "oOYpjKcvAZ5f"
      },
      "source": [
        "# Day 5"
      ]
    },
    {
      "cell_type": "code",
      "metadata": {
        "id": "FerJcuxW15WK",
        "cellView": "form"
      },
      "source": [
        "#@title Part 1 { form-width: \"20%\" }\n",
        "# It's day 5\n",
        "day = 5\n",
        "\n",
        "# my input\n",
        "input = 'ojvtpuvg'\n",
        "\n",
        "# PART ONE\n",
        "i = 0\n",
        "pw = ''\n",
        "while True:\n",
        "  ex = f'{input}{i}'\n",
        "  code = hashlib.md5(ex.encode()).hexdigest()\n",
        "  if code.startswith('00000'):\n",
        "    pw += code[5]\n",
        "    if len(pw) == 8: break\n",
        "\n",
        "  i += 1\n",
        "\n",
        "print(f'Final password: {pw}')"
      ],
      "execution_count": null,
      "outputs": []
    },
    {
      "cell_type": "code",
      "metadata": {
        "id": "NWaos5s34W_c",
        "cellView": "form"
      },
      "source": [
        "#@title Part 2 { form-width: \"20%\" }\n",
        "# It takes longer, so we do some random stuff to make it fancier\n",
        "input = 'ojvtpuvg'\n",
        "i = 0\n",
        "pw = ['_'] * 8\n",
        "changed = 0\n",
        "while True:\n",
        "  ex = f'{input}{i}'\n",
        "  code = hashlib.md5(ex.encode()).hexdigest()\n",
        "  if code.startswith('00000') and code[5].isdigit() and int(code[5]) < 8 and pw[int(code[5])] == '_':    \n",
        "    changed += 1\n",
        "    pw[int(code[5])] = code[6]\n",
        "    print(f'\\rDecrypted password: {\"\".join(pw)}', end='')\n",
        "    if changed == 8: break\n",
        "  i += 1"
      ],
      "execution_count": null,
      "outputs": []
    },
    {
      "cell_type": "markdown",
      "metadata": {
        "id": "_j8DS-O69H5W"
      },
      "source": [
        "# Day 6\n"
      ]
    },
    {
      "cell_type": "code",
      "metadata": {
        "cellView": "form",
        "id": "SssBu4bc9Jm1"
      },
      "source": [
        "#@title Part 1 { form-width: \"20%\" }\n",
        "# It's day 6\n",
        "day = 6\n",
        "\n",
        "lines = get_input_as_lines(day)\n",
        "\n",
        "positions = zip(*lines)\n",
        "counters = [Counter(pos) for pos in positions]\n",
        "\n",
        "# getting top 1 occurence\n",
        "msg = ''.join([count.most_common(1)[0][0] for count in counters])\n",
        "\n",
        "print(msg)"
      ],
      "execution_count": null,
      "outputs": []
    },
    {
      "cell_type": "code",
      "metadata": {
        "cellView": "form",
        "id": "Xw2Npjxz_vVO"
      },
      "source": [
        "#@title Part 2 { form-width: \"20%\" }\n",
        "# Difference in p2 is that we take the least common\n",
        "\n",
        "# getting all occurences sorted, then getting the last\n",
        "msg = ''.join([count.most_common()[-1][0] for count in counters])\n",
        "print(msg)"
      ],
      "execution_count": null,
      "outputs": []
    },
    {
      "cell_type": "markdown",
      "metadata": {
        "id": "vLJkM7h4Afzn"
      },
      "source": [
        "# Day 7"
      ]
    },
    {
      "cell_type": "code",
      "metadata": {
        "id": "ZXr3nMvRAPgx",
        "cellView": "form"
      },
      "source": [
        "#@title Part 1 { form-width: \"20%\" }\n",
        "\n",
        "def check_abba(word):\n",
        "    splits = [word[i:i + 4] for i in range(len(word) - 3)]\n",
        "    return any([s[:2] == ''.join(reversed(s[2:])) and s[0] != s[1] \n",
        "                for s in splits])\n",
        "\n",
        "\n",
        "def support_TLS(line):\n",
        "    splits = re.split(r'\\[|\\]', line)\n",
        "    hypernets = splits[1::2]\n",
        "    supernets = splits[0::2]\n",
        "\n",
        "    return not any(map(check_abba, hypernets)) \\\n",
        "           and any(map(check_abba, supernets))\n",
        "\n",
        "# It's day 7\n",
        "day = 7\n",
        "lines = get_input_as_lines(day)\n",
        "s = np.sum([support_TLS(line) for line in lines])\n",
        "print(f'TLS compliant IPs: {s}')"
      ],
      "execution_count": null,
      "outputs": []
    },
    {
      "cell_type": "code",
      "metadata": {
        "id": "Mx6I3d5jLVLj",
        "cellView": "form"
      },
      "source": [
        "#@title Part 2 { form-width: \"20%\" }\n",
        "\n",
        "def check_aba(word, hypernets):\n",
        "    splits = [word[i:i + 3] for i in range(len(word) - 2)]\n",
        "    return any([s[0] == s[2] != s[1] and any([check_bab(''.join([s[1], s[0], s[1]]), br) for br in hypernets])\n",
        "                for s in splits])\n",
        "\n",
        "def check_bab(check, word):\n",
        "    return check in word\n",
        "\n",
        "def support_SSL(line):\n",
        "    splits = re.split(r'\\[|\\]', line)\n",
        "    hypernets = splits[1::2]\n",
        "    supernets = splits[0::2]\n",
        "\n",
        "    return any([check_aba(s, hypernets) for s in supernets])\n",
        "\n",
        "\n",
        "lines = get_input_as_lines(day)\n",
        "s = np.sum([support_SSL(line) for line in lines])\n",
        "print(f'SSL compliant IPs: {s}')"
      ],
      "execution_count": null,
      "outputs": []
    },
    {
      "cell_type": "markdown",
      "metadata": {
        "id": "qGAK5AoUdaGA"
      },
      "source": [
        "# Day 8"
      ]
    },
    {
      "cell_type": "code",
      "metadata": {
        "id": "M63JbK1adZwo",
        "cellView": "form"
      },
      "source": [
        "#@title Part 1 { form-width: \"20%\" }\n",
        "\n",
        "def exec(line, screen):\n",
        "  if re.findall('rect', line):\n",
        "      w, h = parse_ints(line)\n",
        "      screen[:h, :w] = 1\n",
        "  elif re.findall('rotate column', line):\n",
        "      col, shift = parse_ints(line)\n",
        "      screen[:, col] = np.roll(screen[:, col], shift, axis=0)\n",
        "  elif re.findall('rotate row', line):\n",
        "      row, shift = parse_ints(line)\n",
        "      screen[row, :] = np.roll(screen[row, :], shift, axis=0)\n",
        "\n",
        "  return screen\n",
        "\n",
        "# It's day 8\n",
        "day = 8\n",
        "lines = get_input_as_lines(day)\n",
        "screen = np.zeros((6, 50), dtype=np.int32)\n",
        "for line in lines:\n",
        "    screen = exec(line, screen)\n",
        "print(f'Final number of lights: {np.sum(screen, (0,1))}')"
      ],
      "execution_count": null,
      "outputs": []
    },
    {
      "cell_type": "code",
      "metadata": {
        "id": "gjWJjdIEvHAx",
        "cellView": "form"
      },
      "source": [
        "#@title Part 2 { form-width: \"20%\" }\n",
        "def print_screen(screen):\n",
        "  for i in range(screen.shape[0]):\n",
        "    for j in range(screen.shape[1]):\n",
        "      if screen[i, j]:\n",
        "        print('#', end='')\n",
        "      else:\n",
        "        print(' ', end='')\n",
        "    print(' ')\n",
        "\n",
        "print('Final screen: ')\n",
        "print_screen(screen)"
      ],
      "execution_count": null,
      "outputs": []
    },
    {
      "cell_type": "markdown",
      "metadata": {
        "id": "nnFIwxIJC_hx"
      },
      "source": [
        "# Day 9"
      ]
    },
    {
      "cell_type": "code",
      "metadata": {
        "id": "cehh6l3Rk_tc",
        "cellView": "form"
      },
      "source": [
        "#@title Part 1 { form-width: \"20%\" }\n",
        "\n",
        "def next_marker(txt):\n",
        "  search = re.search(r'\\((\\d+)x(\\d+)\\)|$', txt)\n",
        "  start, stop = search.span()\n",
        "  if start == stop: return start, stop, 0, 0\n",
        "  length, reps = map(int, search.groups())\n",
        "  return start, stop, length, reps\n",
        "\n",
        "\n",
        "def calc_len(txt):\n",
        "  total = 0\n",
        "  while True:\n",
        "      start, stop, length, reps = next_marker(txt)\n",
        "      total += start + length * reps\n",
        "      i = stop + length\n",
        "      if i >= len(txt): break\n",
        "      txt = txt[i:]\n",
        "  return total\n",
        "\n",
        "# It's day 9\n",
        "day = 9\n",
        "txt = ''.join(get_input_as_lines(day))\n",
        "length = calc_len(txt)\n",
        "print(f'Total length: {length}')"
      ],
      "execution_count": null,
      "outputs": []
    },
    {
      "cell_type": "code",
      "metadata": {
        "cellView": "form",
        "id": "SGHoL7HYt2BK"
      },
      "source": [
        "#@title Part 2 { form-width: \"20%\" }\r\n",
        "\r\n",
        "# We need to add a bit of recursion here\r\n",
        "def calc_len_v2(txt):\r\n",
        "  total = 0\r\n",
        "  while True:\r\n",
        "      start, stop, length, reps = next_marker(txt)\r\n",
        "      if start == stop: return start\r\n",
        "      total += start + calc_len_v2(txt[stop:length + stop]) * reps\r\n",
        "      i = stop + length\r\n",
        "      if i >= len(txt): break\r\n",
        "      txt = txt[i:]\r\n",
        "  return total\r\n",
        "\r\n",
        "length = calc_len_v2(txt)\r\n",
        "print(f'Total length: {length}')"
      ],
      "execution_count": null,
      "outputs": []
    },
    {
      "cell_type": "code",
      "metadata": {
        "id": "dCtLnd5owDXc"
      },
      "source": [
        ""
      ],
      "execution_count": null,
      "outputs": []
    }
  ]
}