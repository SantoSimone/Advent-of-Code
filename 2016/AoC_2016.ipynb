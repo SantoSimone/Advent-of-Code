{
  "nbformat": 4,
  "nbformat_minor": 0,
  "metadata": {
    "colab": {
      "name": "AoC 2016",
      "provenance": [],
      "collapsed_sections": []
    },
    "kernelspec": {
      "name": "python3",
      "display_name": "Python 3"
    }
  },
  "cells": [
    {
      "cell_type": "code",
      "metadata": {
        "id": "rRfuJI4_tJHQ",
        "cellView": "form",
        "colab": {
          "base_uri": "https://localhost:8080/"
        },
        "outputId": "90641cbe-8518-4729-c643-30ccce9ff83d"
      },
      "source": [
        "#@title Imports { form-width: \"20%\" }\n",
        "\n",
        "!pip install ipython-autotime\n",
        "%load_ext autotime\n",
        "import numpy as np\n",
        "import urllib.request\n",
        "import re\n",
        "from collections import Counter, defaultdict, namedtuple\n",
        "from itertools import combinations, chain, product, permutations\n",
        "import hashlib\n",
        "from heapq import heappop, heappush\n",
        "from functools import lru_cache\n",
        "import copy\n",
        "\n",
        "\n",
        "\n",
        "def get_input(day):\n",
        "  return urllib.request.urlopen(\n",
        "      f'https://raw.githubusercontent.com/SantoSimone/Advent-of-Code/master/'\n",
        "      f'2016/input_files/input{day}.txt'\n",
        "      ).read().decode('utf-8')\n",
        "\n",
        "def get_input_as_lines(day):\n",
        "  return get_input(day).split('\\n')[:-1]\n",
        "\n",
        "def parse_ints(text):\n",
        "  return [int(x) for x in re.findall(r'\\d+', text)]\n"
      ],
      "execution_count": 1,
      "outputs": [
        {
          "output_type": "stream",
          "text": [
            "Collecting ipython-autotime\n",
            "  Downloading https://files.pythonhosted.org/packages/b4/c9/b413a24f759641bc27ef98c144b590023c8038dfb8a3f09e713e9dff12c1/ipython_autotime-0.3.1-py2.py3-none-any.whl\n",
            "Requirement already satisfied: ipython in /usr/local/lib/python3.7/dist-packages (from ipython-autotime) (5.5.0)\n",
            "Requirement already satisfied: setuptools>=18.5 in /usr/local/lib/python3.7/dist-packages (from ipython->ipython-autotime) (54.0.0)\n",
            "Requirement already satisfied: simplegeneric>0.8 in /usr/local/lib/python3.7/dist-packages (from ipython->ipython-autotime) (0.8.1)\n",
            "Requirement already satisfied: traitlets>=4.2 in /usr/local/lib/python3.7/dist-packages (from ipython->ipython-autotime) (5.0.5)\n",
            "Requirement already satisfied: decorator in /usr/local/lib/python3.7/dist-packages (from ipython->ipython-autotime) (4.4.2)\n",
            "Requirement already satisfied: prompt-toolkit<2.0.0,>=1.0.4 in /usr/local/lib/python3.7/dist-packages (from ipython->ipython-autotime) (1.0.18)\n",
            "Requirement already satisfied: pexpect; sys_platform != \"win32\" in /usr/local/lib/python3.7/dist-packages (from ipython->ipython-autotime) (4.8.0)\n",
            "Requirement already satisfied: pickleshare in /usr/local/lib/python3.7/dist-packages (from ipython->ipython-autotime) (0.7.5)\n",
            "Requirement already satisfied: pygments in /usr/local/lib/python3.7/dist-packages (from ipython->ipython-autotime) (2.6.1)\n",
            "Requirement already satisfied: ipython-genutils in /usr/local/lib/python3.7/dist-packages (from traitlets>=4.2->ipython->ipython-autotime) (0.2.0)\n",
            "Requirement already satisfied: wcwidth in /usr/local/lib/python3.7/dist-packages (from prompt-toolkit<2.0.0,>=1.0.4->ipython->ipython-autotime) (0.2.5)\n",
            "Requirement already satisfied: six>=1.9.0 in /usr/local/lib/python3.7/dist-packages (from prompt-toolkit<2.0.0,>=1.0.4->ipython->ipython-autotime) (1.15.0)\n",
            "Requirement already satisfied: ptyprocess>=0.5 in /usr/local/lib/python3.7/dist-packages (from pexpect; sys_platform != \"win32\"->ipython->ipython-autotime) (0.7.0)\n",
            "Installing collected packages: ipython-autotime\n",
            "Successfully installed ipython-autotime-0.3.1\n",
            "time: 5.6 ms (started: 2021-03-16 20:06:35 +00:00)\n"
          ],
          "name": "stdout"
        }
      ]
    },
    {
      "cell_type": "markdown",
      "metadata": {
        "id": "WIIoiWgxs5Qh"
      },
      "source": [
        "# Day 1\n"
      ]
    },
    {
      "cell_type": "code",
      "metadata": {
        "id": "tgZsWeScrPZw",
        "cellView": "form"
      },
      "source": [
        "#@title Part 1 { form-width: \"20%\" }\n",
        "def no_time_for_taxicab(input):\n",
        "  # Parsing inputs\n",
        "  moves = [(el[0], el[1:]) for el in [split.replace(' ', '') \n",
        "            for split in input.split(sep=',')]] # (dir, num)\n",
        "\n",
        "  # Starting pos is center of plane heading North\n",
        "  pos = 0\n",
        "  head = 1j\n",
        "  visited = [pos]\n",
        "\n",
        "  for direction, steps in moves:    \n",
        "    # turn right is a 90° clockwise, while left is 90° anti-clockwise\n",
        "    head *= -1j if direction == 'R' else 1j\n",
        "    for i in range(int(steps)):\n",
        "      pos += 1 * head\n",
        "      visited.append(pos)\n",
        "\n",
        "  return abs(pos.real) + abs(pos.imag)\n",
        "\n",
        "\n",
        "# It's day 1\n",
        "day = 1\n",
        "\n",
        "input = get_input(day)\n",
        "\n",
        "no_time_for_taxicab(input)\n"
      ],
      "execution_count": null,
      "outputs": []
    },
    {
      "cell_type": "code",
      "metadata": {
        "id": "2zjBJgbjuT4q",
        "cellView": "form"
      },
      "source": [
        "#@title Part 2 { form-width: \"20%\" }\n",
        "# We just need to add a check in the function\n",
        "\n",
        "def no_time_for_taxicab_pt2(input):\n",
        "  # Parsing inputs\n",
        "  moves = [(el[0], el[1:]) for el in [split.replace(' ', '') \n",
        "            for split in input.split(sep=',')]] # (dir, num)\n",
        "\n",
        "  # Starting pos is center of plane heading North\n",
        "  pos = 0\n",
        "  head = 1j\n",
        "  visited = [pos]\n",
        "\n",
        "  for direction, steps in moves:    \n",
        "    # turn right is a 90° clockwise, while left is 90° anti-clockwise\n",
        "    head *= -1j if direction == 'R' else 1j\n",
        "    for i in range(int(steps)):\n",
        "      pos += 1 * head\n",
        "      if pos in visited:\n",
        "        return abs(pos.real) + abs(pos.imag)\n",
        "      visited.append(pos)\n",
        "\n",
        "  return abs(pos.real) + abs(pos.imag)\n",
        "\n",
        "\n",
        "# It's day 1\n",
        "no_time_for_taxicab_pt2(input)"
      ],
      "execution_count": null,
      "outputs": []
    },
    {
      "cell_type": "markdown",
      "metadata": {
        "id": "iLJIYjPCsrWI"
      },
      "source": [
        "# Day 2\n"
      ]
    },
    {
      "cell_type": "code",
      "metadata": {
        "id": "-8Tir8WhsM-h",
        "cellView": "form"
      },
      "source": [
        "#@title Part 1 { form-width: \"20%\" }\n",
        "# It's day 2\n",
        "day = 2\n",
        "\n",
        "# Split file into lines\n",
        "lines = get_input_as_lines(day)\n",
        "\n",
        "keypad = np.array([\n",
        "  ['1', '2', '3'],\n",
        "  ['4', '5', '6'],\n",
        "  ['7', '8', '9']\n",
        "])\n",
        "\n",
        "# Encoding movements (Row, Col)\n",
        "moves = {\n",
        "  'U' : np.array([-1, 0]),\n",
        "  'D' : np.array([+1, 0]),\n",
        "  'L' : np.array([0, -1]),\n",
        "  'R' : np.array([0, +1])\n",
        "}\n",
        "pos = np.array([1, 1])\n",
        "code = ''\n",
        "\n",
        "for line in lines:\n",
        "  for move in line:\n",
        "    pos += moves[move]\n",
        "    pos = np.clip(pos, 0, keypad.shape[0] -1)    \n",
        "  \n",
        "  # End of line -> store actual value\n",
        "  code += keypad[pos[0], pos[1]]\n",
        "\n",
        "# Final code to bathroom\n",
        "print(code)"
      ],
      "execution_count": null,
      "outputs": []
    },
    {
      "cell_type": "code",
      "metadata": {
        "id": "Ldzf2FFYtGiP",
        "cellView": "form"
      },
      "source": [
        "#@title Part 2 { form-width: \"20%\" }\n",
        "# New keypad\n",
        "keypad = np.array([\n",
        "  ['0', '0', '1', '0', '0'],\n",
        "  ['0', '2', '3', '4', '0'],\n",
        "  ['5', '6', '7', '8', '9'],\n",
        "  ['0', 'A', 'B', 'C', '0'],\n",
        "  ['0', '0', 'D', '0', '0'],\n",
        "])\n",
        "\n",
        "# New rules\n",
        "def should_i_stay_or_should_i_go(pos, move):\n",
        "  move = pos + move\n",
        "  move = np.clip(move, 0, 4)\n",
        "  \n",
        "  return pos if keypad[move[0], move[1]] == '0' else move\n",
        "\n",
        "pos = np.array([2, 0])\n",
        "code = ''\n",
        "\n",
        "for line in lines:\n",
        "  for move in line:\n",
        "    pos = should_i_stay_or_should_i_go(pos, moves[move])\n",
        "  \n",
        "  code += keypad[pos[0], pos[1]]\n",
        "\n",
        "  \n",
        "print(code)\n"
      ],
      "execution_count": null,
      "outputs": []
    },
    {
      "cell_type": "markdown",
      "metadata": {
        "id": "wNsM4fDkxwbf"
      },
      "source": [
        "# Day 3"
      ]
    },
    {
      "cell_type": "code",
      "metadata": {
        "id": "zYQ-vRnexIbT",
        "cellView": "form"
      },
      "source": [
        "#@title Part 1 { form-width: \"20%\" }\n",
        "\n",
        "def check_triangle(tr):\n",
        "  # Returns True if valid False otherwise\n",
        "  x, y, z = sorted(tr)\n",
        "  return z < x + y\n",
        "\n",
        "\n",
        "# It's day 3\n",
        "day = 3\n",
        "\n",
        "# Split file into lines\n",
        "lines = get_input_as_lines(day)\n",
        "# Each line is a triangle\n",
        "step = [line.split(' ') for line in lines]\n",
        "# Filtering out empty splits\n",
        "triangles = [parse_ints(l) for l in lines]\n",
        "\n",
        "sum(map(check_triangle, triangles))"
      ],
      "execution_count": null,
      "outputs": []
    },
    {
      "cell_type": "code",
      "metadata": {
        "id": "WgoHZLdTydvb",
        "cellView": "form"
      },
      "source": [
        "#@title Part 2 { form-width: \"20%\" }\n",
        "\n",
        "new_triangles = [\n",
        "                 tr \n",
        "                 for i in range(0, len(triangles), 3)\n",
        "                 for tr in zip(triangles[i], triangles[i+1], triangles[i+2])\n",
        "                 ]\n",
        "\n",
        "sum(map(check_triangle, new_triangles))"
      ],
      "execution_count": null,
      "outputs": []
    },
    {
      "cell_type": "markdown",
      "metadata": {
        "id": "7KM-SN3e0vxz"
      },
      "source": [
        "# Day 4"
      ]
    },
    {
      "cell_type": "code",
      "metadata": {
        "id": "rwlmpDCSzrg9",
        "cellView": "form"
      },
      "source": [
        "#@title Part 1 { form-width: \"20%\" }\n",
        "\n",
        "def parse_room(room):\n",
        "  # Parse chars (with dashes), sector id and checksum for each room entry\n",
        "  return re.match(r'([a-z-]+)-(\\d+)\\[([a-z]+)\\]', room).groups()\n",
        "\n",
        "def check_room(room):\n",
        "  chars, id, checksum = parse_room(room)\n",
        "  # collections.Counter obj performs exactly what we want\n",
        "  counts = Counter(chars.replace('-', ''))\n",
        "  # Getting real checksum\n",
        "  real = ''.join(\n",
        "      [v[0] for v in sorted(counts.items(), key=lambda x: (-x[1], x[0]))][:5]\n",
        "      )\n",
        "  return int(id) if real == checksum else 0\n",
        "\n",
        "\n",
        "# It's day 4\n",
        "day = 4\n",
        "\n",
        "# Split file into lines\n",
        "lines = get_input_as_lines(day)\n",
        "# Each line is a room\n",
        "rooms = [line for line in lines]\n",
        "\n",
        "sum = np.sum([check_room(r) for r in rooms])\n",
        "sum"
      ],
      "execution_count": null,
      "outputs": []
    },
    {
      "cell_type": "code",
      "metadata": {
        "id": "PQfAg5YZ6Gqs",
        "cellView": "form"
      },
      "source": [
        "#@title Part 2 { form-width: \"20%\" }\n",
        "\n",
        "def decrypt(room):\n",
        "  chars, id, checksum = parse_room(room)\n",
        "  # First, we decrypt a single word, then we concatenates with whitespaces\n",
        "  ret = ' '.join([ \n",
        "                ''.join([chr(97 + (ord(ch) - 97 + int(id)) % 26)\n",
        "                for ch in word])\n",
        "        for word in chars.split('-') \n",
        "        ])\n",
        "  return ret, int(id)\n",
        "\n",
        "for room in rooms:\n",
        "  msg, id = decrypt(room)\n",
        "  if 'north' in msg:\n",
        "    print(id)\n"
      ],
      "execution_count": null,
      "outputs": []
    },
    {
      "cell_type": "markdown",
      "metadata": {
        "id": "oOYpjKcvAZ5f"
      },
      "source": [
        "# Day 5"
      ]
    },
    {
      "cell_type": "code",
      "metadata": {
        "id": "FerJcuxW15WK",
        "cellView": "form"
      },
      "source": [
        "#@title Part 1 { form-width: \"20%\" }\n",
        "# It's day 5\n",
        "day = 5\n",
        "\n",
        "# my input\n",
        "input = 'ojvtpuvg'\n",
        "\n",
        "# PART ONE\n",
        "i = 0\n",
        "pw = ''\n",
        "while True:\n",
        "  ex = f'{input}{i}'\n",
        "  code = hashlib.md5(ex.encode()).hexdigest()\n",
        "  if code.startswith('00000'):\n",
        "    pw += code[5]\n",
        "    if len(pw) == 8: break\n",
        "\n",
        "  i += 1\n",
        "\n",
        "print(f'Final password: {pw}')"
      ],
      "execution_count": null,
      "outputs": []
    },
    {
      "cell_type": "code",
      "metadata": {
        "id": "NWaos5s34W_c",
        "cellView": "form"
      },
      "source": [
        "#@title Part 2 { form-width: \"20%\" }\n",
        "# It takes longer, so we do some random stuff to make it fancier\n",
        "input = 'ojvtpuvg'\n",
        "i = 0\n",
        "pw = ['_'] * 8\n",
        "changed = 0\n",
        "while True:\n",
        "  ex = f'{input}{i}'\n",
        "  code = hashlib.md5(ex.encode()).hexdigest()\n",
        "  if code.startswith('00000') and code[5].isdigit() and int(code[5]) < 8 and pw[int(code[5])] == '_':    \n",
        "    changed += 1\n",
        "    pw[int(code[5])] = code[6]\n",
        "    print(f'\\rDecrypted password: {\"\".join(pw)}', end='')\n",
        "    if changed == 8: break\n",
        "  i += 1"
      ],
      "execution_count": null,
      "outputs": []
    },
    {
      "cell_type": "markdown",
      "metadata": {
        "id": "_j8DS-O69H5W"
      },
      "source": [
        "# Day 6\n"
      ]
    },
    {
      "cell_type": "code",
      "metadata": {
        "cellView": "form",
        "id": "SssBu4bc9Jm1"
      },
      "source": [
        "#@title Part 1 { form-width: \"20%\" }\n",
        "# It's day 6\n",
        "day = 6\n",
        "\n",
        "lines = get_input_as_lines(day)\n",
        "\n",
        "positions = zip(*lines)\n",
        "counters = [Counter(pos) for pos in positions]\n",
        "\n",
        "# getting top 1 occurence\n",
        "msg = ''.join([count.most_common(1)[0][0] for count in counters])\n",
        "\n",
        "print(msg)"
      ],
      "execution_count": null,
      "outputs": []
    },
    {
      "cell_type": "code",
      "metadata": {
        "cellView": "form",
        "id": "Xw2Npjxz_vVO"
      },
      "source": [
        "#@title Part 2 { form-width: \"20%\" }\n",
        "# Difference in p2 is that we take the least common\n",
        "\n",
        "# getting all occurences sorted, then getting the last\n",
        "msg = ''.join([count.most_common()[-1][0] for count in counters])\n",
        "print(msg)"
      ],
      "execution_count": null,
      "outputs": []
    },
    {
      "cell_type": "markdown",
      "metadata": {
        "id": "vLJkM7h4Afzn"
      },
      "source": [
        "# Day 7"
      ]
    },
    {
      "cell_type": "code",
      "metadata": {
        "id": "ZXr3nMvRAPgx",
        "cellView": "form"
      },
      "source": [
        "#@title Part 1 { form-width: \"20%\" }\n",
        "\n",
        "def check_abba(word):\n",
        "    splits = [word[i:i + 4] for i in range(len(word) - 3)]\n",
        "    return any([s[:2] == ''.join(reversed(s[2:])) and s[0] != s[1] \n",
        "                for s in splits])\n",
        "\n",
        "\n",
        "def support_TLS(line):\n",
        "    splits = re.split(r'\\[|\\]', line)\n",
        "    hypernets = splits[1::2]\n",
        "    supernets = splits[0::2]\n",
        "\n",
        "    return not any(map(check_abba, hypernets)) \\\n",
        "           and any(map(check_abba, supernets))\n",
        "\n",
        "# It's day 7\n",
        "day = 7\n",
        "lines = get_input_as_lines(day)\n",
        "s = np.sum([support_TLS(line) for line in lines])\n",
        "print(f'TLS compliant IPs: {s}')"
      ],
      "execution_count": null,
      "outputs": []
    },
    {
      "cell_type": "code",
      "metadata": {
        "id": "Mx6I3d5jLVLj",
        "cellView": "form"
      },
      "source": [
        "#@title Part 2 { form-width: \"20%\" }\n",
        "\n",
        "def check_aba(word, hypernets):\n",
        "    splits = [word[i:i + 3] for i in range(len(word) - 2)]\n",
        "    return any([s[0] == s[2] != s[1] and any([check_bab(''.join([s[1], s[0], s[1]]), br) for br in hypernets])\n",
        "                for s in splits])\n",
        "\n",
        "def check_bab(check, word):\n",
        "    return check in word\n",
        "\n",
        "def support_SSL(line):\n",
        "    splits = re.split(r'\\[|\\]', line)\n",
        "    hypernets = splits[1::2]\n",
        "    supernets = splits[0::2]\n",
        "\n",
        "    return any([check_aba(s, hypernets) for s in supernets])\n",
        "\n",
        "\n",
        "lines = get_input_as_lines(day)\n",
        "s = np.sum([support_SSL(line) for line in lines])\n",
        "print(f'SSL compliant IPs: {s}')"
      ],
      "execution_count": null,
      "outputs": []
    },
    {
      "cell_type": "markdown",
      "metadata": {
        "id": "qGAK5AoUdaGA"
      },
      "source": [
        "# Day 8"
      ]
    },
    {
      "cell_type": "code",
      "metadata": {
        "id": "M63JbK1adZwo",
        "cellView": "form"
      },
      "source": [
        "#@title Part 1 { form-width: \"20%\" }\n",
        "\n",
        "def exec(line, screen):\n",
        "  if re.findall('rect', line):\n",
        "      w, h = parse_ints(line)\n",
        "      screen[:h, :w] = 1\n",
        "  elif re.findall('rotate column', line):\n",
        "      col, shift = parse_ints(line)\n",
        "      screen[:, col] = np.roll(screen[:, col], shift, axis=0)\n",
        "  elif re.findall('rotate row', line):\n",
        "      row, shift = parse_ints(line)\n",
        "      screen[row, :] = np.roll(screen[row, :], shift, axis=0)\n",
        "\n",
        "  return screen\n",
        "\n",
        "# It's day 8\n",
        "day = 8\n",
        "lines = get_input_as_lines(day)\n",
        "screen = np.zeros((6, 50), dtype=np.int32)\n",
        "for line in lines:\n",
        "    screen = exec(line, screen)\n",
        "print(f'Final number of lights: {np.sum(screen, (0,1))}')"
      ],
      "execution_count": null,
      "outputs": []
    },
    {
      "cell_type": "code",
      "metadata": {
        "id": "gjWJjdIEvHAx",
        "cellView": "form"
      },
      "source": [
        "#@title Part 2 { form-width: \"20%\" }\n",
        "def print_screen(screen):\n",
        "  for i in range(screen.shape[0]):\n",
        "    for j in range(screen.shape[1]):\n",
        "      if screen[i, j]:\n",
        "        print('#', end='')\n",
        "      else:\n",
        "        print(' ', end='')\n",
        "    print(' ')\n",
        "\n",
        "print('Final screen: ')\n",
        "print_screen(screen)"
      ],
      "execution_count": null,
      "outputs": []
    },
    {
      "cell_type": "markdown",
      "metadata": {
        "id": "nnFIwxIJC_hx"
      },
      "source": [
        "# Day 9"
      ]
    },
    {
      "cell_type": "code",
      "metadata": {
        "id": "cehh6l3Rk_tc",
        "cellView": "form"
      },
      "source": [
        "#@title Part 1 { form-width: \"20%\" }\n",
        "\n",
        "def next_marker(txt):\n",
        "  search = re.search(r'\\((\\d+)x(\\d+)\\)|$', txt)\n",
        "  start, stop = search.span()\n",
        "  if start == stop: return start, stop, 0, 0\n",
        "  length, reps = map(int, search.groups())\n",
        "  return start, stop, length, reps\n",
        "\n",
        "\n",
        "def calc_len(txt):\n",
        "  total = 0\n",
        "  while True:\n",
        "      start, stop, length, reps = next_marker(txt)\n",
        "      total += start + length * reps\n",
        "      i = stop + length\n",
        "      if i >= len(txt): break\n",
        "      txt = txt[i:]\n",
        "  return total\n",
        "\n",
        "# It's day 9\n",
        "day = 9\n",
        "txt = ''.join(get_input_as_lines(day))\n",
        "length = calc_len(txt)\n",
        "print(f'Total length: {length}')"
      ],
      "execution_count": null,
      "outputs": []
    },
    {
      "cell_type": "code",
      "metadata": {
        "id": "SGHoL7HYt2BK",
        "cellView": "form"
      },
      "source": [
        "#@title Part 2 { form-width: \"20%\" }\r\n",
        "\r\n",
        "# We need to add a bit of recursion here\r\n",
        "def calc_len_v2(txt):\r\n",
        "  total = 0\r\n",
        "  while True:\r\n",
        "      start, stop, length, reps = next_marker(txt)\r\n",
        "      if start == stop: return start\r\n",
        "      total += start + calc_len_v2(txt[stop:length + stop]) * reps\r\n",
        "      i = stop + length\r\n",
        "      if i >= len(txt): break\r\n",
        "      txt = txt[i:]\r\n",
        "  return total\r\n",
        "\r\n",
        "length = calc_len_v2(txt)\r\n",
        "print(f'Total length: {length}')"
      ],
      "execution_count": null,
      "outputs": []
    },
    {
      "cell_type": "markdown",
      "metadata": {
        "id": "myaIGpWv2Rt8"
      },
      "source": [
        "# Day 10"
      ]
    },
    {
      "cell_type": "code",
      "metadata": {
        "id": "dCtLnd5owDXc",
        "colab": {
          "base_uri": "https://localhost:8080/"
        },
        "cellView": "form",
        "outputId": "f63a6b71-2939-43da-b8cb-38133ab6b6e2"
      },
      "source": [
        "#@title Part 1 { form-width: \"20%\" }\r\n",
        "\r\n",
        "def d10p1(txt):\r\n",
        "  def pass_to(src, dst, chip):\r\n",
        "    if src != 'input':\r\n",
        "      owns[src].discard(chip)\r\n",
        "    owns[dst].add(chip)\r\n",
        "    current = owns[dst]\r\n",
        "    if current == finish:\r\n",
        "      print(f'The bot we want is {dst}')\r\n",
        "    if len(current) == 2:\r\n",
        "      pass_to(dst, rules[dst][0], min(current))\r\n",
        "      pass_to(dst, rules[dst][1], max(current))\r\n",
        "\r\n",
        "  owns = defaultdict(set)\r\n",
        "  rules = {\r\n",
        "      owner: (dst1, dst2)\r\n",
        "      for (owner, dst1, dst2) in \r\n",
        "      re.findall(r'(bot \\d+) gives low to (\\w+ \\d+) and high to (\\w+ \\d+)', txt)\r\n",
        "  }\r\n",
        "  finish = {17, 61}\r\n",
        "  for chip, dst in re.findall(r'value (\\d+) goes to (\\w+ \\d+)', txt):\r\n",
        "    pass_to('input', dst, int(chip))\r\n",
        "  \r\n",
        "  return owns\r\n",
        "\r\n",
        "day = 10\r\n",
        "txt = get_input(day)\r\n",
        "owns = d10p1(txt)"
      ],
      "execution_count": null,
      "outputs": [
        {
          "output_type": "stream",
          "text": [
            "The bot we want is bot 93\n"
          ],
          "name": "stdout"
        }
      ]
    },
    {
      "cell_type": "code",
      "metadata": {
        "colab": {
          "base_uri": "https://localhost:8080/"
        },
        "id": "G8-zgfU_3Li8",
        "cellView": "form",
        "outputId": "4cb0afa7-7ff4-4222-b99c-dc014b17dd99"
      },
      "source": [
        "#@title Part 2 { form-width: \"20%\" }\r\n",
        "\r\n",
        "out0 = owns['output 0'].pop()\r\n",
        "out1 = owns['output 1'].pop()\r\n",
        "out2 = owns['output 2'].pop()\r\n",
        "\r\n",
        "print(f'Result of mul of first 3 outputs is {out0 * out1 * out2}')"
      ],
      "execution_count": null,
      "outputs": [
        {
          "output_type": "stream",
          "text": [
            "Result of mul of first 3 outputs is 47101\n"
          ],
          "name": "stdout"
        }
      ]
    },
    {
      "cell_type": "markdown",
      "metadata": {
        "id": "8yU_E0DS3opE"
      },
      "source": [
        "# Day 11"
      ]
    },
    {
      "cell_type": "code",
      "metadata": {
        "colab": {
          "base_uri": "https://localhost:8080/"
        },
        "id": "ISHWexM23pmL",
        "cellView": "form",
        "outputId": "e711c12f-0a00-4f61-d1f8-bb3b61f820af"
      },
      "source": [
        "#@title Part 1 { form-width: \"20%\" }\r\n",
        "\r\n",
        "def problem_solver(start, f_heuristic, f_moves):\r\n",
        "  # Heap with next state to be evaluated\r\n",
        "  heap = [(f_heuristic(start), start)]\r\n",
        "  # Dicts to keep track of previous state and cost for each state\r\n",
        "  prev_states = {start: None}\r\n",
        "  costs = {start: 0}\r\n",
        "\r\n",
        "  while heap:\r\n",
        "    (heur, state) = heappop(heap)\r\n",
        "    if f_heuristic(state) == 0:\r\n",
        "      # Goal state, we're done\r\n",
        "      return step(prev_states, state)\r\n",
        "    for new_state in f_moves(state):\r\n",
        "      # Cost is hard-coded to 1 but we could add a cost function to signature\r\n",
        "      new_cost = costs[state] + 1 \r\n",
        "      if new_state not in costs or new_cost < costs[new_state]:\r\n",
        "        # Never seen state OR better solution than previous one\r\n",
        "        heappush(heap, (new_cost + f_heuristic(new_state), new_state))\r\n",
        "        costs[new_state] = new_cost\r\n",
        "        prev_states[new_state] = state\r\n",
        "\r\n",
        "  return dict(fail=True, front=len(heap), prev=len(prev_states))\r\n",
        "\r\n",
        "def step(prev, state):\r\n",
        "  return ([] if state is None else step(prev, prev[state]) + [state])\r\n",
        "\r\n",
        "def heuristic(state):\r\n",
        "  # Calculating how many more moves we need to finish (heuristic obviously)\r\n",
        "  # The idea is that we can move 2 items at the same time and we count how many\r\n",
        "  # floors needs every item to reach top floor\r\n",
        "  remaining = sum(len(floor) * i for (i, floor) in enumerate(reversed(state.floors)))\r\n",
        "  return np.ceil(remaining / 2)\r\n",
        "\r\n",
        "def moves(state):\r\n",
        "  # Possible moves from actual state\r\n",
        "  lvl, floors = state\r\n",
        "\r\n",
        "  # Elevator can move 1 level at a time\r\n",
        "  for new_lvl in {min(lvl + 1, 3), max(lvl - 1, 0)}:\r\n",
        "    # We can bring two things at most\r\n",
        "    for stuff in obj_to_move(floors[lvl]):\r\n",
        "      new_floors = tuple(\r\n",
        "          (s | stuff if i == new_lvl else # Adding new stuff to the level we are heading \r\n",
        "           s - stuff if i == state.elevator else # Removing stuff taken from this level\r\n",
        "           s) # Unchanged level cause we are moving in other floors\r\n",
        "           for (i, s) in enumerate(state.floors)\r\n",
        "           )\r\n",
        "      # Check if the stuff we are moving isn't destroying the building\r\n",
        "      if legal_floor(new_floors[lvl]) and legal_floor(new_floors[new_lvl]):\r\n",
        "        yield State(new_lvl, new_floors)\r\n",
        "\r\n",
        "def legal_floor(floor):\r\n",
        "  # Checking if the floor isn't going to implode\r\n",
        "  # Generators in this floor\r\n",
        "  gens = any(g.endswith('G') for g in floor)\r\n",
        "  # Chips in this floor\r\n",
        "  chips = [c for c in floor if c.endswith('M')]\r\n",
        "  # A floor is legal if there's no generator on it\r\n",
        "  # or if every chip is connected to its generator\r\n",
        "  return not gens or all(c[0] + 'G' in floor for c in chips)\r\n",
        "\r\n",
        "\r\n",
        "def obj_to_move(objs):\r\n",
        "  for x in chain(combinations(objs, 1), combinations(objs, 2)):\r\n",
        "    yield frozenset(x)\r\n",
        "\r\n",
        "def fs(*items): return frozenset(items)\r\n",
        "\r\n",
        "\r\n",
        "State = namedtuple('State', 'elevator, floors')\r\n",
        "floors = {0, 1, 2, 3}\r\n",
        "day = 11\r\n",
        "start = State(0, (fs('PG', 'TG', 'TM', 'pG', 'RG', 'RM', 'CG', 'CM'),\r\n",
        "                  fs('PM', 'pM'),\r\n",
        "                  fs(),\r\n",
        "                  fs()))\r\n",
        "path = problem_solver(start, heuristic, moves)\r\n",
        "print(f'Response is the length of the path to the top: {len(path) -1}')"
      ],
      "execution_count": null,
      "outputs": [
        {
          "output_type": "stream",
          "text": [
            "Response is the length of the path to the top: 47\n"
          ],
          "name": "stdout"
        }
      ]
    },
    {
      "cell_type": "code",
      "metadata": {
        "cellView": "form",
        "id": "fGHpleos3YY0"
      },
      "source": [
        "#@title Part 2 { form-width: \"20%\" }\r\n",
        "# Slow timing, should implement a better heuristic to avoid 'full' grid search\r\n",
        "\r\n",
        "start  = State(0, (fs('PG', 'TG', 'TM', 'pG', 'RG', 'RM', 'CG', 'CM', 'EG', 'EM', 'DG', 'DM'),\r\n",
        "                  fs('PM', 'pM'),\r\n",
        "                  fs(),\r\n",
        "                  fs()))\r\n",
        "\r\n",
        "path = problem_solver(start, heuristic, moves)\r\n",
        "print(f'Response is the length of the path to the top: {len(path) -1}')"
      ],
      "execution_count": null,
      "outputs": []
    },
    {
      "cell_type": "markdown",
      "metadata": {
        "id": "Q_u_tJkrUe2D"
      },
      "source": [
        "# Day 12"
      ]
    },
    {
      "cell_type": "code",
      "metadata": {
        "colab": {
          "base_uri": "https://localhost:8080/"
        },
        "cellView": "form",
        "id": "T0S1NbrEUgn1",
        "outputId": "0320f29b-10a0-4e6c-8e3f-af0a0ff740ad"
      },
      "source": [
        "#@title Part 1 { form-width: \"20%\" }\r\n",
        "\r\n",
        "def d12p1(instructions, regs):\r\n",
        "  # Decrypting password from instructions\r\n",
        "  i = 0\r\n",
        "  while i < len(instructions):\r\n",
        "    splits = instructions[i].split(' ')\r\n",
        "    i += execute(splits, regs)\r\n",
        "    \r\n",
        "  return regs\r\n",
        "\r\n",
        "def execute(ex, regs):\r\n",
        "  # Execution of single instruction -> Returning the offset for next instruction\r\n",
        "  ret = 1\r\n",
        "  if ex[0] == 'cpy':\r\n",
        "    regs[ex[2]] = regs[ex[1]] if ex[1].isalpha() else int(ex[1])\r\n",
        "  elif ex[0] == 'inc':\r\n",
        "    regs[ex[1]] += 1\r\n",
        "  elif ex[0] == 'dec':\r\n",
        "    regs[ex[1]] -= 1\r\n",
        "  elif ex[0] == 'jnz':\r\n",
        "    check = regs[ex[1]] if ex[1].isalpha() else ex[1]\r\n",
        "    ret = int(ex[2]) if check != 0 else 1\r\n",
        "  return ret\r\n",
        "\r\n",
        "# It's day 12\r\n",
        "day = 12\r\n",
        "lines = get_input_as_lines(day)\r\n",
        "regs = {\r\n",
        "    'a': 0,\r\n",
        "    'b': 0,\r\n",
        "    'c': 0,\r\n",
        "    'd': 0\r\n",
        "}\r\n",
        "ret = d12p1(lines, regs)['a']\r\n",
        "print(f'Reg \\'a\\' contains: {ret}')"
      ],
      "execution_count": null,
      "outputs": [
        {
          "output_type": "stream",
          "text": [
            "Registry a contains: 318009\n"
          ],
          "name": "stdout"
        }
      ]
    },
    {
      "cell_type": "code",
      "metadata": {
        "colab": {
          "base_uri": "https://localhost:8080/"
        },
        "cellView": "form",
        "id": "dfDferyXVP3-",
        "outputId": "4ba82074-0308-4821-ee91-c25b5c8d0c16"
      },
      "source": [
        "#@title Part 2 { form-width: \"20%\" }\r\n",
        "\r\n",
        "# Just need to wait a bit longer\r\n",
        "regs = {\r\n",
        "    'a': 0,\r\n",
        "    'b': 0,\r\n",
        "    'c': 1,\r\n",
        "    'd': 0\r\n",
        "}\r\n",
        "ret = d12p1(lines, regs)['a']\r\n",
        "\r\n",
        "print(f'Reg \\'a\\' contains: {ret}')"
      ],
      "execution_count": null,
      "outputs": [
        {
          "output_type": "stream",
          "text": [
            "Reg 'a' contains: 9227663\n"
          ],
          "name": "stdout"
        }
      ]
    },
    {
      "cell_type": "markdown",
      "metadata": {
        "id": "1z3IFfqDWvwl"
      },
      "source": [
        "# Day 13"
      ]
    },
    {
      "cell_type": "code",
      "metadata": {
        "colab": {
          "base_uri": "https://localhost:8080/"
        },
        "cellView": "form",
        "id": "nknLvlX1WNVy",
        "outputId": "602beb09-7524-44b0-a5a7-67e1b09a5688"
      },
      "source": [
        "#@title Part 1 { form-width: \"20%\" }\r\n",
        "\r\n",
        "# Optimization problem means problem_solver being helpful\r\n",
        "def problem_solver(start, f_heuristic, f_moves):\r\n",
        "  # Heap with next state to be evaluated\r\n",
        "  heap = [(f_heuristic(start), start)]\r\n",
        "  # Dicts to keep track of previous state and cost for each state\r\n",
        "  prev_states = {start: None}\r\n",
        "  costs = {start: 0}\r\n",
        "\r\n",
        "  while heap:\r\n",
        "    (heur, state) = heappop(heap)\r\n",
        "    if f_heuristic(state) == 0:\r\n",
        "      # Goal state, we're done\r\n",
        "      return step(prev_states, state)\r\n",
        "    for new_state in f_moves(state):\r\n",
        "      # Cost is hard-coded to 1 but we could add a cost function to signature\r\n",
        "      new_cost = costs[state] + 1 \r\n",
        "      if new_state not in costs or new_cost < costs[new_state]:\r\n",
        "        # Never seen state OR better solution than previous one\r\n",
        "        heappush(heap, (new_cost + f_heuristic(new_state), new_state))\r\n",
        "        costs[new_state] = new_cost\r\n",
        "        prev_states[new_state] = state\r\n",
        "\r\n",
        "  return dict(fail=True, front=len(heap), prev=len(prev_states))\r\n",
        "\r\n",
        "def heuristic(state):\r\n",
        "  # Our heuristic is the city-distance between this state and goal state\r\n",
        "  return abs(state.x - goal['x']) + abs(state.y - goal['y']) \r\n",
        "\r\n",
        "def moves(state):\r\n",
        "  # Possible moves from this state\r\n",
        "  x, y = state\r\n",
        "  for x2, y2 in list(product([x], [y-1, y+1])) + list(product([x-1, x+1], [y])):\r\n",
        "    if legal_move(x2, y2):\r\n",
        "      yield State(x2, y2)\r\n",
        "\r\n",
        "def legal_move(x, y):\r\n",
        "  if x < 0 or y < 0:\r\n",
        "    return False\r\n",
        "\r\n",
        "  res = x*x + 3*x + 2*x*y + y + y*y + favorite\r\n",
        "  return False if count_ones_binary(res) % 2 else True\r\n",
        "\r\n",
        "def step(prev, state):\r\n",
        "  return ([] if state is None else step(prev, prev[state]) + [state])\r\n",
        "\r\n",
        "def count_ones_binary(num):\r\n",
        "  return sum([1 if x == '1' else 0 for x in list(f'{num:b}')])\r\n",
        "\r\n",
        "State = namedtuple('State', 'x, y')\r\n",
        "\r\n",
        "# It's day 13, but we have no input to get from the web\r\n",
        "goal = {'x': 31, 'y': 39}\r\n",
        "favorite = 1362\r\n",
        "path = problem_solver(State(1,1), heuristic, moves)\r\n",
        "print(f'Number of moves to reach (31,39) is: {len(path)}')"
      ],
      "execution_count": null,
      "outputs": [
        {
          "output_type": "stream",
          "text": [
            "Number of moves to reach (31,39) is: 83\n"
          ],
          "name": "stdout"
        }
      ]
    },
    {
      "cell_type": "code",
      "metadata": {
        "colab": {
          "base_uri": "https://localhost:8080/"
        },
        "cellView": "form",
        "id": "gTl0Z3XCXuoj",
        "outputId": "478bbae3-f707-483a-a424-1128d80fcbae"
      },
      "source": [
        "#@title Part 2 { form-width: \"20%\" }\r\n",
        "\r\n",
        "# We need a new func\r\n",
        "def distinct_locations(start, N, f_moves):\r\n",
        "    # Heap with next state to be evaluated\r\n",
        "  heap = [start]\r\n",
        "  # Dict to keep track num of locations\r\n",
        "  distance = {start: 0}\r\n",
        "\r\n",
        "  while heap:\r\n",
        "    (state) = heappop(heap)\r\n",
        "    # Save the location if we did less than 50 steps\r\n",
        "    if distance[state] < N:\r\n",
        "      for new_state in f_moves(state):\r\n",
        "        if new_state not in distance:\r\n",
        "          # Never seen state OR better solution than previous one\r\n",
        "          heappush(heap, new_state)\r\n",
        "          distance[new_state] = distance[state] +1\r\n",
        "\r\n",
        "  return len(distance)\r\n",
        "\r\n",
        "# Actual Run\r\n",
        "locs = distinct_locations(State(1,1), 50, moves)\r\n",
        "print(f'Max distinct locations visited in 50 moves: {locs}')"
      ],
      "execution_count": null,
      "outputs": [
        {
          "output_type": "stream",
          "text": [
            "Max distinct locations visited in 50 moves: 138\n"
          ],
          "name": "stdout"
        }
      ]
    },
    {
      "cell_type": "markdown",
      "metadata": {
        "id": "9pEDBIgXYKeA"
      },
      "source": [
        "# Day 14"
      ]
    },
    {
      "cell_type": "code",
      "metadata": {
        "colab": {
          "base_uri": "https://localhost:8080/"
        },
        "cellView": "form",
        "id": "yVDCRWptYNa4",
        "outputId": "8c0323a9-00bf-4dc7-d6f4-5b63f948d955"
      },
      "source": [
        "#@title Part 1 { form-width: \"20%\" }\r\n",
        "\r\n",
        "@lru_cache(1001)\r\n",
        "def hash_gen(code):\r\n",
        "  code = hashlib.md5(code.encode()).hexdigest()\r\n",
        "  return code\r\n",
        "\r\n",
        "def is_key(salt, i):\r\n",
        "  # First rule: same char repeating 3 times in MD5 hash\r\n",
        "  match = re.search(r'(.)\\1\\1', hash_gen(f'{salt}{i}'))\r\n",
        "  if match:\r\n",
        "    ch = match.group(1) * 5\r\n",
        "    # Second rule: one of the next 1000 MD5 hashes must contain a char \r\n",
        "    # repeating 5 times\r\n",
        "    return 1 if any(ch in hash_gen(f'{salt}{off}')\r\n",
        "                    for off in range(i + 1 , i + 1001)) else 0\r\n",
        "    \r\n",
        "  return 0\r\n",
        "\r\n",
        "def d14p1(salt):\r\n",
        "  i = 0\r\n",
        "  keys = 0\r\n",
        "  while keys < 64:\r\n",
        "    keys += is_key(salt, i)\r\n",
        "    i += 1\r\n",
        "  \r\n",
        "  return i - 1\r\n",
        "\r\n",
        "salt = 'cuanljph'\r\n",
        "print(f'64-th key is generated by index: {d14p1(salt)}')"
      ],
      "execution_count": null,
      "outputs": [
        {
          "output_type": "stream",
          "text": [
            "64-th key is generated by index: 23769\n"
          ],
          "name": "stdout"
        }
      ]
    },
    {
      "cell_type": "code",
      "metadata": {
        "colab": {
          "base_uri": "https://localhost:8080/"
        },
        "cellView": "form",
        "id": "qOMiQw9kaDpX",
        "outputId": "73787f65-f622-49dd-bb66-3a5ca0f39032"
      },
      "source": [
        "#@title Part 2 { form-width: \"20%\" }\r\n",
        "\r\n",
        "@lru_cache(1001)\r\n",
        "def hash_gen(code):\r\n",
        "  for j in range(2017):\r\n",
        "    code = hashlib.md5(code.encode()).hexdigest()\r\n",
        "  return code\r\n",
        "\r\n",
        "print(f'64-th key is generated by index: {d14p1(salt)}')"
      ],
      "execution_count": null,
      "outputs": [
        {
          "output_type": "stream",
          "text": [
            "64-th key is generated by index: 20606\n"
          ],
          "name": "stdout"
        }
      ]
    },
    {
      "cell_type": "markdown",
      "metadata": {
        "id": "XruMuZxxa3G8"
      },
      "source": [
        "# Day 15"
      ]
    },
    {
      "cell_type": "code",
      "metadata": {
        "colab": {
          "base_uri": "https://localhost:8080/"
        },
        "id": "P2HhOegca4eX",
        "cellView": "form",
        "outputId": "aba034f9-770f-4f5b-e201-da9f8e6043ba"
      },
      "source": [
        "#@title Part 1 { form-width: \"20%\" }\r\n",
        "\r\n",
        "def starting_discs(txt):\r\n",
        "  # Each disc has a pos and a total number of positions\r\n",
        "  return [(int(x[0]), int(x[1]), int(x[2]))\r\n",
        "          for x in re.findall(r'#(\\d+) .+ (\\d+) positions.+position (\\d+)',txt)]\r\n",
        "\r\n",
        "def button_pushed(time, discs):\r\n",
        "  for pos, tot, start in discs:\r\n",
        "    if ((start + pos + time) % tot) != 0:\r\n",
        "      return False\r\n",
        "  return True\r\n",
        "\r\n",
        "def d15p1(txt):\r\n",
        "  time = 0\r\n",
        "  ret = False\r\n",
        "\r\n",
        "  while not ret:\r\n",
        "    discs = starting_discs(txt)\r\n",
        "    ret = button_pushed(time, discs) \r\n",
        "    time += 1\r\n",
        "\r\n",
        "  # We updated time even if we found our solution -> time - 1\r\n",
        "  return time - 1\r\n",
        "\r\n",
        "# It's day 15\r\n",
        "day = 15\r\n",
        "txt = get_input(day)\r\n",
        "ret = d15p1(txt)\r\n",
        "print(f'I got my capsule at time: {ret}')"
      ],
      "execution_count": null,
      "outputs": [
        {
          "output_type": "stream",
          "text": [
            "I got my capsule at time: 121834\n"
          ],
          "name": "stdout"
        }
      ]
    },
    {
      "cell_type": "code",
      "metadata": {
        "colab": {
          "base_uri": "https://localhost:8080/"
        },
        "id": "igEVOOK0canI",
        "cellView": "form",
        "outputId": "75a61fdc-7adf-416d-deef-4857991a3771"
      },
      "source": [
        "#@title Part 2 { form-width: \"20%\" }\r\n",
        "\r\n",
        "# I will add the new input hard-coded as it is faster\r\n",
        "def d15p2(txt):\r\n",
        "  time = 0\r\n",
        "  ret = False\r\n",
        "\r\n",
        "  while not ret:\r\n",
        "    discs = starting_discs(txt)\r\n",
        "    discs.append((7, 11, 0)) # Here's the change\r\n",
        "    ret = button_pushed(time, discs) \r\n",
        "    time += 1\r\n",
        "\r\n",
        "  # We updated time even if we found our solution -> time - 1\r\n",
        "  return time - 1\r\n",
        "\r\n",
        "# It's day 15\r\n",
        "day = 15\r\n",
        "txt = get_input(day)\r\n",
        "ret = d15p2(txt)\r\n",
        "print(f'I got my capsule at time: {ret}')"
      ],
      "execution_count": null,
      "outputs": [
        {
          "output_type": "stream",
          "text": [
            "I got my capsule at time: 3208099\n"
          ],
          "name": "stdout"
        }
      ]
    },
    {
      "cell_type": "markdown",
      "metadata": {
        "id": "GvwqkJfYm6fc"
      },
      "source": [
        "# Day 16"
      ]
    },
    {
      "cell_type": "code",
      "metadata": {
        "id": "knSG1NRSm705",
        "colab": {
          "base_uri": "https://localhost:8080/"
        },
        "cellView": "form",
        "outputId": "f6e773a7-83ea-4879-c3c6-f5559b78326f"
      },
      "source": [
        "#@title Part 1 { form-width: \"20%\" }\r\n",
        "\r\n",
        "def produce_data(data, L):\r\n",
        "  while len(data) < L:\r\n",
        "    b = data[:]\r\n",
        "    b = b[::-1]\r\n",
        "    b = b.replace('0', '_').replace('1', '0').replace('_', '1')\r\n",
        "    data += '0' + b\r\n",
        "  return data\r\n",
        "\r\n",
        "def checksum(data):\r\n",
        "  return ''.join(\r\n",
        "      ['1' if data[i] == data[i+1] else '0' for i in range(0, len(data), 2)]\r\n",
        "  )\r\n",
        "\r\n",
        "def d16p1(start, L):\r\n",
        "  data = produce_data(start, L)\r\n",
        "  check = checksum(data[:L])\r\n",
        "  while (len(check) % 2) == 0:\r\n",
        "    check = checksum(check)\r\n",
        "\r\n",
        "  return check\r\n",
        "\r\n",
        "# My inputs\r\n",
        "start = '01110110101001000'\r\n",
        "L = 272\r\n",
        "check = d16p1(start, L)\r\n",
        "print(f'Checksum of my input is: {check}')"
      ],
      "execution_count": null,
      "outputs": [
        {
          "output_type": "stream",
          "text": [
            "Checksum of my input is: 11100111011101111\n"
          ],
          "name": "stdout"
        }
      ]
    },
    {
      "cell_type": "code",
      "metadata": {
        "colab": {
          "base_uri": "https://localhost:8080/"
        },
        "id": "wGACdugan7SU",
        "cellView": "form",
        "outputId": "5bf7e9f8-02cf-46e3-8b15-c7e1869333a3"
      },
      "source": [
        "#@title Part 2 { form-width: \"20%\" }\r\n",
        "\r\n",
        "L = 35651584\r\n",
        "check = d16p1(start, L)\r\n",
        "print(f'Checksum of my input is: {check}')"
      ],
      "execution_count": null,
      "outputs": [
        {
          "output_type": "stream",
          "text": [
            "Checksum of my input is: 10001110010000110\n"
          ],
          "name": "stdout"
        }
      ]
    },
    {
      "cell_type": "markdown",
      "metadata": {
        "id": "OrNaqeGz4Zd1"
      },
      "source": [
        "# Day 17"
      ]
    },
    {
      "cell_type": "code",
      "metadata": {
        "colab": {
          "base_uri": "https://localhost:8080/"
        },
        "id": "hRpN0_zcn9_y",
        "cellView": "form",
        "outputId": "e02ea272-80aa-4014-a981-f98a4046d44c"
      },
      "source": [
        "#@title Part 1 { form-width: \"20%\" }\r\n",
        "\r\n",
        "# Once again, we need a problem solver\r\n",
        "def problem_solver(start, f_heuristic, f_moves):\r\n",
        "  # Heap with next state to be evaluated\r\n",
        "  heap = [(f_heuristic(start), start)]\r\n",
        "  # Dicts to keep track of previous state and cost for each state\r\n",
        "  prev_states = {start: None}\r\n",
        "  costs = {start: 0}\r\n",
        "\r\n",
        "  while heap:\r\n",
        "    (heur, state) = heappop(heap)\r\n",
        "    if f_heuristic(state) == 0:\r\n",
        "      # Goal state, we're done\r\n",
        "      return state.path\r\n",
        "    for new_state in f_moves(state):\r\n",
        "      # Cost is hard-coded to 1 but we could add a cost function to signature\r\n",
        "      new_cost = costs[state] + 1 \r\n",
        "      if new_state not in costs:\r\n",
        "        # Never seen state OR better solution than previous one\r\n",
        "        heappush(heap, (new_cost + f_heuristic(new_state), new_state))\r\n",
        "        costs[new_state] = new_cost\r\n",
        "        prev_states[new_state] = state\r\n",
        "\r\n",
        "  return dict(fail=True, front=len(heap), prev=len(prev_states))\r\n",
        "\r\n",
        "def heuristic(state):\r\n",
        "  # Our heuristic will be the distance between here and goal\r\n",
        "  return abs(state.x - goal['x']) + abs(state.y - goal['y'])\r\n",
        "\r\n",
        "def moves(state):\r\n",
        "  x, y, path = state\r\n",
        "  legal_moves = legal_move(path)\r\n",
        "  if legal_moves[0] and 0 <= y - 1 <= 3: yield State(x, y - 1, path + 'U')\r\n",
        "  if legal_moves[1] and 0 <= y + 1 <= 3: yield State(x, y + 1, path + 'D')\r\n",
        "  if legal_moves[2] and 0 <= x - 1 <= 3: yield State(x - 1, y, path + 'L')\r\n",
        "  if legal_moves[3] and 0 <= x + 1 <= 3: yield State(x + 1, y, path + 'R')\r\n",
        "\r\n",
        "  \r\n",
        "def legal_move(path):\r\n",
        "  # Checkin hashing\r\n",
        "  code = passcode + path\r\n",
        "  h = hashlib.md5(code.encode()).hexdigest()[:4]\r\n",
        "  return [True if x in 'bcdef' else False for x in h]\r\n",
        "\r\n",
        "State = namedtuple('State', 'x, y, path')\r\n",
        "\r\n",
        "# My input\r\n",
        "passcode = 'bwnlcvfs'\r\n",
        "goal = {'x': 3, 'y': 3}\r\n",
        "path = problem_solver(State(0, 0, ''), heuristic, moves)\r\n",
        "print(f'Fastest path is {path}')"
      ],
      "execution_count": null,
      "outputs": [
        {
          "output_type": "stream",
          "text": [
            "Fastest path is DDURRLRRDD\n"
          ],
          "name": "stdout"
        }
      ]
    },
    {
      "cell_type": "code",
      "metadata": {
        "id": "E-3V12eH4gLH",
        "colab": {
          "base_uri": "https://localhost:8080/"
        },
        "cellView": "form",
        "outputId": "c320356b-23a0-4719-dbe5-2b3ed6bbde74"
      },
      "source": [
        "#@title Part 2 { form-width: \"20%\" }\r\n",
        "\r\n",
        "# Our problem solver needs to change its habits\r\n",
        "def new_solver(start, f_moves):\r\n",
        "  # Heap with next state to be evaluated\r\n",
        "  heap = [start]\r\n",
        "  ret = 0\r\n",
        "\r\n",
        "  while heap:\r\n",
        "    state = heap.pop()\r\n",
        "    if state.x == 3 and state.y == 3:\r\n",
        "      # Goal state, we're done\r\n",
        "      ret = max(ret, len(state.path))\r\n",
        "    else:\r\n",
        "      heap.extend(f_moves(state))\r\n",
        "  \r\n",
        "  return ret\r\n",
        "\r\n",
        "path = new_solver(State(0, 0, ''), moves)\r\n",
        "print(f'Longest path is {path}')"
      ],
      "execution_count": null,
      "outputs": [
        {
          "output_type": "stream",
          "text": [
            "Longest path is 436\n"
          ],
          "name": "stdout"
        }
      ]
    },
    {
      "cell_type": "markdown",
      "metadata": {
        "id": "IKbH_TaMzqzH"
      },
      "source": [
        "# Day 18"
      ]
    },
    {
      "cell_type": "code",
      "metadata": {
        "colab": {
          "base_uri": "https://localhost:8080/"
        },
        "cellView": "form",
        "id": "-u2G8Pq1zshS",
        "outputId": "435fa900-db35-4577-b631-54d68685993b"
      },
      "source": [
        "#@title Part 1 { form-width: \"20%\" }\r\n",
        "\r\n",
        "def safe_or_not(pos, prev):\r\n",
        "  # Check if i'm going to die\r\n",
        "  left = prev[pos - 1] if pos - 1 >= 0 else '.'\r\n",
        "  center = prev[pos]\r\n",
        "  right = prev[pos + 1] if pos + 1 < len(prev) else '.'\r\n",
        "  if left == center == '^' and right == '.': return '^'\r\n",
        "  if center == right == '^' and left == '.': return '^'\r\n",
        "  if center == right == '.' and left == '^': return '^'\r\n",
        "  if center == left == '.' and right == '^': return '^'\r\n",
        "  \r\n",
        "  return '.'\r\n",
        "\r\n",
        "def d18p1(start, N):\r\n",
        "  row = start\r\n",
        "  ret = [start]\r\n",
        "  safe = sum([1 if x == '.' else 0 for x in start])\r\n",
        "  for i in range(0, N - 1):\r\n",
        "    row = ''.join([safe_or_not(pos, row) for pos, _ in enumerate(row)])\r\n",
        "    safe += sum([1 if x == '.' else 0 for x in row])\r\n",
        "    ret.append(row)\r\n",
        "\r\n",
        "  return ret, safe\r\n",
        "\r\n",
        "# It's day 18\r\n",
        "day = 18\r\n",
        "txt = get_input(day).replace('\\n', '')\r\n",
        "N = 40\r\n",
        "map, safe = d18p1(txt, N)\r\n",
        "print(f'In first {N} rows we have {safe} safe tiles!')"
      ],
      "execution_count": null,
      "outputs": [
        {
          "output_type": "stream",
          "text": [
            "In first 40 rows we have 1974 safe tiles!\n",
            "time: 197 ms (started: 2021-03-14 08:31:16 +00:00)\n"
          ],
          "name": "stdout"
        }
      ]
    },
    {
      "cell_type": "code",
      "metadata": {
        "colab": {
          "base_uri": "https://localhost:8080/"
        },
        "cellView": "form",
        "id": "-KClKEXXzvb9",
        "outputId": "7b5b2b03-1294-41be-a94b-2488d43860d0"
      },
      "source": [
        "#@title Part 2 { form-width: \"20%\" }\r\n",
        "\r\n",
        "# Just a bit longer waiting\r\n",
        "N = 400000\r\n",
        "map, safe = compute_tiles(txt, N)\r\n",
        "print(f'In first {N} rows we have {safe} safe tiles!')"
      ],
      "execution_count": null,
      "outputs": [
        {
          "output_type": "stream",
          "text": [
            "In first 400000 rows we have 19991126 safe tiles!\n",
            "time: 24.9 s (started: 2021-03-14 08:31:19 +00:00)\n"
          ],
          "name": "stdout"
        }
      ]
    },
    {
      "cell_type": "markdown",
      "metadata": {
        "id": "XI5Pkzw43IBt"
      },
      "source": [
        "# Day 19"
      ]
    },
    {
      "cell_type": "code",
      "metadata": {
        "colab": {
          "base_uri": "https://localhost:8080/"
        },
        "cellView": "form",
        "id": "YOge2Lva3HXp",
        "outputId": "3e4cbd93-0565-407a-a089-61d8a53f1298"
      },
      "source": [
        "#@title Part 1 { form-width: \"20%\" }\r\n",
        "\r\n",
        "# Super short version, so we need to document a bit\r\n",
        "# Credits to @norvig for intuition\r\n",
        "\r\n",
        "def winner(elves):\r\n",
        "  # If we have one element, he's the winner, otherwise we increase the distance\r\n",
        "  # between 2 elves with presents (increasing distance means we double the\r\n",
        "  # range)\r\n",
        "  return (elves[0] if (len(elves) == 1) else winner(one_round(elves)))\r\n",
        "\r\n",
        "def one_round(elves): \r\n",
        "  # If number of elves is even we skip odd numbers (elf 1-3-5.. get their\r\n",
        "  # presents stolen)\r\n",
        "  # If the number is odd we have the same pattern, beside last one that steals\r\n",
        "  # from first\r\n",
        "  return (elves[0::2] if (len(elves) % 2 == 0) else elves[2::2])\r\n",
        "\r\n",
        "elves = 3014603\r\n",
        "ret = winner(range(1, elves + 1))\r\n",
        "print(f'The winner is number {ret}')"
      ],
      "execution_count": null,
      "outputs": [
        {
          "output_type": "stream",
          "text": [
            "The winner is number 1834903\n",
            "time: 7.31 ms (started: 2021-03-14 08:35:38 +00:00)\n"
          ],
          "name": "stdout"
        }
      ]
    },
    {
      "cell_type": "code",
      "metadata": {
        "colab": {
          "base_uri": "https://localhost:8080/"
        },
        "cellView": "form",
        "id": "cuRufWq03KQw",
        "outputId": "2392925d-ceca-4c4c-cfca-aa57ec40e174"
      },
      "source": [
        "#@title Part 2 { form-width: \"20%\" }\r\n",
        "\r\n",
        "# We need to redefine the round\r\n",
        "def one_round(elves):\r\n",
        "  N = len(elves)\r\n",
        "  # We need to skip the ones eliminated so we keep track of how many they are\r\n",
        "  eliminated = 0\r\n",
        "  for i in range(int(np.ceil(N / 3))):\r\n",
        "    across = i + eliminated + (N // 2)\r\n",
        "    elves[across] = None\r\n",
        "    N -= 1\r\n",
        "    eliminated += 1\r\n",
        "  return list(filter(None, elves[i+1:] + elves[:i+1]))\r\n",
        "\r\n",
        "elves = 3014603\r\n",
        "winner(list(range(1, elves + 1)))"
      ],
      "execution_count": null,
      "outputs": [
        {
          "output_type": "execute_result",
          "data": {
            "text/plain": [
              "1420280"
            ]
          },
          "metadata": {
            "tags": []
          },
          "execution_count": 20
        },
        {
          "output_type": "stream",
          "text": [
            "time: 1.3 s (started: 2021-03-14 08:36:08 +00:00)\n"
          ],
          "name": "stdout"
        }
      ]
    },
    {
      "cell_type": "markdown",
      "metadata": {
        "id": "iRwYWBhB4WrS"
      },
      "source": [
        "# Day 20"
      ]
    },
    {
      "cell_type": "code",
      "metadata": {
        "colab": {
          "base_uri": "https://localhost:8080/"
        },
        "cellView": "form",
        "id": "zrrApplW4X0n",
        "outputId": "b6a87d17-1c86-455d-c66f-e38f720fe904"
      },
      "source": [
        "#@title Part 1 { form-width: \"20%\" }\r\n",
        "\r\n",
        "# We use too much RAM if we try to build the blocked numbers, so we do it\r\n",
        "# the other way\r\n",
        "# We yield the range of values between current IP and minimum value of the\r\n",
        "# current range of blocked\r\n",
        "# We update the current candidate IP with the maximum value\r\n",
        "def find_lowest(blacklisted):\r\n",
        "  ip = 0\r\n",
        "  for min_r, max_r in blacklisted:\r\n",
        "    if len(range(ip, min_r)) > 0:\r\n",
        "      yield range(ip, min_r) \r\n",
        "    ip = max(ip, max_r + 1)\r\n",
        "  \r\n",
        "def d20p1(txt):\r\n",
        "  blacklisted = sorted(\r\n",
        "      [(int(x), int(y))\r\n",
        "       for x, y in re.findall(r'(\\d+)-(\\d+)', txt)],\r\n",
        "      key=lambda x: x[0]\r\n",
        "  )\r\n",
        "\r\n",
        "  return list(find_lowest(blacklisted))\r\n",
        "\r\n",
        "# It's day 20\r\n",
        "day = 20\r\n",
        "txt = get_input(20)\r\n",
        "ret = d20p1(txt)\r\n",
        "print(f'Lowest IP is {list(ret[0])[0]}')"
      ],
      "execution_count": null,
      "outputs": [
        {
          "output_type": "stream",
          "text": [
            "Lowest IP is 17348574\n",
            "time: 59.9 ms (started: 2021-03-14 08:52:36 +00:00)\n"
          ],
          "name": "stdout"
        }
      ]
    },
    {
      "cell_type": "code",
      "metadata": {
        "colab": {
          "base_uri": "https://localhost:8080/"
        },
        "cellView": "form",
        "id": "VuZtYoyl4aBC",
        "outputId": "c44d56f5-6c9e-4652-9a24-f61020dff210"
      },
      "source": [
        "#@title Part 2 { form-width: \"20%\" }\r\n",
        "\r\n",
        "count = len([list(r) for r in ret])\r\n",
        "print(f'Total number of IPs allowed is {count}')"
      ],
      "execution_count": null,
      "outputs": [
        {
          "output_type": "stream",
          "text": [
            "Total number of IPs allowed is 104\n",
            "time: 5.75 ms (started: 2021-03-14 08:52:36 +00:00)\n"
          ],
          "name": "stdout"
        }
      ]
    },
    {
      "cell_type": "markdown",
      "metadata": {
        "id": "D1P1zJaq8Let"
      },
      "source": [
        "# Day 21"
      ]
    },
    {
      "cell_type": "code",
      "metadata": {
        "colab": {
          "base_uri": "https://localhost:8080/"
        },
        "cellView": "form",
        "id": "LDCbpgUx7_IT",
        "outputId": "298187dc-4d2b-4001-e004-16953d29dfeb"
      },
      "source": [
        "#@title Part 1 { form-width: \"20%\" }\r\n",
        "\r\n",
        "def rotate(pw, s, dir):\r\n",
        "  return pw[-s:] + pw[:-s] if dir == 'right' else pw[s:] + pw[:s]\r\n",
        "\r\n",
        "def apply_move(line, pw):\r\n",
        "  if line.startswith('swap position'):\r\n",
        "    x, y = re.findall(r'(\\d) with position (\\d)', line)[0]\r\n",
        "    pw[int(x)], pw[int(y)] = pw[int(y)], pw[int(x)]\r\n",
        "  elif line.startswith('swap letter'):\r\n",
        "    x, y = re.findall(r'([a-z]) with letter ([a-z])', line)[0]\r\n",
        "    idx_x, idx_y = pw.index(x), pw.index(y)\r\n",
        "    pw[idx_x], pw[idx_y] = pw[idx_y], pw[idx_x]\r\n",
        "  elif re.match(r'rotate [left|right]', line) is not None:\r\n",
        "    pw = rotate(pw, int(re.findall(r'(\\d)', line)[0]), re.findall(r'(left|right)', line)[0])\r\n",
        "  elif line.startswith('rotate based'):\r\n",
        "    x = re.findall(r'letter ([a-z])', line)[0]\r\n",
        "    idx = pw.index(x)\r\n",
        "    pw = rotate(pw, 1, 'right')\r\n",
        "    pw = rotate(pw, idx, 'right')\r\n",
        "    if idx >= 4:\r\n",
        "      pw = rotate(pw, 1, 'right')\r\n",
        "  elif line.startswith('reverse'):\r\n",
        "    x, y = re.findall(r'(\\d+) through (\\d+)', line)[0]\r\n",
        "    x, y = int(x), int(y)\r\n",
        "    pw[x:y+1] = pw[x:y+1][::-1]\r\n",
        "  elif line.startswith('move'):\r\n",
        "    x, y = re.findall(r'(\\d+) to position (\\d+)', line)[0]\r\n",
        "    x, y = int(x), int(y)\r\n",
        "    pw[x:x+1], pw[y:y] = [], pw[x:x+1]\r\n",
        "    \r\n",
        "  return pw\r\n",
        "\r\n",
        "def d21p1(lines, pw):\r\n",
        "  for line in lines:\r\n",
        "    pw = apply_move(line, pw)\r\n",
        "\r\n",
        "  return ''.join(pw)\r\n",
        "\r\n",
        "# It's day 21\r\n",
        "day = 21\r\n",
        "lines = get_input_as_lines(day)\r\n",
        "start = list('abcdefgh')\r\n",
        "ret = d21p1(lines, start)\r\n",
        "print(f'Result of scrambling is {ret}')"
      ],
      "execution_count": null,
      "outputs": [
        {
          "output_type": "stream",
          "text": [
            "Result of scrambling is hcdefbag\n",
            "time: 220 ms (started: 2021-03-14 09:02:40 +00:00)\n"
          ],
          "name": "stdout"
        }
      ]
    },
    {
      "cell_type": "code",
      "metadata": {
        "cellView": "form",
        "id": "F-faWxkd8POB"
      },
      "source": [
        "#@title Part 2 { form-width: \"20%\" }\r\n",
        "\r\n",
        "# Bit lazy, so i go with the brute force way\r\n",
        "def d21p2(lines, goal):\r\n",
        "  for p in permutations(goal):\r\n",
        "    if scramble(lines, list(p)) == goal:\r\n",
        "      return p\r\n",
        "\r\n",
        "goal = 'fbgdceah'\r\n",
        "ret = d21p2(lines, goal)\r\n",
        "print(f'Unscrambling \\'fbgdceah\\' gives: {ret}')"
      ],
      "execution_count": null,
      "outputs": []
    },
    {
      "cell_type": "markdown",
      "metadata": {
        "id": "j-7arkcg-h_A"
      },
      "source": [
        "# Day 22"
      ]
    },
    {
      "cell_type": "code",
      "metadata": {
        "colab": {
          "base_uri": "https://localhost:8080/"
        },
        "id": "X6Tim68P-jJa",
        "cellView": "form",
        "outputId": "0f78e339-2d76-4d81-ad6e-1dc662986a13"
      },
      "source": [
        "#@title Part 1 { form-width: \"20%\" }\r\n",
        "\r\n",
        "def parse_int(line):\r\n",
        "  return [int(x) for x in re.findall(r'\\d+', line)]\r\n",
        "\r\n",
        "def viable_pair(a, b):\r\n",
        "  return a != b and 0 < a.used <= b.avail\r\n",
        "\r\n",
        "def d22p1(lines):\r\n",
        "  grid = [Node(*parse_int(line)) for line in lines if line.startswith('/dev')]\r\n",
        "  count = sum([viable_pair(a, b) for a, b in permutations(grid, 2)])\r\n",
        "\r\n",
        "  return count\r\n",
        "\r\n",
        "Node = namedtuple('Node', 'x, y, size, used, avail, perc')\r\n",
        "\r\n",
        "# It's day 22\r\n",
        "day = 22\r\n",
        "lines = get_input_as_lines(day)\r\n",
        "ret = d22p1(lines)\r\n",
        "print(f'Viable pairs of my input are {ret}')"
      ],
      "execution_count": 3,
      "outputs": [
        {
          "output_type": "stream",
          "text": [
            "Viable pairs of my input are 1034\n",
            "time: 463 ms (started: 2021-03-16 20:07:02 +00:00)\n"
          ],
          "name": "stdout"
        }
      ]
    },
    {
      "cell_type": "code",
      "metadata": {
        "id": "-x5SUt34-lN8",
        "colab": {
          "base_uri": "https://localhost:8080/"
        },
        "cellView": "form",
        "outputId": "3cbd68b2-6107-47e5-c11e-ee3dc2117504"
      },
      "source": [
        "#@title Part 2 { form-width: \"20%\" }\r\n",
        "\r\n",
        "# YAOP! (Yet Another Optimization Problem)\r\n",
        "State = namedtuple('State', 'goalpos, emptypos')\r\n",
        "\r\n",
        "def problem_solver(start, f_heuristic, f_moves):\r\n",
        "  # Heap with next state to be evaluated\r\n",
        "  heap = [(f_heuristic(start), start)]\r\n",
        "  # Dicts to keep track of previous state and cost for each state\r\n",
        "  prev_states = {start: None}\r\n",
        "  costs = {start: 0}\r\n",
        "\r\n",
        "  while heap:\r\n",
        "    (heur, state) = heappop(heap)\r\n",
        "    if f_heuristic(state) == 0:\r\n",
        "      # Goal state, we're done\r\n",
        "      return step(prev_states, state)\r\n",
        "    for new_state in f_moves(state):\r\n",
        "      # Cost is hard-coded to 1 but we could add a cost function to signature\r\n",
        "      new_cost = costs[state] + 1 \r\n",
        "      if new_state not in costs or new_cost < costs[new_state]:\r\n",
        "        # Never seen state OR better solution than previous one\r\n",
        "        heappush(heap, (new_cost + f_heuristic(new_state), new_state))\r\n",
        "        costs[new_state] = new_cost\r\n",
        "        prev_states[new_state] = state\r\n",
        "\r\n",
        "  return dict(fail=True, front=len(heap), prev=len(prev_states))\r\n",
        "\r\n",
        "def heuristic(state):\r\n",
        "  # Our heuristic is the city-distance between datagoal position of this state and (0,0)\r\n",
        "  return sum(state.goalpos)\r\n",
        "\r\n",
        "def moves(state):\r\n",
        "  # Possible moves from this state\r\n",
        "  (x, y), (x_empty, y_empty) = state\r\n",
        "  for x2, y2 in list(product([x_empty], [y_empty-1, y_empty+1])) + list(product([x_empty-1, x_empty+1], [y_empty])):\r\n",
        "    if 0 <= x2 <= x_max and 0 <= y2 <= y_max and legal_move(grid[x2, y2], grid[empty]):\r\n",
        "      newgoal = (x_empty, y_empty) if x2 == x and y2 == y else (x, y)\r\n",
        "      yield State(newgoal, (x2, y2))\r\n",
        "\r\n",
        "def emptypos(grid):\r\n",
        "  for node in grid.items():\r\n",
        "    if node[1].used == 0:\r\n",
        "      return node[1].x, node[1].y\r\n",
        "\r\n",
        "def legal_move(a, b):\r\n",
        "  return True if a.used <= b.size else False\r\n",
        "\r\n",
        "def step(prev, state):\r\n",
        "  return 0 if state is None else 1 + step(prev, prev[state])\r\n",
        "\r\n",
        "# It's day 22\r\n",
        "day = 22\r\n",
        "lines = get_input_as_lines(day)\r\n",
        "grid = [Node(*parse_int(line)) for line in lines if line.startswith('/dev')]\r\n",
        "grid = {(node.x, node.y): node for node in grid}\r\n",
        "x_max = max(node[1].x for node in grid.items())\r\n",
        "y_max = max(node[1].y for node in grid.items())\r\n",
        "empty = emptypos(grid)\r\n",
        "ret = problem_solver(State((x_max, 0), empty), heuristic, moves)\r\n",
        "print(f'Fewest number of steps required is {ret - 1}')"
      ],
      "execution_count": 7,
      "outputs": [
        {
          "output_type": "stream",
          "text": [
            "Fewest number of steps required is 261\n",
            "time: 10.4 s (started: 2021-03-16 20:12:06 +00:00)\n"
          ],
          "name": "stdout"
        }
      ]
    },
    {
      "cell_type": "markdown",
      "metadata": {
        "id": "ySrfnWOsqw3R"
      },
      "source": [
        "# Day 23"
      ]
    },
    {
      "cell_type": "code",
      "metadata": {
        "colab": {
          "base_uri": "https://localhost:8080/"
        },
        "id": "W9hzCO4Sp3JX",
        "outputId": "d32aa839-a624-46e9-9e01-4357f7c998b6"
      },
      "source": [
        "#@title Part 1 { form-width: \"20%\" }\r\n",
        "\r\n",
        "def d23p1(txt, regs):\r\n",
        "  lines = [[x if x.isalpha() else int(x) \r\n",
        "            for x in line.split()] for line in txt.splitlines()]\r\n",
        "\r\n",
        "  def exec_tgl(pos):\r\n",
        "    if 0 <= pos < len(lines):  \r\n",
        "      if lines[pos][0] == 'inc':\r\n",
        "        lines[pos][0] = 'dec'\r\n",
        "      elif len(lines[pos]) == 2:\r\n",
        "        lines[pos][0] = 'inc'\r\n",
        "      elif lines[pos][0] == 'jnz':\r\n",
        "        lines[pos][0] = 'cpy'\r\n",
        "      else:\r\n",
        "        lines[pos][0] = 'jnz'\r\n",
        "\r\n",
        "  i = 0\r\n",
        "  while 0 <= i < len(lines):\r\n",
        "    inst = lines[i]\r\n",
        "    i += 1\r\n",
        "    op, x, y = inst[0], inst[1], inst[-1]\r\n",
        "    if op == 'cpy' and y in regs:\r\n",
        "      regs[y] = regs[x] if x in regs else x\r\n",
        "    elif op == 'inc':\r\n",
        "      regs[x] += 1\r\n",
        "    elif op == 'dec':\r\n",
        "      regs[x] -= 1\r\n",
        "    elif op == 'jnz':\r\n",
        "      check = regs[x] if x in regs else x\r\n",
        "      move = regs[y] if y in regs else y\r\n",
        "      i += move - 1 if check != 0 else 0\r\n",
        "    elif op == 'tgl':\r\n",
        "      pos = regs[x] if x in regs else x\r\n",
        "      exec_tgl(i + pos - 1)\r\n",
        "\r\n",
        "  return regs\r\n",
        "\r\n",
        "# It's day 23\r\n",
        "day = 23\r\n",
        "regs = {\r\n",
        "    'a': 7,\r\n",
        "    'b': 0,\r\n",
        "    'c': 0,\r\n",
        "    'd': 0\r\n",
        "}\r\n",
        "txt = get_input(day)\r\n",
        "ret = d23p1(txt, regs)['a']\r\n",
        "print(f'Registry \\'a\\' contains: {ret}')"
      ],
      "execution_count": 13,
      "outputs": [
        {
          "output_type": "stream",
          "text": [
            "Registry a contains: 11123\n",
            "time: 115 ms (started: 2021-03-16 20:18:26 +00:00)\n"
          ],
          "name": "stdout"
        }
      ]
    },
    {
      "cell_type": "code",
      "metadata": {
        "id": "6yQOYoDEq4Kk"
      },
      "source": [
        "#@title Part 2 { form-width: \"20%\" }\r\n",
        "\r\n",
        "# Solution is pretty slow, but I hate assembly coding and I don't want to\r\n",
        "# reinvent multiplications :)\r\n",
        "regs = {\r\n",
        "    'a': 12,\r\n",
        "    'b': 0,\r\n",
        "    'c': 0,\r\n",
        "    'd': 0\r\n",
        "}\r\n",
        "txt = get_input(day)\r\n",
        "ret = d23p1(txt, regs)['a']\r\n",
        "print(f'Registry \\'a\\' contains: {ret}')"
      ],
      "execution_count": null,
      "outputs": []
    },
    {
      "cell_type": "markdown",
      "metadata": {
        "id": "yCsALYmstFY8"
      },
      "source": [
        "# Day 24"
      ]
    },
    {
      "cell_type": "code",
      "metadata": {
        "colab": {
          "base_uri": "https://localhost:8080/"
        },
        "cellView": "form",
        "id": "RCOHQTrVtHIo",
        "outputId": "06dfc800-a1a0-4020-a4c6-6035fe0975eb"
      },
      "source": [
        "#@title Part 1 { form-width: \"20%\" }\r\n",
        "# Guess who's back\r\n",
        "def problem_solver(start, f_heuristic, f_moves):\r\n",
        "  # Heap with next state to be evaluated\r\n",
        "  heap = [(f_heuristic(start), start)]\r\n",
        "  # Dicts to keep track of previous state and cost for each state\r\n",
        "  prev_states = {start: None}\r\n",
        "  costs = {start: 0}\r\n",
        "\r\n",
        "  while heap:\r\n",
        "    (heur, state) = heappop(heap)\r\n",
        "    if f_heuristic(state) == 0:\r\n",
        "      # Goal state, we're done\r\n",
        "      return step(prev_states, state)\r\n",
        "    for new_state in f_moves(state):\r\n",
        "      # Cost is hard-coded to 1 but we could add a cost function to signature\r\n",
        "      new_cost = costs[state] + 1 \r\n",
        "      if new_state not in costs or new_cost < costs[new_state]:\r\n",
        "        # Never seen state OR better solution than previous one\r\n",
        "        heappush(heap, (new_cost + f_heuristic(new_state), new_state))\r\n",
        "        costs[new_state] = new_cost\r\n",
        "        prev_states[new_state] = state\r\n",
        "\r\n",
        "  return dict(fail=True, front=len(heap), prev=len(prev_states))\r\n",
        "\r\n",
        "def step(prev, state):\r\n",
        "  return ([] if state is None else step(prev, prev[state]) + [state])\r\n",
        "\r\n",
        "def heuristic(state):\r\n",
        "  # Calculating how many more moves we need to finish (heuristic obviously)\r\n",
        "  return goal - len(state.collected)\r\n",
        "\r\n",
        "def moves(state):\r\n",
        "  # Possible moves from actual state\r\n",
        "  x, y, collected = state\r\n",
        "  \r\n",
        "  for x2, y2 in neighbors(x, y):\r\n",
        "    if legal_move(x2, y2):\r\n",
        "      yield State(x2, y2, fs(*(chain(collected, lines[y2][x2])))) if lines[y2][x2].isdigit() and lines[y2][x2] not in collected else State(x2, y2, fs(*collected))\r\n",
        "\r\n",
        "def neighbors(x, y):\r\n",
        "  return (x+1, y), (x-1, y), (x, y+1), (x, y-1)\r\n",
        "\r\n",
        "def legal_move(x, y):\r\n",
        "  return 0 <= x < len(lines[0]) and 0 <= y < len(lines) and lines[y][x] != '#'\r\n",
        "\r\n",
        "def obj_to_move(objs):\r\n",
        "  for x in chain(combinations(objs, 1), combinations(objs, 2)):\r\n",
        "    yield frozenset(x)\r\n",
        "\r\n",
        "def get_start(lines):\r\n",
        "  for y, line in enumerate(lines):\r\n",
        "    for x, ch in enumerate(line):\r\n",
        "      if ch == '0':\r\n",
        "        return x, y\r\n",
        "\r\n",
        "def fs(*items): return frozenset(items)\r\n",
        "\r\n",
        "State = namedtuple('State', 'x, y, collected')\r\n",
        "\r\n",
        "# It's day 24\r\n",
        "day = 24\r\n",
        "goal = sum(x.isdigit() for line in lines for x in line)\r\n",
        "lines = get_input_as_lines(day)\r\n",
        "start = get_start(lines)\r\n",
        "ret = problem_solver(State(start[0], start[1], fs('0')), heuristic, moves)\r\n",
        "print(f'Number of steps needed is {len(ret) -1}')"
      ],
      "execution_count": 19,
      "outputs": [
        {
          "output_type": "stream",
          "text": [
            "Number of steps needed is 464\n",
            "time: 3.49 s (started: 2021-03-16 20:33:34 +00:00)\n"
          ],
          "name": "stdout"
        }
      ]
    },
    {
      "cell_type": "code",
      "metadata": {
        "colab": {
          "base_uri": "https://localhost:8080/"
        },
        "cellView": "form",
        "id": "JOuvq68LtJpv",
        "outputId": "25248581-9356-462f-da6f-ed60a63fe2c3"
      },
      "source": [
        "#@title Part 2 { form-width: \"20%\" }\r\n",
        "\r\n",
        "# We need to redefine the heuristic to get into account to return to position 0\r\n",
        "def heuristic(state):\r\n",
        "  nums = goal - len(state.collected)\r\n",
        "  dist = abs(state.x - start[0]) + abs(state.y - start[1])\r\n",
        "  return nums + dist\r\n",
        "\r\n",
        "# It's day 24\r\n",
        "day = 24\r\n",
        "goal = sum(x.isdigit() for line in lines for x in line)\r\n",
        "lines = get_input_as_lines(day)\r\n",
        "start = get_start(lines)\r\n",
        "ret = problem_solver(State(start[0], start[1], fs('0')), heuristic, moves)\r\n",
        "print(f'Number of steps needed is {len(ret) -1}')"
      ],
      "execution_count": 20,
      "outputs": [
        {
          "output_type": "stream",
          "text": [
            "Number of steps needed is 652\n",
            "time: 7.49 s (started: 2021-03-16 20:33:50 +00:00)\n"
          ],
          "name": "stdout"
        }
      ]
    },
    {
      "cell_type": "markdown",
      "metadata": {
        "id": "tx-_cb-FwJ4g"
      },
      "source": [
        "# Day 25"
      ]
    },
    {
      "cell_type": "code",
      "metadata": {
        "colab": {
          "base_uri": "https://localhost:8080/"
        },
        "id": "coYrnoLRwLIA",
        "outputId": "fdcc4152-c3fd-4d0c-9fce-b034a9a522ea"
      },
      "source": [
        "#@title Part 1 { form-width: \"20%\" }\r\n",
        "\r\n",
        "# Actually a day 23 remake\r\n",
        "def decrypt(regs, lines):\r\n",
        "  i = 0\r\n",
        "  ret = ''\r\n",
        "\r\n",
        "  def exec_tgl(pos):\r\n",
        "    if 0 <= pos < len(lines):  \r\n",
        "      if lines[pos][0] == 'inc':\r\n",
        "        lines[pos][0] = 'dec'\r\n",
        "      elif len(lines[pos]) == 2:\r\n",
        "        lines[pos][0] = 'inc'\r\n",
        "      elif lines[pos][0] == 'jnz':\r\n",
        "        lines[pos][0] = 'cpy'\r\n",
        "      else:\r\n",
        "        lines[pos][0] = 'jnz'\r\n",
        "    \r\n",
        "  while 0 <= i < len(lines) and len(ret) < 50:\r\n",
        "    inst = lines[i]\r\n",
        "    i += 1\r\n",
        "    op, x, y = inst[0], inst[1], inst[-1]\r\n",
        "    if op == 'cpy' and y in regs:\r\n",
        "      regs[y] = regs[x] if x in regs else x\r\n",
        "    elif op == 'inc':\r\n",
        "      regs[x] += 1\r\n",
        "    elif op == 'dec':\r\n",
        "      regs[x] -= 1\r\n",
        "    elif op == 'jnz':\r\n",
        "      check = regs[x] if x in regs else x\r\n",
        "      move = regs[y] if y in regs else y\r\n",
        "      i += move - 1 if check != 0 else 0\r\n",
        "    elif op == 'tgl':\r\n",
        "      pos = regs[x] if x in regs else x\r\n",
        "      exec_tgl(i + pos - 1)\r\n",
        "    elif op == 'out':\r\n",
        "      out = regs[x] if x in regs else x\r\n",
        "      ret += str(out)\r\n",
        "\r\n",
        "  return ret\r\n",
        "\r\n",
        "def check(s):\r\n",
        "  for i, _ in enumerate(s):\r\n",
        "    if i == 0 or i == len(s) -1: continue\r\n",
        "    if not s[i] != s[i-1] or not s[i] != s[i+1]:\r\n",
        "      return False\r\n",
        "  \r\n",
        "  return True\r\n",
        "\r\n",
        "def d25p1(txt):\r\n",
        "  lines = [[x if x.isalpha() else int(x)\r\n",
        "            for x in line.split()] for line in txt.splitlines()]\r\n",
        "  for val in range(200):\r\n",
        "    regs = {\r\n",
        "      'a': val,\r\n",
        "      'b': 0,\r\n",
        "      'c': 0,\r\n",
        "      'd': 0\r\n",
        "    }\r\n",
        "    ret = decrypt(regs, lines)\r\n",
        "    if check(ret):\r\n",
        "      return val, ret\r\n",
        "\r\n",
        "# It's day 25\r\n",
        "day = 25\r\n",
        "txt = get_input(day)\r\n",
        "val, ret = d25p1(txt)\r\n",
        "print(val, ret)"
      ],
      "execution_count": 24,
      "outputs": [
        {
          "output_type": "stream",
          "text": [
            "175 01010101010101010101010101010101010101010101010101\n",
            "time: 13 s (started: 2021-03-16 20:46:27 +00:00)\n"
          ],
          "name": "stdout"
        }
      ]
    },
    {
      "cell_type": "code",
      "metadata": {
        "id": "A6skt4fIvqar"
      },
      "source": [
        "#@title Part 2 { form-width: \"20%\" }\r\n",
        "# If you reading this, MERRY XMAS <3"
      ],
      "execution_count": null,
      "outputs": []
    }
  ]
}