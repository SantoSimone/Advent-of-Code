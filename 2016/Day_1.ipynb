{
  "nbformat": 4,
  "nbformat_minor": 0,
  "metadata": {
    "colab": {
      "name": "Day 1",
      "provenance": [],
      "collapsed_sections": []
    },
    "kernelspec": {
      "name": "python3",
      "display_name": "Python 3"
    }
  },
  "cells": [
    {
      "cell_type": "code",
      "metadata": {
        "id": "MgoJmAcfC54a",
        "colab_type": "code",
        "colab": {
          "base_uri": "https://localhost:8080/",
          "height": 34
        },
        "outputId": "e4eaad22-3163-4574-fb79-aef7ccd601dd"
      },
      "source": [
        "# Input given for my acc\n",
        "input = 'R4, R3, L3, L2, L1, R1, L1, R2, R3, L5, L5, R4, L4, R2, R4, L3, R3, L3, R3, R4, R2, L1, R2, L3, L2, L1, R3, R5, L1, L4, R2, L4, R3, R1, R2, L5, R2, L189, R5, L5, R52, R3, L1, R4, R5, R1, R4, L1, L3, R2, L2, L3, R4, R3, L2, L5, R4, R5, L2, R2, L1, L3, R3, L4, R4, R5, L1, L1, R3, L5, L2, R76, R2, R2, L1, L3, R189, L3, L4, L1, L3, R5, R4, L1, R1, L1, L1, R2, L4, R2, L5, L5, L5, R2, L4, L5, R4, R4, R5, L5, R3, L1, L3, L1, L1, L3, L4, R5, L3, R5, R3, R3, L5, L5, R3, R4, L3, R3, R1, R3, R2, R2, L1, R1, L3, L3, L3, L1, R2, L1, R4, R4, L1, L1, R3, R3, R4, R1, L5, L2, R2, R3, R2, L3, R4, L5, R1, R4, R5, R4, L4, R1, L3, R1, R3, L2, L3, R1, L2, R3, L3, L1, L3, R4, L4, L5, R3, R5, R4, R1, L2, R3, R5, L5, L4, L1, L1'\n",
        "\n",
        "def no_time_for_taxicab(input):\n",
        "  # Parsing inputs\n",
        "  moves = [(el[0], el[1:]) for el in [split.replace(' ', '') for split in input.split(sep=',')]] # (dir, num)\n",
        "\n",
        "  # Starting pos is center of plane heading North\n",
        "  pos = 0\n",
        "  head = 1j\n",
        "  visited = [pos]\n",
        "\n",
        "  for direction, steps in moves:    \n",
        "    # turn right is a 90° clockwise, while left is 90° anti-clockwise\n",
        "    head *= -1j if direction == 'R' else 1j\n",
        "    for i in range(int(steps)):\n",
        "      pos += 1 * head\n",
        "      if pos in visited:\n",
        "        return abs(pos.real) + abs(pos.imag)\n",
        "      visited.append(pos)\n",
        "\n",
        "  return abs(pos.real) + abs(pos.imag)\n",
        "\n",
        "no_time_for_taxicab(input)\n"
      ],
      "execution_count": 26,
      "outputs": [
        {
          "output_type": "execute_result",
          "data": {
            "text/plain": [
              "111.0"
            ]
          },
          "metadata": {
            "tags": []
          },
          "execution_count": 26
        }
      ]
    },
    {
      "cell_type": "code",
      "metadata": {
        "id": "qd3AHJGuP6fG",
        "colab_type": "code",
        "colab": {}
      },
      "source": [
        ""
      ],
      "execution_count": null,
      "outputs": []
    }
  ]
}