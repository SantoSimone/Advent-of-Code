{
  "nbformat": 4,
  "nbformat_minor": 0,
  "metadata": {
    "colab": {
      "name": "Day_5",
      "provenance": []
    },
    "kernelspec": {
      "name": "python3",
      "display_name": "Python 3"
    }
  },
  "cells": [
    {
      "cell_type": "code",
      "metadata": {
        "id": "eVFabJzbwIpm",
        "colab_type": "code",
        "colab": {
          "base_uri": "https://localhost:8080/",
          "height": 170
        },
        "outputId": "0eadf031-7daa-4845-db15-6a637bb97307"
      },
      "source": [
        "import urllib.request\n",
        "import hashlib\n",
        "\n",
        "# It's day 5\n",
        "day = 5\n",
        "\n",
        "# my input\n",
        "input = 'ojvtpuvg'\n",
        "\n",
        "# PART ONE\n",
        "i = 0\n",
        "pw = ''\n",
        "while True:\n",
        "  ex = input + f'{i}'\n",
        "  code = hashlib.md5(ex.encode()).hexdigest()\n",
        "  if code.startswith('00000'):\n",
        "    print(ex)\n",
        "    pw += code[5]\n",
        "    if len(pw) == 8:\n",
        "      break\n",
        "\n",
        "  i += 1\n",
        "\n",
        "print(f'Final password: {pw}')"
      ],
      "execution_count": 15,
      "outputs": [
        {
          "output_type": "stream",
          "text": [
            "1469591\n",
            "1925351\n",
            "4310992\n",
            "4851204\n",
            "6610226\n",
            "6840976\n",
            "9504234\n",
            "10320588\n",
            "4543c154\n"
          ],
          "name": "stdout"
        }
      ]
    },
    {
      "cell_type": "code",
      "metadata": {
        "id": "-SA9weMnyCr5",
        "colab_type": "code",
        "colab": {
          "base_uri": "https://localhost:8080/",
          "height": 34
        },
        "outputId": "0a150d52-1550-4b73-ada0-f5abaf473746"
      },
      "source": [
        "# PART TWO\n",
        "i = 0\n",
        "pw = list('________')\n",
        "changed=0\n",
        "while True:\n",
        "  ex = input + f'{i}'\n",
        "  code = hashlib.md5(ex.encode()).hexdigest()\n",
        "  if code.startswith('00000') and code[5].isdigit() and int(code[5]) < 8 and pw[int(code[5])] == '_':    \n",
        "    changed += 1\n",
        "    pw[int(code[5])] = code[6]\n",
        "    out=''.join(pw)\n",
        "    # Making it a bit fancier\n",
        "    print(f'\\rDecrypted password: {out}', end='')\n",
        "    if changed == 8:\n",
        "      break\n",
        "  i += 1"
      ],
      "execution_count": 31,
      "outputs": [
        {
          "output_type": "stream",
          "text": [
            "Decrypted password: 1050cbbd"
          ],
          "name": "stdout"
        }
      ]
    }
  ]
}