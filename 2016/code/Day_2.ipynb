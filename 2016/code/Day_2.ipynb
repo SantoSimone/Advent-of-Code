{
  "nbformat": 4,
  "nbformat_minor": 0,
  "metadata": {
    "colab": {
      "name": "Day_2",
      "provenance": [],
      "collapsed_sections": []
    },
    "kernelspec": {
      "name": "python3",
      "display_name": "Python 3"
    }
  },
  "cells": [
    {
      "cell_type": "code",
      "metadata": {
        "id": "ImZhgqM8pC87",
        "colab_type": "code",
        "colab": {
          "base_uri": "https://localhost:8080/",
          "height": 34
        },
        "outputId": "6f6cd85c-3d9f-4ec7-e628-21f4e82ae83f"
      },
      "source": [
        "import numpy as np\n",
        "import urllib.request\n",
        "\n",
        "# It's day 2\n",
        "day = 2\n",
        "\n",
        "# Load file from url\n",
        "txt = urllib.request.urlopen(f'https://raw.githubusercontent.com/SantoSimone/Advent-of-Code/master/2016/input_files/input{day}.txt').read().decode('utf-8')\n",
        "# Split file into lines\n",
        "lines = txt.split('\\n')[:-1]\n",
        "\n",
        "keypad = np.array([\n",
        "  ['1', '2', '3'],\n",
        "  ['4', '5', '6'],\n",
        "  ['7', '8', '9']\n",
        "])\n",
        "\n",
        "# we cant go outside keypad numbers\n",
        "min = 0\n",
        "max = 2\n",
        "\n",
        "\n",
        "# Encoding movements (Row, Col)\n",
        "moves = {\n",
        "  'U' : np.array([-1, 0]),\n",
        "  'D' : np.array([+1, 0]),\n",
        "  'L' : np.array([0, -1]),\n",
        "  'R' : np.array([0, +1])\n",
        "}\n",
        "pos = np.array([1, 1])\n",
        "code = ''\n",
        "\n",
        "for line in lines:\n",
        "  for move in line:\n",
        "    pos += moves[move]\n",
        "    pos = np.clip(pos, 0, 2)    \n",
        "  \n",
        "  # End of line -> store actual value\n",
        "  code += keypad[pos[0], pos[1]]\n",
        "\n",
        "# Final code to bathroom\n",
        "print(code)"
      ],
      "execution_count": 24,
      "outputs": [
        {
          "output_type": "stream",
          "text": [
            "95549\n"
          ],
          "name": "stdout"
        }
      ]
    },
    {
      "cell_type": "code",
      "metadata": {
        "id": "qpgsw-AHqmsP",
        "colab_type": "code",
        "colab": {
          "base_uri": "https://localhost:8080/",
          "height": 34
        },
        "outputId": "f9c3b9df-de2c-45b7-eab6-f0c4cc29debc"
      },
      "source": [
        "# New keypad\n",
        "keypad = np.array([\n",
        "  ['0', '0', '1', '0', '0'],\n",
        "  ['0', '2', '3', '4', '0'],\n",
        "  ['5', '6', '7', '8', '9'],\n",
        "  ['0', 'A', 'B', 'C', '0'],\n",
        "  ['0', '0', 'D', '0', '0'],\n",
        "])\n",
        "\n",
        "# New rules\n",
        "def should_i_stay_or_should_i_go(pos, move):\n",
        "  move = pos + move\n",
        "  move = np.clip(move, 0, 4)\n",
        "\n",
        "  if keypad[move[0], move[1]] == '0':\n",
        "    return pos\n",
        "  else:\n",
        "    return move\n",
        "\n",
        "pos = np.array([2, 0])\n",
        "code = ''\n",
        "\n",
        "for line in lines:\n",
        "  for move in line:\n",
        "    pos = should_i_stay_or_should_i_go(pos, moves[move])\n",
        "  \n",
        "  code += keypad[pos[0], pos[1]]\n",
        "\n",
        "  \n",
        "print(code)\n"
      ],
      "execution_count": 47,
      "outputs": [
        {
          "output_type": "stream",
          "text": [
            "D87AD\n"
          ],
          "name": "stdout"
        }
      ]
    },
    {
      "cell_type": "code",
      "metadata": {
        "id": "6-_roFxT517-",
        "colab_type": "code",
        "colab": {}
      },
      "source": [
        ""
      ],
      "execution_count": null,
      "outputs": []
    }
  ]
}