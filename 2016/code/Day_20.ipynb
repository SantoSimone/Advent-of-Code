{
  "nbformat": 4,
  "nbformat_minor": 0,
  "metadata": {
    "colab": {
      "name": "Day_20",
      "provenance": []
    },
    "kernelspec": {
      "name": "python3",
      "display_name": "Python 3"
    }
  },
  "cells": [
    {
      "cell_type": "code",
      "metadata": {
        "id": "SVL6Z-ihDDWx"
      },
      "source": [
        "import numpy as np\n",
        "import urllib.request\n",
        "import re\n",
        "\n",
        "# It's day 20\n",
        "day = 20\n",
        "\n",
        "# Load file from url\n",
        "txt = urllib.request.urlopen(f'https://raw.githubusercontent.com/SantoSimone/Advent-of-Code/master/2016/input_files/input{day}.txt').read().decode('utf-8')"
      ],
      "execution_count": 5,
      "outputs": []
    },
    {
      "cell_type": "code",
      "metadata": {
        "id": "yxyJc4RSEA7o"
      },
      "source": [
        "def find_lowest(blacklisted):\n",
        "  # We use too much RAM if we try to build the blocked numbers, so we do it the other way\n",
        "  # We give yield the range of values between current IP and minimum value of the current range of blocked\n",
        "  # We update the current candidate IP with the maximum value\n",
        "  ip = 0\n",
        "  for min_r, max_r in blacklisted:\n",
        "    if len(range(ip, min_r)) > 0:\n",
        "      yield range(ip, min_r) \n",
        "    ip = max(ip, max_r + 1)\n",
        "  \n",
        "\n",
        "# PART ONE\n",
        "blacklisted = sorted([(int(x), int(y)) for x, y in re.findall(r'(\\d+)-(\\d+)', txt)], key=lambda x: x[0])\n",
        "lowest = list(find_lowest(blacklisted))\n",
        "print(f'Lowest IP is {list(lowest[0])[0]}')"
      ],
      "execution_count": null,
      "outputs": []
    },
    {
      "cell_type": "code",
      "metadata": {
        "id": "5TIkW-SiEl0y"
      },
      "source": [
        "# PART TWO\n",
        "count = len([list(r) for r in lowest])\n",
        "print(f'Total number of IPs allowed is {count}')"
      ],
      "execution_count": null,
      "outputs": []
    },
    {
      "cell_type": "code",
      "metadata": {
        "id": "KWe6AiSNEm6s"
      },
      "source": [
        ""
      ],
      "execution_count": null,
      "outputs": []
    }
  ]
}