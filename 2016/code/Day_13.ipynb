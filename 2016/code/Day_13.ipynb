{
  "nbformat": 4,
  "nbformat_minor": 0,
  "metadata": {
    "colab": {
      "name": "Day_13",
      "provenance": [],
      "collapsed_sections": []
    },
    "kernelspec": {
      "name": "python3",
      "display_name": "Python 3"
    }
  },
  "cells": [
    {
      "cell_type": "code",
      "metadata": {
        "id": "tLffPWGSmGFk",
        "colab_type": "code",
        "colab": {}
      },
      "source": [
        "import urllib.request\n",
        "from itertools import product\n",
        "from collections import defaultdict, namedtuple\n",
        "from heapq import heappop, heappush\n",
        "import re\n",
        "import numpy as np\n",
        "\n",
        "# It's day 13\n",
        "day = 13\n",
        "\n",
        "# There's no input file today just some numbers\n",
        "# We will use the problem solver again as we have to search an optimal solution"
      ],
      "execution_count": 4,
      "outputs": []
    },
    {
      "cell_type": "code",
      "metadata": {
        "id": "HsGuQJhzrK-h",
        "colab_type": "code",
        "colab": {}
      },
      "source": [
        "def problem_solver(start, f_heuristic, f_moves):\n",
        "  # Heap with next state to be evaluated\n",
        "  heap = [(f_heuristic(start), start)]\n",
        "  # Dicts to keep track of previous state and cost for each state\n",
        "  prev_states = {start: None}\n",
        "  costs = {start: 0}\n",
        "\n",
        "  while heap:\n",
        "    (heur, state) = heappop(heap)\n",
        "    if f_heuristic(state) == 0:\n",
        "      # Goal state, we're done\n",
        "      return step(prev_states, state)\n",
        "    for new_state in f_moves(state):\n",
        "      # Cost is hard-coded to 1 but we could add a cost function to signature\n",
        "      new_cost = costs[state] + 1 \n",
        "      if new_state not in costs or new_cost < costs[new_state]:\n",
        "        # Never seen state OR better solution than previous one\n",
        "        heappush(heap, (new_cost + f_heuristic(new_state), new_state))\n",
        "        costs[new_state] = new_cost\n",
        "        prev_states[new_state] = state\n",
        "\n",
        "  return dict(fail=True, front=len(heap), prev=len(prev_states))\n",
        "\n",
        "def heuristic(state):\n",
        "  # Our heuristic is the city-distance between this state and goal state\n",
        "  return abs(state.x - goal['x']) + abs(state.y - goal['y']) \n",
        "\n",
        "def moves(state):\n",
        "  # Possible moves from this state\n",
        "  x, y = state\n",
        "  for x2, y2 in list(product([x], [y-1, y+1])) + list(product([x-1, x+1], [y])):\n",
        "    if legal_move(x2, y2):\n",
        "      yield State(x2, y2)\n",
        "\n",
        "def legal_move(x, y):\n",
        "  if x < 0 or y < 0:\n",
        "    return False\n",
        "\n",
        "  res = x*x + 3*x + 2*x*y + y + y*y + favorite\n",
        "  return False if count_ones_binary(res) % 2 else True\n",
        "\n",
        "def step(prev, state):\n",
        "  return ([] if state is None else step(prev, prev[state]) + [state])\n",
        "\n",
        "def count_ones_binary(num):\n",
        "  return sum([1 if x == '1' else 0 for x in list(f'{num:b}')])\n",
        "\n",
        "State = namedtuple('State', 'x, y')"
      ],
      "execution_count": 5,
      "outputs": []
    },
    {
      "cell_type": "code",
      "metadata": {
        "id": "4hpqoHYNsLRR",
        "colab_type": "code",
        "colab": {
          "base_uri": "https://localhost:8080/",
          "height": 34
        },
        "outputId": "9c72d642-1d28-4625-e0fd-89d284230859"
      },
      "source": [
        "# PART ONE\n",
        "# Input of the game\n",
        "goal = {'x': 31, 'y': 39}\n",
        "favorite = 1362\n",
        "\n",
        "path = problem_solver(State(1,1), heuristic, moves)\n",
        "print(f'Number of moves to reach (31,39) is: {len(path)}')"
      ],
      "execution_count": 6,
      "outputs": [
        {
          "output_type": "stream",
          "text": [
            "Number of moves to reach (31,39) is: 83\n"
          ],
          "name": "stdout"
        }
      ]
    },
    {
      "cell_type": "code",
      "metadata": {
        "id": "pyiYJGsQwQbe",
        "colab_type": "code",
        "colab": {}
      },
      "source": [
        "# PART TWO\n",
        "# New func definition\n",
        "def distinct_locations(start, N, f_moves):\n",
        "    # Heap with next state to be evaluated\n",
        "  heap = [start]\n",
        "  # Dict to keep track num of locations\n",
        "  distance = {start: 0}\n",
        "\n",
        "  while heap:\n",
        "    (state) = heappop(heap)\n",
        "    # Save the location if we did less than 50 steps\n",
        "    if distance[state] < N:\n",
        "      for new_state in f_moves(state):\n",
        "        if new_state not in distance:\n",
        "          # Never seen state OR better solution than previous one\n",
        "          heappush(heap, new_state)\n",
        "          distance[new_state] = distance[state] +1\n",
        "\n",
        "  return len(distance)\n",
        "\n",
        "# Actual Run\n",
        "locs = distinct_locations(State(1,1), 50, moves)\n",
        "\n",
        "print(f'Max distinct locations visited in 50 moves: {locs}')"
      ],
      "execution_count": 9,
      "outputs": []
    }
  ]
}