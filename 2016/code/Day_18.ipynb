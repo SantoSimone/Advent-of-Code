{
  "nbformat": 4,
  "nbformat_minor": 0,
  "metadata": {
    "colab": {
      "name": "Day_18",
      "provenance": [],
      "collapsed_sections": []
    },
    "kernelspec": {
      "name": "python3",
      "display_name": "Python 3"
    }
  },
  "cells": [
    {
      "cell_type": "code",
      "metadata": {
        "id": "vJBNbHawUL6c",
        "outputId": "e0f89570-e7c6-4a67-dceb-0a878b5f2a04",
        "colab": {
          "base_uri": "https://localhost:8080/",
          "height": 35
        }
      },
      "source": [
        "import numpy as np\n",
        "import urllib.request\n",
        "\n",
        "# It's day 18\n",
        "day = 18\n",
        "\n",
        "# Load file from url\n",
        "txt = urllib.request.urlopen(f'https://raw.githubusercontent.com/SantoSimone/Advent-of-Code/master/2016/input_files/input{day}.txt').read().decode('utf-8').replace('\\n', '')"
      ],
      "execution_count": 3,
      "outputs": [
        {
          "output_type": "execute_result",
          "data": {
            "application/vnd.google.colaboratory.intrinsic+json": {
              "type": "string"
            },
            "text/plain": [
              "'^.....^.^^^^^.^..^^.^.......^^..^^^..^^^^..^.^^.^.^....^^...^^.^^.^...^^.^^^^..^^.....^.^...^.^.^^.^'"
            ]
          },
          "metadata": {
            "tags": []
          },
          "execution_count": 3
        }
      ]
    },
    {
      "cell_type": "code",
      "metadata": {
        "id": "CNqvkHilVIzC"
      },
      "source": [
        "def safe_or_not(pos, prev):\n",
        "  # Check if i'm going to die\n",
        "  left = prev[pos - 1] if pos - 1 >= 0 else '.'\n",
        "  center = prev[pos]\n",
        "  right = prev[pos + 1] if pos + 1 < max_width else '.'\n",
        "  if left == center == '^' and right == '.': return '^'\n",
        "  if center == right == '^' and left == '.': return '^'\n",
        "  if center == right == '.' and left == '^': return '^'\n",
        "  if center == left == '.' and right == '^': return '^'\n",
        "  \n",
        "  return '.'\n",
        "\n",
        "def compute_tiles(start, N):\n",
        "  row = start\n",
        "  ret = [start]\n",
        "  safe = sum([1 if x == '.' else 0 for x in start])\n",
        "  for i in range(0, N - 1):\n",
        "    row = ''.join([safe_or_not(pos, row) for pos, _ in enumerate(row)])\n",
        "    safe += sum([1 if x == '.' else 0 for x in row])\n",
        "    ret.append(row)\n",
        "\n",
        "  return ret, safe"
      ],
      "execution_count": 41,
      "outputs": []
    },
    {
      "cell_type": "code",
      "metadata": {
        "id": "dFjcrfolWW3-",
        "outputId": "59ec87ba-905b-4ffa-c99c-edf035624538",
        "colab": {
          "base_uri": "https://localhost:8080/",
          "height": 34
        }
      },
      "source": [
        "# PART ONE\n",
        "max_width = len(txt)\n",
        "N = 40\n",
        "map, safe = compute_tiles(txt, N)\n",
        "print(f'In first {N} rows we have {safe} safe tiles!')"
      ],
      "execution_count": 42,
      "outputs": [
        {
          "output_type": "stream",
          "text": [
            "In first 40 rows we have 1974 safe tiles!\n"
          ],
          "name": "stdout"
        }
      ]
    },
    {
      "cell_type": "code",
      "metadata": {
        "id": "ATFQtA1AWd98",
        "outputId": "99f394c3-e596-4569-accc-40a694dd47f8",
        "colab": {
          "base_uri": "https://localhost:8080/",
          "height": 34
        }
      },
      "source": [
        "# PART TWO\n",
        "# Will this take too long? SPOILER: NOT EVEN CLOSE\n",
        "N = 400000\n",
        "map, safe = compute_tiles(txt, N)\n",
        "print(f'In first {N} rows we have {safe} safe tiles!')"
      ],
      "execution_count": 44,
      "outputs": [
        {
          "output_type": "stream",
          "text": [
            "In first 400000 rows we have 19991126 safe tiles!\n"
          ],
          "name": "stdout"
        }
      ]
    },
    {
      "cell_type": "code",
      "metadata": {
        "id": "8PjV8ZP6XLE4"
      },
      "source": [
        ""
      ],
      "execution_count": null,
      "outputs": []
    }
  ]
}