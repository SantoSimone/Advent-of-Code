{
  "nbformat": 4,
  "nbformat_minor": 0,
  "metadata": {
    "colab": {
      "name": "Day_25",
      "provenance": []
    },
    "kernelspec": {
      "name": "python3",
      "display_name": "Python 3"
    }
  },
  "cells": [
    {
      "cell_type": "code",
      "metadata": {
        "id": "ebu1i5wtNYrq"
      },
      "source": [
        "import urllib.request\n",
        "from collections import defaultdict, namedtuple\n",
        "from itertools import chain\n",
        "import re\n",
        "import numpy as np\n",
        "from heapq import heappop, heappush\n",
        "\n",
        "# It's day 25\n",
        "day = 25\n",
        "\n",
        "# Load file from url\n",
        "txt = urllib.request.urlopen(f'https://raw.githubusercontent.com/SantoSimone/Advent-of-Code/master/2016/input_files/input{day}.txt').read().decode('utf-8')"
      ],
      "execution_count": 1,
      "outputs": []
    },
    {
      "cell_type": "code",
      "metadata": {
        "id": "ni7zRExYObKk"
      },
      "source": [
        "# Let's take the code from day 23, since we are using assembly AGAIN\n",
        "\n",
        "def decrypt(regs):\n",
        "  # Decrypting password from instructions\n",
        "  i = 0\n",
        "  ret = ''\n",
        "  while 0 <= i < len(lines) and len(ret) < 50:\n",
        "    inst = lines[i]\n",
        "    i += 1\n",
        "    op, x, y = inst[0], inst[1], inst[-1]\n",
        "    if op == 'cpy' and y in regs:\n",
        "      regs[y] = regs[x] if x in regs else x\n",
        "    elif op == 'inc':\n",
        "      regs[x] += 1\n",
        "    elif op == 'dec':\n",
        "      regs[x] -= 1\n",
        "    elif op == 'jnz':\n",
        "      check = regs[x] if x in regs else x\n",
        "      move = regs[y] if y in regs else y\n",
        "      i += move - 1 if check != 0 else 0\n",
        "    elif op == 'tgl':\n",
        "      pos = regs[x] if x in regs else x\n",
        "      exec_tgl(i + pos - 1)\n",
        "    elif op == 'out':\n",
        "      out = regs[x] if x in regs else x\n",
        "      ret += str(out)\n",
        "\n",
        "  return ret\n",
        "\n",
        "def exec_tgl(pos):\n",
        "  if 0 <= pos < len(lines):  \n",
        "    if lines[pos][0] == 'inc':\n",
        "      lines[pos][0] = 'dec'\n",
        "    elif len(lines[pos]) == 2:\n",
        "      lines[pos][0] = 'inc'\n",
        "    elif lines[pos][0] == 'jnz':\n",
        "      lines[pos][0] = 'cpy'\n",
        "    else:\n",
        "      lines[pos][0] = 'jnz'\n",
        "  \n",
        "def check(s):\n",
        "  for i, _ in enumerate(s):\n",
        "    if i == 0 or i == len(s) -1: continue\n",
        "    if not s[i] != s[i-1] or not s[i] != s[i+1]:\n",
        "      return False\n",
        "  \n",
        "  return True"
      ],
      "execution_count": 23,
      "outputs": []
    },
    {
      "cell_type": "code",
      "metadata": {
        "id": "uWS4ihpYPFg1"
      },
      "source": [
        "# PART ONE\n",
        "lines = [[x if x.isalpha() else int(x) for x in line.split()] for line in txt.splitlines()]\n",
        "\n",
        "for val in range(200):\n",
        "  regs = {\n",
        "    'a': val,\n",
        "    'b': 0,\n",
        "    'c': 0,\n",
        "    'd': 0\n",
        "  }\n",
        "  ret = decrypt(regs)\n",
        "  if check(ret):\n",
        "    print(val, ret)"
      ],
      "execution_count": null,
      "outputs": []
    }
  ]
}