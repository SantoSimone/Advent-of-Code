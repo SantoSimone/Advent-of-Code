{
  "nbformat": 4,
  "nbformat_minor": 0,
  "metadata": {
    "colab": {
      "name": "Day_11",
      "provenance": []
    },
    "kernelspec": {
      "name": "python3",
      "display_name": "Python 3"
    }
  },
  "cells": [
    {
      "cell_type": "code",
      "metadata": {
        "id": "vrYMFIeNjUYz",
        "colab_type": "code",
        "colab": {}
      },
      "source": [
        "import urllib.request\n",
        "from collections import defaultdict, namedtuple\n",
        "from itertools import combinations, chain\n",
        "import re\n",
        "import numpy as np\n",
        "from heapq import heappop, heappush\n",
        "\n",
        "# It's day 11\n",
        "day = 11\n",
        "\n",
        "# No need to take from web today, just write the input hard\n",
        "# It's my very first time resolving this kind of problems with code, so i'm\n",
        "# going to refer totally to @norvig to learn something new!"
      ],
      "execution_count": 9,
      "outputs": []
    },
    {
      "cell_type": "code",
      "metadata": {
        "id": "dm7K0jyLmULH",
        "colab_type": "code",
        "colab": {}
      },
      "source": [
        "def problem_solver(start, f_heuristic, f_moves):\n",
        "  # Heap with next state to be evaluated\n",
        "  heap = [(f_heuristic(start), start)]\n",
        "  # Dicts to keep track of previous state and cost for each state\n",
        "  prev_states = {start: None}\n",
        "  costs = {start: 0}\n",
        "\n",
        "  while heap:\n",
        "    (heur, state) = heappop(heap)\n",
        "    if f_heuristic(state) == 0:\n",
        "      # Goal state, we're done\n",
        "      return step(prev_states, state)\n",
        "    for new_state in f_moves(state):\n",
        "      # Cost is hard-coded to 1 but we could add a cost function to signature\n",
        "      new_cost = costs[state] + 1 \n",
        "      if new_state not in costs or new_cost < costs[new_state]:\n",
        "        # Never seen state OR better solution than previous one\n",
        "        heappush(heap, (new_cost + f_heuristic(new_state), new_state))\n",
        "        costs[new_state] = new_cost\n",
        "        prev_states[new_state] = state\n",
        "\n",
        "  return dict(fail=True, front=len(heap), prev=len(prev_states))\n",
        "\n",
        "def step(prev, state):\n",
        "  return ([] if state is None else step(prev, prev[state]) + [state])\n",
        "\n",
        "def heuristic(state):\n",
        "  # Calculating how many more moves we need to finish (heuristic obviously)\n",
        "  # The idea is that we can move 2 items at the same time and we count how many\n",
        "  # floors needs every item to reach top floor\n",
        "  remaining = sum(len(floor) * i for (i, floor) in enumerate(reversed(state.floors)))\n",
        "  return np.ceil(remaining / 2)\n",
        "\n",
        "def moves(state):\n",
        "  # Possible moves from actual state\n",
        "  lvl, floors = state\n",
        "\n",
        "  # Elevator can move 1 level at a time\n",
        "  for new_lvl in {min(lvl + 1, 3), max(lvl - 1, 0)}:\n",
        "    # We can bring two things at most\n",
        "    for stuff in obj_to_move(floors[lvl]):\n",
        "      new_floors = tuple(\n",
        "          (s | stuff if i == new_lvl else # Adding new stuff to the level we are heading \n",
        "           s - stuff if i == state.elevator else # Removing stuff taken from this level\n",
        "           s) # Unchanged level cause we are moving in other floors\n",
        "           for (i, s) in enumerate(state.floors)\n",
        "           )\n",
        "      # Check if the stuff we are moving isn't destroying the building\n",
        "      if legal_floor(new_floors[lvl]) and legal_floor(new_floors[new_lvl]):\n",
        "        yield State(new_lvl, new_floors)\n",
        "\n",
        "def legal_floor(floor):\n",
        "  # Checking if the floor isn't going to implode\n",
        "  # Generators in this floor\n",
        "  gens = any(g.endswith('G') for g in floor)\n",
        "  # Chips in this floor\n",
        "  chips = [c for c in floor if c.endswith('M')]\n",
        "  # A floor is legal if there's no generator on it\n",
        "  # or if every chip is connected to its generator\n",
        "  return not gens or all(c[0] + 'G' in floor for c in chips)\n",
        "\n",
        "\n",
        "def obj_to_move(objs):\n",
        "  for x in chain(combinations(objs, 1), combinations(objs, 2)):\n",
        "    yield frozenset(x)\n",
        "\n",
        "# SETUP\n",
        "# Frozensets are still dark-code for me\n",
        "def fs(*items): return frozenset(items)\n",
        "\n",
        "State = namedtuple('State', 'elevator, floors')\n",
        "\n",
        "floors = {0, 1, 2, 3}"
      ],
      "execution_count": 37,
      "outputs": []
    },
    {
      "cell_type": "code",
      "metadata": {
        "id": "tGq8InGHoM9z",
        "colab_type": "code",
        "colab": {
          "base_uri": "https://localhost:8080/",
          "height": 34
        },
        "outputId": "320a1dd6-1af8-4dbb-c217-87b021635fe0"
      },
      "source": [
        "# PART ONE\n",
        "start = State(0, (fs('PG', 'TG', 'TM', 'pG', 'RG', 'RM', 'CG', 'CM'),\n",
        "                  fs('PM', 'pM'),\n",
        "                  fs(),\n",
        "                  fs()))\n",
        "\n",
        "path = problem_solver(start, heuristic, moves)\n",
        "print(f'Response is the length of the path to the top: {len(path) -1}')"
      ],
      "execution_count": 40,
      "outputs": [
        {
          "output_type": "stream",
          "text": [
            "Response is the length of the path to the top: 47\n"
          ],
          "name": "stdout"
        }
      ]
    },
    {
      "cell_type": "code",
      "metadata": {
        "id": "BBldMKFXctWP",
        "colab_type": "code",
        "colab": {
          "base_uri": "https://localhost:8080/",
          "height": 34
        },
        "outputId": "e6705284-ba3c-4f27-f2d3-4c59c2e87fce"
      },
      "source": [
        "# PART TWO\n",
        "start  = State(0, (fs('PG', 'TG', 'TM', 'pG', 'RG', 'RM', 'CG', 'CM', 'EG', 'EM', 'DG', 'DM'),\n",
        "                  fs('PM', 'pM'),\n",
        "                  fs(),\n",
        "                  fs()))\n",
        "\n",
        "path = problem_solver(start, heuristic, moves)\n",
        "print(f'Response is the length of the path to the top: {len(path) -1}')"
      ],
      "execution_count": 41,
      "outputs": [
        {
          "output_type": "stream",
          "text": [
            "Response is the length of the path to the top: 71\n"
          ],
          "name": "stdout"
        }
      ]
    }
  ]
}