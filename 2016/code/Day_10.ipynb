{
  "nbformat": 4,
  "nbformat_minor": 0,
  "metadata": {
    "colab": {
      "name": "Day_10",
      "provenance": []
    },
    "kernelspec": {
      "name": "python3",
      "display_name": "Python 3"
    }
  },
  "cells": [
    {
      "cell_type": "code",
      "metadata": {
        "id": "Izg7XNWztXP8",
        "colab_type": "code",
        "colab": {}
      },
      "source": [
        "import urllib.request\n",
        "from collections import defaultdict\n",
        "import re\n",
        "import numpy as np\n",
        "\n",
        "# It's day 10\n",
        "day = 10\n",
        "\n",
        "# Load file from url\n",
        "txt = urllib.request.urlopen(f'https://raw.githubusercontent.com/SantoSimone/Advent-of-Code/master/2016/input_files/input{day}.txt').read().decode('utf-8')\n"
      ],
      "execution_count": 6,
      "outputs": []
    },
    {
      "cell_type": "code",
      "metadata": {
        "id": "-WdTdGyB044f",
        "colab_type": "code",
        "colab": {
          "base_uri": "https://localhost:8080/",
          "height": 34
        },
        "outputId": "bcbf1cd8-2eac-4e8e-d1e2-a19039f10f51"
      },
      "source": [
        "# PART ONE\n",
        "def pass_to(src, dst, chip):\n",
        "  if src != 'input':\n",
        "    owns[src].discard(chip)\n",
        "  owns[dst].add(chip)\n",
        "  current = owns[dst]\n",
        "  if current == finish:\n",
        "    print(f'The bot we want is {dst}')\n",
        "  if len(current) == 2:\n",
        "    pass_to(dst, rules[dst][0], min(current))\n",
        "    pass_to(dst, rules[dst][1], max(current))\n",
        "\n",
        "owns = defaultdict(set)\n",
        "rules = {\n",
        "    owner: (dst1, dst2)\n",
        "    for (owner, dst1, dst2) in re.findall(r'(bot \\d+) gives low to (\\w+ \\d+) and high to (\\w+ \\d+)', txt)\n",
        "}\n",
        "finish = {17, 61}\n",
        "for chip, dst in re.findall(r'value (\\d+) goes to (\\w+ \\d+)', txt):\n",
        "  pass_to('input', dst, int(chip))\n"
      ],
      "execution_count": 57,
      "outputs": [
        {
          "output_type": "stream",
          "text": [
            "The bot we want is bot 93\n"
          ],
          "name": "stdout"
        }
      ]
    },
    {
      "cell_type": "code",
      "metadata": {
        "id": "PunNzFq62aRk",
        "colab_type": "code",
        "colab": {
          "base_uri": "https://localhost:8080/",
          "height": 34
        },
        "outputId": "21ee6ce3-5d84-4a3d-d38b-cfd7fd7b1176"
      },
      "source": [
        "# PART TWO\n",
        "out0 = owns['output 0'].pop()\n",
        "out1 = owns['output 1'].pop()\n",
        "out2 = owns['output 2'].pop()\n",
        "\n",
        "\n",
        "print(f'Result of mul of first 3 outputs is {out0 * out1 * out2}')"
      ],
      "execution_count": 58,
      "outputs": [
        {
          "output_type": "stream",
          "text": [
            "Result of mul of first 3 outputs is 47101\n"
          ],
          "name": "stdout"
        }
      ]
    },
    {
      "cell_type": "code",
      "metadata": {
        "id": "8WvH4c4DA1cq",
        "colab_type": "code",
        "colab": {}
      },
      "source": [
        ""
      ],
      "execution_count": null,
      "outputs": []
    }
  ]
}