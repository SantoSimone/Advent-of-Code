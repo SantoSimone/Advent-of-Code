{
  "nbformat": 4,
  "nbformat_minor": 0,
  "metadata": {
    "colab": {
      "name": "Day_21",
      "provenance": []
    },
    "kernelspec": {
      "name": "python3",
      "display_name": "Python 3"
    }
  },
  "cells": [
    {
      "cell_type": "code",
      "metadata": {
        "id": "W8qLXRTVNp1-"
      },
      "source": [
        "import numpy as np\n",
        "import urllib.request\n",
        "import re\n",
        "from itertools import permutations\n",
        "\n",
        "# It's day 21\n",
        "day = 21\n",
        "\n",
        "# Load file from url\n",
        "txt = urllib.request.urlopen(f'https://raw.githubusercontent.com/SantoSimone/Advent-of-Code/master/2016/input_files/input{day}.txt').read().decode('utf-8')\n",
        "lines = txt.split('\\n')[:-1]"
      ],
      "execution_count": 1,
      "outputs": []
    },
    {
      "cell_type": "code",
      "metadata": {
        "id": "m8MXJV_JOxjX"
      },
      "source": [
        "def rotate(pw, s, dir):\n",
        "  if dir == 'right':\n",
        "    return pw[-s:] + pw[:-s]\n",
        "  elif dir == 'left':\n",
        "    return pw[s:] + pw[:s]\n",
        "\n",
        "def apply_move(line, pw):\n",
        "  if line.startswith('swap position'):\n",
        "    x, y = re.findall(r'(\\d) with position (\\d)', line)[0]\n",
        "    pw[int(x)], pw[int(y)] = pw[int(y)], pw[int(x)]\n",
        "  elif line.startswith('swap letter'):\n",
        "    x, y = re.findall(r'([a-z]) with letter ([a-z])', line)[0]\n",
        "    idx_x = pw.index(x)\n",
        "    idx_y = pw.index(y)\n",
        "    pw[idx_x], pw[idx_y] = pw[idx_y], pw[idx_x]\n",
        "  elif re.match(r'rotate [left|right]', line) is not None:\n",
        "    pw = rotate(pw, int(re.findall(r'(\\d)', line)[0]), re.findall(r'(left|right)', line)[0])\n",
        "  elif line.startswith('rotate based'):\n",
        "    x = re.findall(r'letter ([a-z])', line)[0]\n",
        "    idx = pw.index(x)\n",
        "    pw = rotate(pw, 1, 'right')\n",
        "    pw = rotate(pw, idx, 'right')\n",
        "    if idx >= 4:\n",
        "      pw = rotate(pw, 1, 'right')\n",
        "  elif line.startswith('reverse'):\n",
        "    x, y = re.findall(r'(\\d+) through (\\d+)', line)[0]\n",
        "    x, y = int(x), int(y)\n",
        "    pw[x:y+1] = pw[x:y+1][::-1]\n",
        "  elif line.startswith('move'):\n",
        "    x, y = re.findall(r'(\\d+) to position (\\d+)', line)[0]\n",
        "    x, y = int(x), int(y)\n",
        "    pw[x:x+1], pw[y:y] = [], pw[x:x+1]\n",
        "    \n",
        "  return pw\n",
        "\n",
        "def scramble(lines, pw):\n",
        "  for line in lines:\n",
        "    pw = apply_move(line, pw)\n",
        "\n",
        "  return ''.join(pw)\n"
      ],
      "execution_count": 16,
      "outputs": []
    },
    {
      "cell_type": "code",
      "metadata": {
        "id": "cxw_XqfGPIh7",
        "outputId": "89811857-7dcc-450c-d382-921a86fd5eb7",
        "colab": {
          "base_uri": "https://localhost:8080/",
          "height": 34
        }
      },
      "source": [
        "# PART ONE\n",
        "start = list('abcdefgh')\n",
        "ret = scramble(lines, start)\n",
        "print(f'Result of scrambling is {ret}')"
      ],
      "execution_count": 17,
      "outputs": [
        {
          "output_type": "stream",
          "text": [
            "Result of scrambling is hcdefbag\n"
          ],
          "name": "stdout"
        }
      ]
    },
    {
      "cell_type": "code",
      "metadata": {
        "id": "m_NomosgSVsA",
        "outputId": "0ff1d0ce-b5e7-4d34-f1d0-184f9bd74a72",
        "colab": {
          "base_uri": "https://localhost:8080/",
          "height": 34
        }
      },
      "source": [
        "# PART TWO\n",
        "# I'm as lazy as @norvig and decided to go for the brute force way\n",
        "def brute_force(lines, goal):\n",
        "  for p in permutations(goal):\n",
        "    if scramble(lines, list(p)) == goal:\n",
        "      return p\n",
        "\n",
        "goal = 'fbgdceah'\n",
        "ret = brute_force(lines, goal)\n",
        "print(f'Unscrambling \\'fbgdceah\\' gives: {ret}')"
      ],
      "execution_count": 18,
      "outputs": [
        {
          "output_type": "stream",
          "text": [
            "Unscrambling 'fbgdceah' gives: ('f', 'b', 'h', 'a', 'e', 'g', 'd', 'c')\n"
          ],
          "name": "stdout"
        }
      ]
    },
    {
      "cell_type": "code",
      "metadata": {
        "id": "Q0UZtsDXd7ER",
        "outputId": "9086fff3-7086-4c52-987b-3147c031e58d",
        "colab": {
          "base_uri": "https://localhost:8080/",
          "height": 35
        }
      },
      "source": [
        "apply_move('rotate right 3 step', 'abcde')"
      ],
      "execution_count": null,
      "outputs": [
        {
          "output_type": "execute_result",
          "data": {
            "application/vnd.google.colaboratory.intrinsic+json": {
              "type": "string"
            },
            "text/plain": [
              "'cdeab'"
            ]
          },
          "metadata": {
            "tags": []
          },
          "execution_count": 137
        }
      ]
    },
    {
      "cell_type": "code",
      "metadata": {
        "id": "GulBbbENfQXZ",
        "outputId": "7c2150a6-317a-406d-ec45-a3335de521cd",
        "colab": {
          "base_uri": "https://localhost:8080/",
          "height": 35
        }
      },
      "source": [
        "lines[0]"
      ],
      "execution_count": null,
      "outputs": [
        {
          "output_type": "execute_result",
          "data": {
            "application/vnd.google.colaboratory.intrinsic+json": {
              "type": "string"
            },
            "text/plain": [
              "'rotate right 3 steps'"
            ]
          },
          "metadata": {
            "tags": []
          },
          "execution_count": 9
        }
      ]
    },
    {
      "cell_type": "code",
      "metadata": {
        "id": "R-LpecINSSYQ"
      },
      "source": [
        ""
      ],
      "execution_count": null,
      "outputs": []
    }
  ]
}