{
  "nbformat": 4,
  "nbformat_minor": 0,
  "metadata": {
    "colab": {
      "name": "Day_4",
      "provenance": []
    },
    "kernelspec": {
      "name": "python3",
      "display_name": "Python 3"
    }
  },
  "cells": [
    {
      "cell_type": "code",
      "metadata": {
        "id": "O3gB7O2FSjvt",
        "colab_type": "code",
        "colab": {}
      },
      "source": [
        "import urllib.request\n",
        "from collections import Counter\n",
        "\n",
        "# It's day 3\n",
        "day = 4\n",
        "\n",
        "# Load file from url\n",
        "txt = urllib.request.urlopen(f'https://raw.githubusercontent.com/SantoSimone/Advent-of-Code/master/2016/input_files/input{day}.txt').read().decode('utf-8')\n",
        "# Split file into lines\n",
        "lines = txt.split('\\n')[:-1]\n",
        "# Each line is a triangle\n",
        "rooms = [line for line in lines]"
      ],
      "execution_count": 1,
      "outputs": []
    },
    {
      "cell_type": "code",
      "metadata": {
        "id": "rkw-_bejS184",
        "colab_type": "code",
        "colab": {
          "base_uri": "https://localhost:8080/",
          "height": 34
        },
        "outputId": "cc18080a-0abf-4261-cce1-be06ee77ad15"
      },
      "source": [
        "# Parse chars (with dashes), sector id and checksum for each room entry\n",
        "def parse_room(room):\n",
        "  acc, checksum = room.split('[')\n",
        "  checksum = checksum[:-1]\n",
        "  chars = acc.split('-')[:-1]\n",
        "  id = acc.split('-')[-1]\n",
        "  return chars, int(id), checksum\n",
        "\n",
        "def check_room(room):\n",
        "  chars, id, checksum = parse_room(room)\n",
        "  # collections.Counter obj performs exactly what we want\n",
        "  counts = Counter(''.join(chars).replace('-', ''))\n",
        "  # Getting real checksum\n",
        "  real = ''.join([v[0] for v in sorted(counts.items(), key=lambda x: (-x[1], x[0]))][:5])\n",
        "  return id if real == checksum else 0\n",
        "\n",
        "# Run\n",
        "sum = 0\n",
        "for room in rooms:\n",
        "  sum += check_room(room)\n",
        "\n",
        "sum\n"
      ],
      "execution_count": 68,
      "outputs": [
        {
          "output_type": "execute_result",
          "data": {
            "text/plain": [
              "158835"
            ]
          },
          "metadata": {
            "tags": []
          },
          "execution_count": 68
        }
      ]
    },
    {
      "cell_type": "code",
      "metadata": {
        "id": "cmNhNQzQYd0F",
        "colab_type": "code",
        "colab": {
          "base_uri": "https://localhost:8080/",
          "height": 34
        },
        "outputId": "fabecbcb-50fc-404b-b735-910253ba694b"
      },
      "source": [
        "# PART TWO\n",
        "\n",
        "def decrypt(room):\n",
        "  chars, id, checksum = parse_room(room)\n",
        "  ret = ''\n",
        "  for word in chars:\n",
        "    for ch in word:\n",
        "      shift = (ord(ch) - 97 + id) % 26\n",
        "      ret += chr(97 + shift)\n",
        "    ret += ' '\n",
        "\n",
        "  return ret, id\n",
        "\n",
        "for room in rooms:\n",
        "  msg, id = decrypt(room)\n",
        "  if 'north' in msg:\n",
        "    print(id)\n",
        "\n"
      ],
      "execution_count": 85,
      "outputs": [
        {
          "output_type": "stream",
          "text": [
            "993\n"
          ],
          "name": "stdout"
        }
      ]
    },
    {
      "cell_type": "code",
      "metadata": {
        "id": "4Bunxl87rm6_",
        "colab_type": "code",
        "colab": {
          "base_uri": "https://localhost:8080/",
          "height": 35
        },
        "outputId": "c990b0b0-926d-4635-ec16-11b210eef62f"
      },
      "source": [
        "chr(25)"
      ],
      "execution_count": 81,
      "outputs": [
        {
          "output_type": "execute_result",
          "data": {
            "application/vnd.google.colaboratory.intrinsic+json": {
              "type": "string"
            },
            "text/plain": [
              "'\\x19'"
            ]
          },
          "metadata": {
            "tags": []
          },
          "execution_count": 81
        }
      ]
    },
    {
      "cell_type": "code",
      "metadata": {
        "id": "FeX-1sx6sM6X",
        "colab_type": "code",
        "colab": {}
      },
      "source": [
        ""
      ],
      "execution_count": null,
      "outputs": []
    }
  ]
}