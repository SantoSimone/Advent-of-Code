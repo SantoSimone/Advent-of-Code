{
  "nbformat": 4,
  "nbformat_minor": 0,
  "metadata": {
    "colab": {
      "name": "Day_12",
      "provenance": []
    },
    "kernelspec": {
      "name": "python3",
      "display_name": "Python 3"
    }
  },
  "cells": [
    {
      "cell_type": "code",
      "metadata": {
        "id": "sd-QCWGoorkV",
        "colab_type": "code",
        "colab": {}
      },
      "source": [
        "import urllib.request\n",
        "from collections import defaultdict\n",
        "import re\n",
        "import numpy as np\n",
        "\n",
        "# It's day 12\n",
        "day = 12\n",
        "\n",
        "# Load file from url\n",
        "txt = urllib.request.urlopen(f'https://raw.githubusercontent.com/SantoSimone/Advent-of-Code/master/2016/input_files/input{day}.txt').read().decode('utf-8')\n",
        "# Split lines\n",
        "lines = txt.split('\\n')[:-1]\n",
        "lines"
      ],
      "execution_count": null,
      "outputs": []
    },
    {
      "cell_type": "code",
      "metadata": {
        "id": "LKl7Xu09pTTu",
        "colab_type": "code",
        "colab": {}
      },
      "source": [
        "def decrypt(instructions, regs):\n",
        "  # Decrypting password from instructions\n",
        "  i = 0\n",
        "  while i < len(instructions):\n",
        "    splits = instructions[i].split(' ')\n",
        "    i += execute(splits, regs)\n",
        "    \n",
        "  return regs\n",
        "\n",
        "def execute(ex, regs):\n",
        "  # Execution of single instruction -> Returning the offset for next instruction\n",
        "  ret = 1\n",
        "  if ex[0] == 'cpy':\n",
        "    regs[ex[2]] = regs[ex[1]] if ex[1].isalpha() else int(ex[1])\n",
        "  elif ex[0] == 'inc':\n",
        "    regs[ex[1]] += 1\n",
        "  elif ex[0] == 'dec':\n",
        "    regs[ex[1]] -= 1\n",
        "  elif ex[0] == 'jnz':\n",
        "    check = regs[ex[1]] if ex[1].isalpha() else ex[1]\n",
        "    ret = int(ex[2]) if check != 0 else 1\n",
        "  return ret"
      ],
      "execution_count": 60,
      "outputs": []
    },
    {
      "cell_type": "code",
      "metadata": {
        "id": "_zpXvhU7pT3P",
        "colab_type": "code",
        "colab": {
          "base_uri": "https://localhost:8080/",
          "height": 34
        },
        "outputId": "3dfe4866-68d6-4b1e-b3ec-23aebff56a44"
      },
      "source": [
        "# PART ONE\n",
        "regs = {\n",
        "    'a': 0,\n",
        "    'b': 0,\n",
        "    'c': 0,\n",
        "    'd': 0\n",
        "}\n",
        "part_one = decrypt(lines, regs)['a']\n",
        "\n",
        "print(f'Registry a contains: {part_one}')"
      ],
      "execution_count": 65,
      "outputs": [
        {
          "output_type": "stream",
          "text": [
            "Registry a contains: 318009\n"
          ],
          "name": "stdout"
        }
      ]
    },
    {
      "cell_type": "code",
      "metadata": {
        "id": "KfcX4mKXrGMJ",
        "colab_type": "code",
        "colab": {
          "base_uri": "https://localhost:8080/",
          "height": 34
        },
        "outputId": "87c526c6-1a93-4de7-b4cf-e97b74e1de67"
      },
      "source": [
        "# PART TWO\n",
        "regs = {\n",
        "    'a': 0,\n",
        "    'b': 0,\n",
        "    'c': 1,\n",
        "    'd': 0\n",
        "}\n",
        "part_two = decrypt(lines, regs)['a']\n",
        "\n",
        "print(f'Registry a contains: {part_two}')"
      ],
      "execution_count": 64,
      "outputs": [
        {
          "output_type": "stream",
          "text": [
            "Registry a contains: 9227663\n"
          ],
          "name": "stdout"
        }
      ]
    }
  ]
}