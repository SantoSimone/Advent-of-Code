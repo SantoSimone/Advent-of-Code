{
  "nbformat": 4,
  "nbformat_minor": 0,
  "metadata": {
    "colab": {
      "name": "Day_17",
      "provenance": [],
      "toc_visible": true
    },
    "kernelspec": {
      "name": "python3",
      "display_name": "Python 3"
    }
  },
  "cells": [
    {
      "cell_type": "code",
      "metadata": {
        "id": "3tQDr9tch0-k"
      },
      "source": [
        "import urllib.request\n",
        "import re\n",
        "from collections import namedtuple\n",
        "from heapq import heappush, heappop\n",
        "import numpy as np\n",
        "import hashlib\n",
        "\n",
        "# It's day 17\n",
        "day = 17\n",
        "\n",
        "# No input today\n",
        "# Once again, we need a problem solver"
      ],
      "execution_count": 1,
      "outputs": []
    },
    {
      "cell_type": "code",
      "metadata": {
        "id": "4o-wRp-njNj7"
      },
      "source": [
        "def problem_solver(start, f_heuristic, f_moves):\n",
        "  # Heap with next state to be evaluated\n",
        "  heap = [(f_heuristic(start), start)]\n",
        "  # Dicts to keep track of previous state and cost for each state\n",
        "  prev_states = {start: None}\n",
        "  costs = {start: 0}\n",
        "\n",
        "  while heap:\n",
        "    (heur, state) = heappop(heap)\n",
        "    if f_heuristic(state) == 0:\n",
        "      # Goal state, we're done\n",
        "      return state.path\n",
        "    for new_state in f_moves(state):\n",
        "      # Cost is hard-coded to 1 but we could add a cost function to signature\n",
        "      new_cost = costs[state] + 1 \n",
        "      if new_state not in costs:\n",
        "        # Never seen state OR better solution than previous one\n",
        "        heappush(heap, (new_cost + f_heuristic(new_state), new_state))\n",
        "        costs[new_state] = new_cost\n",
        "        prev_states[new_state] = state\n",
        "\n",
        "  return dict(fail=True, front=len(heap), prev=len(prev_states))\n",
        "\n",
        "def heuristic(state):\n",
        "  # Our heuristic will be the distance between here and goal\n",
        "  return abs(state.x - goal['x']) + abs(state.y - goal['y'])\n",
        "\n",
        "def moves(state):\n",
        "  x, y, path = state\n",
        "  legal_moves = legal_move(path)\n",
        "  if legal_moves[0] and 0 <= y - 1 <= 3: yield State(x, y - 1, path + 'U')\n",
        "  if legal_moves[1] and 0 <= y + 1 <= 3: yield State(x, y + 1, path + 'D')\n",
        "  if legal_moves[2] and 0 <= x - 1 <= 3: yield State(x - 1, y, path + 'L')\n",
        "  if legal_moves[3] and 0 <= x + 1 <= 3: yield State(x + 1, y, path + 'R')\n",
        "\n",
        "  \n",
        "def legal_move(path):\n",
        "  # Checkin hashing\n",
        "  code = passcode + path\n",
        "  h = hashlib.md5(code.encode()).hexdigest()[:4]\n",
        "  return [True if x in 'bcdef' else False for x in h]\n",
        "\n",
        "State = namedtuple('State', 'x, y, path')"
      ],
      "execution_count": 6,
      "outputs": []
    },
    {
      "cell_type": "code",
      "metadata": {
        "id": "qr6basvqwM65",
        "outputId": "d8738476-f80a-4396-e6f0-aa9e1f9467a4",
        "colab": {
          "base_uri": "https://localhost:8080/",
          "height": 34
        }
      },
      "source": [
        "# PART ONE\n",
        "passcode = 'bwnlcvfs'\n",
        "goal = {'x': 3, 'y': 3}\n",
        "path = problem_solver(State(0, 0, ''), heuristic, moves)\n",
        "print(f'Fastest path is {path}')"
      ],
      "execution_count": 7,
      "outputs": [
        {
          "output_type": "stream",
          "text": [
            "Fastest path is DDURRLRRDD\n"
          ],
          "name": "stdout"
        }
      ]
    },
    {
      "cell_type": "code",
      "metadata": {
        "id": "g3PyOb8cwfPC",
        "outputId": "da136f30-6069-49de-9b1b-2849b99b4cf3",
        "colab": {
          "base_uri": "https://localhost:8080/",
          "height": 34
        }
      },
      "source": [
        "# PART TWO\n",
        "# Our problem solver needs to change its habits\n",
        "def new_solver(start, f_moves):\n",
        "  # Heap with next state to be evaluated\n",
        "  heap = [start]\n",
        "  ret = 0\n",
        "\n",
        "  while heap:\n",
        "    state = heap.pop()\n",
        "    if state.x == 3 and state.y == 3:\n",
        "      # Goal state, we're done\n",
        "      ret = max(ret, len(state.path))\n",
        "    else:\n",
        "      heap.extend(f_moves(state))\n",
        "  \n",
        "  return ret\n",
        "\n",
        "# Main\n",
        "path = new_solver(State(0, 0, ''), moves)\n",
        "print(f'Longest path is {path}')"
      ],
      "execution_count": 8,
      "outputs": [
        {
          "output_type": "stream",
          "text": [
            "Longest path is 436\n"
          ],
          "name": "stdout"
        }
      ]
    },
    {
      "cell_type": "code",
      "metadata": {
        "id": "b4C27YddK8rP"
      },
      "source": [
        ""
      ],
      "execution_count": null,
      "outputs": []
    }
  ]
}