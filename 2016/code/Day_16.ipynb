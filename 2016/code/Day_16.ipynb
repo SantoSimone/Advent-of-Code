{
  "nbformat": 4,
  "nbformat_minor": 0,
  "metadata": {
    "colab": {
      "name": "Day_16",
      "provenance": []
    },
    "kernelspec": {
      "name": "python3",
      "display_name": "Python 3"
    }
  },
  "cells": [
    {
      "cell_type": "code",
      "metadata": {
        "id": "I5Luje-UoOtS",
        "colab_type": "code",
        "colab": {}
      },
      "source": [
        "import urllib.request\n",
        "import re\n",
        "import copy\n",
        "import numpy as np\n",
        "\n",
        "# It's day 16\n",
        "day = 16\n",
        "\n",
        "# No web input today"
      ],
      "execution_count": 14,
      "outputs": []
    },
    {
      "cell_type": "code",
      "metadata": {
        "id": "y_1EGOosoWpY",
        "colab_type": "code",
        "colab": {}
      },
      "source": [
        "def produce_data(data, L):\n",
        "  while len(data) < L:\n",
        "    b = copy.deepcopy(data)\n",
        "    b = b[::-1]\n",
        "    b = b.replace('0', '_').replace('1', '0').replace('_', '1')\n",
        "    data += '0' + b\n",
        "  return data\n",
        "\n",
        "def checksum(data):\n",
        "  ret = ''\n",
        "  for i in range(0, len(data), 2):\n",
        "    ret += '1' if data[i] == data[i+1] else '0'\n",
        "  return ret\n",
        "\n",
        "def result(start, L):\n",
        "  data = produce_data(start, L)\n",
        "  check = checksum(data[:L])\n",
        "  while (len(check) % 2) == 0:\n",
        "    check = checksum(check)\n",
        "\n",
        "  return check"
      ],
      "execution_count": 15,
      "outputs": []
    },
    {
      "cell_type": "code",
      "metadata": {
        "id": "u9RsEFyGtmin",
        "colab_type": "code",
        "colab": {}
      },
      "source": [
        "# PART ONE\n",
        "# My inputs\n",
        "start = '01110110101001000'\n",
        "L = 272\n",
        "check = result(start, L)\n",
        "print(f'Checksum of my input is: {check}')"
      ],
      "execution_count": null,
      "outputs": []
    },
    {
      "cell_type": "code",
      "metadata": {
        "id": "AZh_MurYomWv",
        "colab_type": "code",
        "colab": {}
      },
      "source": [
        "# PART TWO\n",
        "# Just a little longer computation i guess\n",
        "L = 35651584\n",
        "check = result(start, L)\n",
        "print(f'Checksum of my input is: {check}')"
      ],
      "execution_count": null,
      "outputs": []
    },
    {
      "cell_type": "code",
      "metadata": {
        "id": "4FYcRn1OonZu",
        "colab_type": "code",
        "colab": {}
      },
      "source": [
        ""
      ],
      "execution_count": null,
      "outputs": []
    }
  ]
}