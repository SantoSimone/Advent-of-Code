{
  "nbformat": 4,
  "nbformat_minor": 0,
  "metadata": {
    "colab": {
      "name": "Day_22",
      "provenance": [],
      "collapsed_sections": []
    },
    "kernelspec": {
      "name": "python3",
      "display_name": "Python 3"
    }
  },
  "cells": [
    {
      "cell_type": "code",
      "metadata": {
        "id": "SjLjVhiFk-tI"
      },
      "source": [
        "import numpy as np\n",
        "import urllib.request\n",
        "import re\n",
        "from itertools import permutations, product\n",
        "from collections import namedtuple\n",
        "from heapq import heappop, heappush\n",
        "\n",
        "# It's day 22\n",
        "day = 22\n",
        "\n",
        "# Load file from url\n",
        "txt = urllib.request.urlopen(f'https://raw.githubusercontent.com/SantoSimone/Advent-of-Code/master/2016/input_files/input{day}.txt').read().decode('utf-8')\n",
        "lines = txt.split('\\n')[:-1]"
      ],
      "execution_count": 132,
      "outputs": []
    },
    {
      "cell_type": "code",
      "metadata": {
        "id": "lYmRfoT2lCBP"
      },
      "source": [
        "def parse_int(line):\n",
        "  return [int(x) for x in re.findall(r'\\d+', line)]\n",
        "\n",
        "def viable_pair(a, b):\n",
        "  return a != b and 0 < a.used <= b.avail\n",
        "\n",
        "Node = namedtuple('Node', 'x, y, size, used, avail, perc')"
      ],
      "execution_count": 133,
      "outputs": []
    },
    {
      "cell_type": "code",
      "metadata": {
        "id": "Zf1S6lI8Ay22",
        "outputId": "3f5df6a1-b67e-489e-ca3b-5c574b23489c",
        "colab": {
          "base_uri": "https://localhost:8080/",
          "height": 34
        }
      },
      "source": [
        "# PART ONE\n",
        "grid = [Node(*parse_int(line)) for line in lines if line.startswith('/dev')]\n",
        "count = sum([viable_pair(a, b) for a, b in permutations(grid, 2)])\n",
        "print(f'Viable pairs of my input are {count}')"
      ],
      "execution_count": 134,
      "outputs": [
        {
          "output_type": "stream",
          "text": [
            "Viable pairs of my input are 1034\n"
          ],
          "name": "stdout"
        }
      ]
    },
    {
      "cell_type": "code",
      "metadata": {
        "id": "bJy1unLUJbER"
      },
      "source": [
        "# GUESS WHO'S BACK\n",
        "State = namedtuple('State', 'goalpos, emptypos')\n",
        "\n",
        "def problem_solver(start, f_heuristic, f_moves):\n",
        "  # Heap with next state to be evaluated\n",
        "  heap = [(f_heuristic(start), start)]\n",
        "  # Dicts to keep track of previous state and cost for each state\n",
        "  prev_states = {start: None}\n",
        "  costs = {start: 0}\n",
        "\n",
        "  while heap:\n",
        "    (heur, state) = heappop(heap)\n",
        "    if f_heuristic(state) == 0:\n",
        "      # Goal state, we're done\n",
        "      return step(prev_states, state)\n",
        "    for new_state in f_moves(state):\n",
        "      # Cost is hard-coded to 1 but we could add a cost function to signature\n",
        "      new_cost = costs[state] + 1 \n",
        "      if new_state not in costs or new_cost < costs[new_state]:\n",
        "        # Never seen state OR better solution than previous one\n",
        "        heappush(heap, (new_cost + f_heuristic(new_state), new_state))\n",
        "        costs[new_state] = new_cost\n",
        "        prev_states[new_state] = state\n",
        "\n",
        "  return dict(fail=True, front=len(heap), prev=len(prev_states))\n",
        "\n",
        "def heuristic(state):\n",
        "  # Our heuristic is the city-distance between datagoal position of this state and (0,0)\n",
        "  return sum(state.goalpos)\n",
        "\n",
        "def moves(state):\n",
        "  # Possible moves from this state\n",
        "  (x, y), (x_empty, y_empty) = state\n",
        "  for x2, y2 in list(product([x_empty], [y_empty-1, y_empty+1])) + list(product([x_empty-1, x_empty+1], [y_empty])):\n",
        "    if 0 <= x2 <= x_max and 0 <= y2 <= y_max and legal_move(grid[x2, y2], grid[empty]):\n",
        "      newgoal = (x_empty, y_empty) if x2 == x and y2 == y else (x, y)\n",
        "      yield State(newgoal, (x2, y2))\n",
        "\n",
        "def emptypos(grid):\n",
        "  for node in grid.items():\n",
        "    if node[1].used == 0:\n",
        "      return node[1].x, node[1].y\n",
        "\n",
        "def legal_move(a, b):\n",
        "  return True if a.used <= b.size else False\n",
        "\n",
        "def step(prev, state):\n",
        "  return 0 if state is None else 1 + step(prev, prev[state])"
      ],
      "execution_count": 135,
      "outputs": []
    },
    {
      "cell_type": "code",
      "metadata": {
        "id": "O8zLrjLBRa33",
        "outputId": "1a8f068b-dd11-4c19-ca79-476b31ebd9b6",
        "colab": {
          "base_uri": "https://localhost:8080/",
          "height": 34
        }
      },
      "source": [
        "# We restructure the grid to ease notation to problem solver\n",
        "grid = {(node.x, node.y): node for node in grid}\n",
        "x_max = max(node[1].x for node in grid.items())\n",
        "y_max = max(node[1].y for node in grid.items())\n",
        "empty = emptypos(grid)\n",
        "ret = problem_solver(State((x_max, 0), empty), heuristic, moves)\n",
        "print(f'Fewest number of steps required is {ret - 1}')"
      ],
      "execution_count": 137,
      "outputs": [
        {
          "output_type": "stream",
          "text": [
            "Fewest number of steps required is 261\n"
          ],
          "name": "stdout"
        }
      ]
    }
  ]
}