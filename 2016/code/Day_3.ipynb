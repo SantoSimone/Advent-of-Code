{
  "nbformat": 4,
  "nbformat_minor": 0,
  "metadata": {
    "colab": {
      "name": "Day_3",
      "provenance": []
    },
    "kernelspec": {
      "name": "python3",
      "display_name": "Python 3"
    }
  },
  "cells": [
    {
      "cell_type": "code",
      "metadata": {
        "id": "NbPWfTOK6YU_",
        "colab_type": "code",
        "colab": {}
      },
      "source": [
        "import urllib.request\n",
        "import re\n",
        "\n",
        "# It's day 3\n",
        "day = 3\n",
        "\n",
        "# Load file from url\n",
        "txt = urllib.request.urlopen(f'https://raw.githubusercontent.com/SantoSimone/Advent-of-Code/master/2016/input_files/input{day}.txt').read().decode('utf-8')\n",
        "# Split file into lines\n",
        "lines = txt.split('\\n')[:-1]\n",
        "# Each line is a triangle\n",
        "step = [line.split(' ') for line in lines]\n",
        "# Filtering out empty splits\n",
        "triangles = []\n",
        "for i in range(len(step)):\n",
        "  tr = []\n",
        "  for el in step[i]:\n",
        "    if el:\n",
        "      tr.append(int(el))\n",
        "  triangles.append(tr)"
      ],
      "execution_count": 100,
      "outputs": []
    },
    {
      "cell_type": "code",
      "metadata": {
        "id": "eL89htseG7nQ",
        "colab_type": "code",
        "colab": {
          "base_uri": "https://localhost:8080/",
          "height": 34
        },
        "outputId": "0c138534-f409-499a-e2bb-362bb259d146"
      },
      "source": [
        "# PART ONE\n",
        "\n",
        "def check_triangle(tr):\n",
        "  x, y, z = sorted(tr)\n",
        "  # Returns True if valid False otherwise\n",
        "  return z < x + y\n",
        "\n",
        "sum(map(check_triangle, triangles))\n"
      ],
      "execution_count": 106,
      "outputs": [
        {
          "output_type": "execute_result",
          "data": {
            "text/plain": [
              "917"
            ]
          },
          "metadata": {
            "tags": []
          },
          "execution_count": 106
        }
      ]
    },
    {
      "cell_type": "code",
      "metadata": {
        "id": "TzDYsPFRO8wl",
        "colab_type": "code",
        "colab": {
          "base_uri": "https://localhost:8080/",
          "height": 34
        },
        "outputId": "6f39325c-585b-48df-f9f6-0e1b32c08bbb"
      },
      "source": [
        "# PART TWO\n",
        "\n",
        "new_triangles = []\n",
        "for i in range(0, len(triangles), 3):\n",
        "  [new_triangles.append(tr) for tr in list(zip(triangles[i], triangles[i+1], triangles[i+2]))]\n",
        "\n",
        "sum(map(check_triangle, new_triangles))"
      ],
      "execution_count": 115,
      "outputs": [
        {
          "output_type": "execute_result",
          "data": {
            "text/plain": [
              "1649"
            ]
          },
          "metadata": {
            "tags": []
          },
          "execution_count": 115
        }
      ]
    },
    {
      "cell_type": "code",
      "metadata": {
        "id": "K8ohXaDzQQGk",
        "colab_type": "code",
        "colab": {}
      },
      "source": [
        ""
      ],
      "execution_count": null,
      "outputs": []
    }
  ]
}