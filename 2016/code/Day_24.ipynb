{
  "nbformat": 4,
  "nbformat_minor": 0,
  "metadata": {
    "colab": {
      "name": "Day_24",
      "provenance": []
    },
    "kernelspec": {
      "name": "python3",
      "display_name": "Python 3"
    }
  },
  "cells": [
    {
      "cell_type": "code",
      "metadata": {
        "id": "zS-9vbqIBYz7"
      },
      "source": [
        "import urllib.request\n",
        "from collections import defaultdict, namedtuple\n",
        "from itertools import chain\n",
        "import re\n",
        "import numpy as np\n",
        "from heapq import heappop, heappush\n",
        "\n",
        "# It's day 24\n",
        "day = 24\n",
        "\n",
        "# Load file from url\n",
        "txt = urllib.request.urlopen(f'https://raw.githubusercontent.com/SantoSimone/Advent-of-Code/master/2016/input_files/input{day}.txt').read().decode('utf-8')\n",
        "# Split lines\n",
        "lines = txt.splitlines()"
      ],
      "execution_count": 29,
      "outputs": []
    },
    {
      "cell_type": "code",
      "metadata": {
        "id": "cYfjViKRBjC8"
      },
      "source": [
        "# Authors are addicted to this\n",
        "# Maybe i should go for a single notebook next time\n",
        "\n",
        "def problem_solver(start, f_heuristic, f_moves):\n",
        "  # Heap with next state to be evaluated\n",
        "  heap = [(f_heuristic(start), start)]\n",
        "  # Dicts to keep track of previous state and cost for each state\n",
        "  prev_states = {start: None}\n",
        "  costs = {start: 0}\n",
        "\n",
        "  while heap:\n",
        "    (heur, state) = heappop(heap)\n",
        "    if f_heuristic(state) == 0:\n",
        "      # Goal state, we're done\n",
        "      return step(prev_states, state)\n",
        "    for new_state in f_moves(state):\n",
        "      # Cost is hard-coded to 1 but we could add a cost function to signature\n",
        "      new_cost = costs[state] + 1 \n",
        "      if new_state not in costs or new_cost < costs[new_state]:\n",
        "        # Never seen state OR better solution than previous one\n",
        "        heappush(heap, (new_cost + f_heuristic(new_state), new_state))\n",
        "        costs[new_state] = new_cost\n",
        "        prev_states[new_state] = state\n",
        "\n",
        "  return dict(fail=True, front=len(heap), prev=len(prev_states))\n",
        "\n",
        "def step(prev, state):\n",
        "  return ([] if state is None else step(prev, prev[state]) + [state])\n",
        "\n",
        "def heuristic(state):\n",
        "  # Calculating how many more moves we need to finish (heuristic obviously)\n",
        "  return goal - len(state.collected)\n",
        "\n",
        "def moves(state):\n",
        "  # Possible moves from actual state\n",
        "  x, y, collected = state\n",
        "  \n",
        "  for x2, y2 in neighbors(x, y):\n",
        "    if legal_move(x2, y2):\n",
        "      yield State(x2, y2, fs(*(chain(collected, lines[y2][x2])))) if lines[y2][x2].isdigit() and lines[y2][x2] not in collected else State(x2, y2, fs(*collected))\n",
        "\n",
        "def neighbors(x, y):\n",
        "  return (x+1, y), (x-1, y), (x, y+1), (x, y-1)\n",
        "\n",
        "def legal_move(x, y):\n",
        "  return 0 <= x < len(lines[0]) and 0 <= y < len(lines) and lines[y][x] != '#'\n",
        "\n",
        "def obj_to_move(objs):\n",
        "  for x in chain(combinations(objs, 1), combinations(objs, 2)):\n",
        "    yield frozenset(x)\n",
        "\n",
        "def get_start():\n",
        "  for y, line in enumerate(lines):\n",
        "    for x, ch in enumerate(line):\n",
        "      if ch == '0':\n",
        "        return x, y\n",
        "\n",
        "def fs(*items): return frozenset(items)\n",
        "\n",
        "# SETUP\n",
        "State = namedtuple('State', 'x, y, collected')\n",
        "goal = sum(x.isdigit() for line in lines for x in line)\n",
        "start = get_start()"
      ],
      "execution_count": 35,
      "outputs": []
    },
    {
      "cell_type": "code",
      "metadata": {
        "id": "grj6ToXjC_xL"
      },
      "source": [
        "# PART ONE\n",
        "path = problem_solver(State(start[0], start[1], fs('0')), heuristic, moves)\n",
        "\n",
        "print(f'Number of steps needed is {len(path) -1}')"
      ],
      "execution_count": null,
      "outputs": []
    },
    {
      "cell_type": "code",
      "metadata": {
        "id": "U8SZGarzFYmr"
      },
      "source": [
        "# PART TWO\n",
        "# We need to redefine the heuristic to get into account to return to position 0\n",
        "def heuristic(state):\n",
        "  # Calculating how many more moves we need to finish (heuristic obviously)\n",
        "  nums = goal - len(state.collected)\n",
        "  dist = abs(state.x - start[0]) + abs(state.y - start[1])\n",
        "  return nums + dist\n",
        "\n",
        "path = problem_solver(State(start[0], start[1], fs('0')), heuristic, moves)\n",
        "\n",
        "print(f'Number of steps needed is {len(path) -1}')"
      ],
      "execution_count": null,
      "outputs": []
    },
    {
      "cell_type": "code",
      "metadata": {
        "id": "MSUj2L_BL2PG"
      },
      "source": [
        ""
      ],
      "execution_count": null,
      "outputs": []
    }
  ]
}