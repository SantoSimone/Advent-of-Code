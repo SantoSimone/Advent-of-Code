{
  "nbformat": 4,
  "nbformat_minor": 0,
  "metadata": {
    "colab": {
      "name": "Day_23",
      "provenance": [],
      "collapsed_sections": []
    },
    "kernelspec": {
      "name": "python3",
      "display_name": "Python 3"
    }
  },
  "cells": [
    {
      "cell_type": "code",
      "metadata": {
        "id": "wpfm9nj0gkp8"
      },
      "source": [
        "import urllib.request\n",
        "from collections import defaultdict\n",
        "import re\n",
        "import numpy as np\n",
        "\n",
        "# It's day 23\n",
        "day = 23\n",
        "\n",
        "# Load file from url\n",
        "txt = urllib.request.urlopen(f'https://raw.githubusercontent.com/SantoSimone/Advent-of-Code/master/2016/input_files/input{day}.txt').read().decode('utf-8')"
      ],
      "execution_count": 1,
      "outputs": []
    },
    {
      "cell_type": "code",
      "metadata": {
        "id": "NimnoCJshGiF"
      },
      "source": [
        "# This long journey into AoC taught me that i wrote ugly code on day 12 so i will refactor a bit\n",
        "def decrypt(regs):\n",
        "  # Decrypting password from instructions\n",
        "  i = 0\n",
        "  while 0 <= i < len(lines):\n",
        "    inst = lines[i]\n",
        "    i += 1\n",
        "    op, x, y = inst[0], inst[1], inst[-1]\n",
        "    if op == 'cpy' and y in regs:\n",
        "      regs[y] = regs[x] if x in regs else x\n",
        "    elif op == 'inc':\n",
        "      regs[x] += 1\n",
        "    elif op == 'dec':\n",
        "      regs[x] -= 1\n",
        "    elif op == 'jnz':\n",
        "      check = regs[x] if x in regs else x\n",
        "      move = regs[y] if y in regs else y\n",
        "      i += move - 1 if check != 0 else 0\n",
        "    elif op == 'tgl':\n",
        "      pos = regs[x] if x in regs else x\n",
        "      exec_tgl(i + pos - 1)\n",
        "\n",
        "  return regs\n",
        "\n",
        "def exec_tgl(pos):\n",
        "  if 0 <= pos < len(lines):  \n",
        "    if lines[pos][0] == 'inc':\n",
        "      lines[pos][0] = 'dec'\n",
        "    elif len(lines[pos]) == 2:\n",
        "      lines[pos][0] = 'inc'\n",
        "    elif lines[pos][0] == 'jnz':\n",
        "      lines[pos][0] = 'cpy'\n",
        "    else:\n",
        "      lines[pos][0] = 'jnz'\n",
        "  "
      ],
      "execution_count": 2,
      "outputs": []
    },
    {
      "cell_type": "code",
      "metadata": {
        "id": "P5uSV-2lhIkG"
      },
      "source": [
        "# PART ONE\n",
        "regs = {\n",
        "    'a': 7,\n",
        "    'b': 0,\n",
        "    'c': 0,\n",
        "    'd': 0\n",
        "}\n",
        "\n",
        "lines = [[x if x.isalpha() else int(x) for x in line.split()] for line in txt.splitlines()]\n",
        "part_one = decrypt(regs)['a']\n",
        "\n",
        "print(f'Registry a contains: {part_one}')"
      ],
      "execution_count": null,
      "outputs": []
    },
    {
      "cell_type": "code",
      "metadata": {
        "id": "bHHhjWdYuEyp"
      },
      "source": [
        "# PART TWO\n",
        "# Pretty slow, but i hate assembly coding, so i won't waste time trying to understand\n",
        "# how to do a multiplication\n",
        "# PART ONE\n",
        "regs = {\n",
        "    'a': 12,\n",
        "    'b': 0,\n",
        "    'c': 0,\n",
        "    'd': 0\n",
        "}\n",
        "\n",
        "lines = [[x if x.isalpha() else int(x) for x in line.split()] for line in txt.splitlines()]\n",
        "part_one = decrypt(regs)['a']\n",
        "\n",
        "print(f'Registry a contains: {part_one}')"
      ],
      "execution_count": null,
      "outputs": []
    }
  ]
}