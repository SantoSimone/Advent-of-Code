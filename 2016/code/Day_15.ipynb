{
  "nbformat": 4,
  "nbformat_minor": 0,
  "metadata": {
    "colab": {
      "name": "Day_15",
      "provenance": [],
      "collapsed_sections": []
    },
    "kernelspec": {
      "name": "python3",
      "display_name": "Python 3"
    }
  },
  "cells": [
    {
      "cell_type": "code",
      "metadata": {
        "id": "Rj6U3M0CuUi0",
        "colab_type": "code",
        "colab": {}
      },
      "source": [
        "import urllib.request\n",
        "import re\n",
        "import numpy as np\n",
        "\n",
        "# It's day 15\n",
        "day = 15\n",
        "\n",
        "# Load file from url\n",
        "txt = urllib.request.urlopen(f'https://raw.githubusercontent.com/SantoSimone/Advent-of-Code/master/2016/input_files/input{day}.txt').read().decode('utf-8')\n",
        "# Split lines\n",
        "lines = txt.split('\\n')[:-1]\n",
        "lines\n"
      ],
      "execution_count": null,
      "outputs": []
    },
    {
      "cell_type": "code",
      "metadata": {
        "id": "j2ajp-KY7T1x",
        "colab_type": "code",
        "colab": {}
      },
      "source": [
        "def starting_discs():\n",
        "  # Each disc has a pos and a total number of positions\n",
        "  return [(int(x[0]), int(x[1]), int(x[2])) for x in re.findall(r'#(\\d+) .+ (\\d+) positions.+position (\\d+)', txt)]\n",
        "\n",
        "def button_pushed(time, discs):\n",
        "  for pos, tot, start in discs:\n",
        "    if ((start + pos + time) % tot) != 0:\n",
        "      return False\n",
        "  return True"
      ],
      "execution_count": 102,
      "outputs": []
    },
    {
      "cell_type": "code",
      "metadata": {
        "id": "o7artry09Tdd",
        "colab_type": "code",
        "colab": {}
      },
      "source": [
        "# PART ONE\n",
        "time = 0\n",
        "ret = False\n",
        "\n",
        "while not ret:\n",
        "  discs = starting_discs()\n",
        "  ret = button_pushed(time, discs) \n",
        "  time += 1\n",
        "\n",
        "# We updated time even if we found our solution -> time - 1\n",
        "print(f'I got my capsule at time: {time - 1}')"
      ],
      "execution_count": null,
      "outputs": []
    },
    {
      "cell_type": "code",
      "metadata": {
        "id": "pVicLed9_Lxs",
        "colab_type": "code",
        "colab": {}
      },
      "source": [
        "# PART TWO\n",
        "# I will add the new input hard-coded not to waste my precious time\n",
        "time = 0\n",
        "ret = False\n",
        "\n",
        "while not ret:\n",
        "  discs = starting_discs()\n",
        "  discs.append((7, 11, 0)) # Here's the change\n",
        "  ret = button_pushed(time, discs) \n",
        "  time += 1\n",
        "\n",
        "# We updated time even if we found our solution -> time - 1\n",
        "print(f'I got my capsule at time: {time - 1}')"
      ],
      "execution_count": null,
      "outputs": []
    }
  ]
}