{
  "nbformat": 4,
  "nbformat_minor": 0,
  "metadata": {
    "colab": {
      "name": "Day_19",
      "provenance": []
    },
    "kernelspec": {
      "name": "python3",
      "display_name": "Python 3"
    }
  },
  "cells": [
    {
      "cell_type": "code",
      "metadata": {
        "id": "2dQ6vmSNceiL"
      },
      "source": [
        "import numpy as np\n",
        "import urllib.request\n",
        "\n",
        "# It's day 19\n",
        "day = 19\n",
        "\n",
        "# No input from web today\n",
        "# Today @norvig decided to teach me something: his solution is definitely good!\n",
        "# I'm going to copy his solution and learn from that intuition!"
      ],
      "execution_count": 1,
      "outputs": []
    },
    {
      "cell_type": "code",
      "metadata": {
        "id": "cuj9RLqTdOCj"
      },
      "source": [
        "def winner(elves):\n",
        "  # If we have one element, he's the winner, otherwise we increase the distance\n",
        "  # between 2 elves with presents (increasing distance means we double the range)\n",
        "  return (elves[0] if (len(elves) == 1) else winner(one_round(elves)))\n",
        "\n",
        "def one_round(elves): \n",
        "  # If number of elves is even we skip odd numbers (elf 1-3-5.. get their presents stolen)\n",
        "  # If the number is odd we have the same pattern, beside last one that steals from first\n",
        "  return (elves[0::2] if (len(elves) % 2 == 0) else elves[2::2])\n"
      ],
      "execution_count": 50,
      "outputs": []
    },
    {
      "cell_type": "code",
      "metadata": {
        "id": "_izSE9SQdUrE",
        "outputId": "3117f510-ce1d-4cd7-f6e9-1f36b704b308",
        "colab": {
          "base_uri": "https://localhost:8080/",
          "height": 34
        }
      },
      "source": [
        "# PART ONE\n",
        "elves = 3014603\n",
        "ret = winner(range(1, elves + 1))\n",
        "print(f'The winner is number {ret}')"
      ],
      "execution_count": 51,
      "outputs": [
        {
          "output_type": "execute_result",
          "data": {
            "text/plain": [
              "1834903"
            ]
          },
          "metadata": {
            "tags": []
          },
          "execution_count": 51
        }
      ]
    },
    {
      "cell_type": "code",
      "metadata": {
        "id": "JmTdThPjd3_b",
        "outputId": "2e63b959-2c06-4765-efa4-ef29dc7838c7",
        "colab": {
          "base_uri": "https://localhost:8080/",
          "height": 34
        }
      },
      "source": [
        "# We need to redefine the round\n",
        "def one_round(elves):\n",
        "  N = len(elves)\n",
        "  # We need to skip the ones eliminated so we keep track of how many they are\n",
        "  eliminated = 0\n",
        "  for i in range(int(np.ceil(N / 3))):\n",
        "    across = i + eliminated + (N // 2)\n",
        "    elves[across] = None\n",
        "    N -= 1\n",
        "    eliminated += 1\n",
        "  return list(filter(None, elves[i+1:] + elves[:i+1]))\n",
        "\n",
        "# PART TWO\n",
        "elves = 3014603\n",
        "winner(list(range(1, elves + 1)))"
      ],
      "execution_count": 54,
      "outputs": [
        {
          "output_type": "execute_result",
          "data": {
            "text/plain": [
              "1420280"
            ]
          },
          "metadata": {
            "tags": []
          },
          "execution_count": 54
        }
      ]
    },
    {
      "cell_type": "code",
      "metadata": {
        "id": "KO57ZYLud8ar",
        "outputId": "7f89bc1d-4390-44ee-993d-f4593acb06b3",
        "colab": {
          "base_uri": "https://localhost:8080/",
          "height": 34
        }
      },
      "source": [
        "sum([1 if p > 0 else 0 for p in presents])\n"
      ],
      "execution_count": 41,
      "outputs": [
        {
          "output_type": "execute_result",
          "data": {
            "text/plain": [
              "3014603"
            ]
          },
          "metadata": {
            "tags": []
          },
          "execution_count": 41
        }
      ]
    },
    {
      "cell_type": "code",
      "metadata": {
        "id": "csOuvseCeTjD",
        "outputId": "75bcf23c-4ed9-459d-a2f1-5a78d8eef879",
        "colab": {
          "base_uri": "https://localhost:8080/",
          "height": 34
        }
      },
      "source": [
        "val = arr.pop(3)\n",
        "arr[:5]"
      ],
      "execution_count": 15,
      "outputs": [
        {
          "output_type": "execute_result",
          "data": {
            "text/plain": [
              "[1.0, 1.0, 5, 10, 1.0]"
            ]
          },
          "metadata": {
            "tags": []
          },
          "execution_count": 15
        }
      ]
    },
    {
      "cell_type": "code",
      "metadata": {
        "id": "v9OZijU2eWeb",
        "outputId": "feb2f545-e1ac-404b-9cdc-9742fdcdbc2e",
        "colab": {
          "base_uri": "https://localhost:8080/",
          "height": 34
        }
      },
      "source": [
        "val"
      ],
      "execution_count": 16,
      "outputs": [
        {
          "output_type": "execute_result",
          "data": {
            "text/plain": [
              "12"
            ]
          },
          "metadata": {
            "tags": []
          },
          "execution_count": 16
        }
      ]
    },
    {
      "cell_type": "code",
      "metadata": {
        "id": "P8OGhLcZee5r"
      },
      "source": [
        ""
      ],
      "execution_count": null,
      "outputs": []
    }
  ]
}