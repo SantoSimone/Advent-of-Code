{
  "nbformat": 4,
  "nbformat_minor": 0,
  "metadata": {
    "colab": {
      "name": "Day_6",
      "provenance": []
    },
    "kernelspec": {
      "name": "python3",
      "display_name": "Python 3"
    }
  },
  "cells": [
    {
      "cell_type": "code",
      "metadata": {
        "id": "vwbHT4T9-MTm",
        "colab_type": "code",
        "colab": {
          "base_uri": "https://localhost:8080/",
          "height": 34
        },
        "outputId": "13fb6459-1449-498c-e4e6-d65dee11edb0"
      },
      "source": [
        "import urllib.request\n",
        "from collections import Counter\n",
        "\n",
        "# It's day 6\n",
        "day = 6\n",
        "\n",
        "# Load file from url\n",
        "txt = urllib.request.urlopen(f'https://raw.githubusercontent.com/SantoSimone/Advent-of-Code/master/2016/input_files/input{day}.txt').read().decode('utf-8')\n",
        "# Split file into lines\n",
        "lines = txt.split('\\n')[:-1]\n",
        "\n",
        "# PART ONE\n",
        "positions = list(zip(*lines))\n",
        "\n",
        "counters = [Counter(pos) for pos in positions]\n",
        "\n",
        "# getting top 1 occurence\n",
        "msg = ''.join([count.most_common(1)[0][0] for count in counters])\n",
        "\n",
        "print(msg)\n"
      ],
      "execution_count": 24,
      "outputs": [
        {
          "output_type": "stream",
          "text": [
            "xdkzukcf\n"
          ],
          "name": "stdout"
        }
      ]
    },
    {
      "cell_type": "code",
      "metadata": {
        "id": "NUtlPmDe-zpu",
        "colab_type": "code",
        "colab": {
          "base_uri": "https://localhost:8080/",
          "height": 34
        },
        "outputId": "f3d02cc0-1e55-4071-bd17-1318c7b854ea"
      },
      "source": [
        "# PART TWO\n",
        "# getting all occurences sorted, then getting the last\n",
        "msg = ''.join([count.most_common()[-1][0] for count in counters])\n",
        "\n",
        "print(msg)"
      ],
      "execution_count": 26,
      "outputs": [
        {
          "output_type": "stream",
          "text": [
            "cevsgyvd\n"
          ],
          "name": "stdout"
        }
      ]
    },
    {
      "cell_type": "code",
      "metadata": {
        "id": "rf1P4YtA-8cj",
        "colab_type": "code",
        "colab": {}
      },
      "source": [
        ""
      ],
      "execution_count": null,
      "outputs": []
    }
  ]
}