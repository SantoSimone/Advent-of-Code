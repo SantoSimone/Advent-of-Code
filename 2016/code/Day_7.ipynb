{
  "nbformat": 4,
  "nbformat_minor": 0,
  "metadata": {
    "colab": {
      "name": "Day_7",
      "provenance": []
    },
    "kernelspec": {
      "name": "python3",
      "display_name": "Python 3"
    }
  },
  "cells": [
    {
      "cell_type": "code",
      "metadata": {
        "id": "NPJBWp9X2sV4",
        "colab_type": "code",
        "colab": {}
      },
      "source": [
        "import urllib.request\n",
        "from collections import Counter\n",
        "\n",
        "# It's day 7\n",
        "day = 7\n",
        "\n",
        "# Load file from url\n",
        "txt = urllib.request.urlopen(f'https://raw.githubusercontent.com/SantoSimone/Advent-of-Code/master/2016/input_files/input{day}.txt').read().decode('utf-8')\n",
        "# Split file into lines\n",
        "lines = txt.split('\\n')[:-1]\n"
      ],
      "execution_count": null,
      "outputs": []
    },
    {
      "cell_type": "code",
      "metadata": {
        "id": "7TZVUBy_5FYl",
        "colab_type": "code",
        "colab": {
          "base_uri": "https://localhost:8080/",
          "height": 34
        },
        "outputId": "7948ad9b-0a2a-49e1-f3cf-c03181177985"
      },
      "source": [
        "# PART ONE\n",
        "def check_pair(c, rest):\n",
        "  if '[' in rest or ']' in rest or len(rest) != 3 or c == rest[0]:\n",
        "    return 0\n",
        "  \n",
        "  str_1 = c + str(rest[0])\n",
        "  str_2 = str(rest[2]) + str(rest[1])\n",
        "\n",
        "  if str_1 == str_2:\n",
        "    return 1\n",
        "  return 0\n",
        "\n",
        "def support_TLS(line):\n",
        "  line = list(line)\n",
        "  valid = 0\n",
        "  bracket = False\n",
        "  for i in range(len(line)):\n",
        "    if line[i] == '[':\n",
        "      bracket = True\n",
        "      continue\n",
        "    if line[i] == ']':\n",
        "      bracket = False\n",
        "      continue\n",
        "    \n",
        "    if bracket:\n",
        "      if check_pair(line[i], line[i+1:i+4]):\n",
        "        return 0\n",
        "    else:\n",
        "      valid += check_pair(line[i], line[i+1:i+4])\n",
        "  \n",
        "  return 1 if valid > 0 else 0\n",
        "\n",
        "# Run\n",
        "sum = 0\n",
        "for line in lines:\n",
        "  sum += support_TLS(line)\n",
        "print(f'TLS complaint IPs: {sum}')\n"
      ],
      "execution_count": 28,
      "outputs": [
        {
          "output_type": "stream",
          "text": [
            "TLS complaint IPs: 105\n"
          ],
          "name": "stdout"
        }
      ]
    },
    {
      "cell_type": "code",
      "metadata": {
        "id": "8Tw-jCYt_Nh0",
        "colab_type": "code",
        "colab": {
          "base_uri": "https://localhost:8080/",
          "height": 34
        },
        "outputId": "dc5c5c32-144d-488c-b732-39861b3601be"
      },
      "source": [
        "# PART TWO\n",
        "def check_aba(c, rest):\n",
        "  if '[' in rest or len(rest) != 2 or c == rest[0]:\n",
        "    return ''\n",
        "\n",
        "  if c == rest[1]:\n",
        "    return c + ''.join(rest)\n",
        "  return ''\n",
        "\n",
        "def check_bab(c, rest):\n",
        "  if ']' in rest or len(rest) != 2 or c == rest[0]:\n",
        "    return ''\n",
        "\n",
        "  if rest[0] + c + rest[0] and c == rest[1]:\n",
        "    return rest[0] + c + rest[0]\n",
        "\n",
        "def support_SSL(line):\n",
        "  line = list(line)\n",
        "  aba = []\n",
        "  bab = []\n",
        "  bracket = False\n",
        "  for i in range(len(line)):\n",
        "    if line[i] == '[':\n",
        "      bracket = True\n",
        "      continue\n",
        "    if line[i] == ']':\n",
        "      bracket = False\n",
        "      continue\n",
        "    \n",
        "    if bracket:\n",
        "      ret = check_bab(line[i], line[i+1:i+3])\n",
        "      if ret != '':\n",
        "        bab.append(ret)\n",
        "    else:\n",
        "      ret = check_aba(line[i], line[i+1:i+3])\n",
        "      if ret != '':\n",
        "        aba.append(ret)\n",
        "  \n",
        "  for valid in aba:\n",
        "    if valid in bab:\n",
        "      return 1\n",
        "  return 0\n",
        "\n",
        "# Run\n",
        "sum = 0\n",
        "for line in lines:\n",
        "  if support_SSL(line):\n",
        "    sum += 1\n",
        "print(f'SSL complaint IPs: {sum}')"
      ],
      "execution_count": 36,
      "outputs": [
        {
          "output_type": "stream",
          "text": [
            "SSL complaint IPs: 258\n"
          ],
          "name": "stdout"
        }
      ]
    },
    {
      "cell_type": "code",
      "metadata": {
        "id": "7lEUz4ypCgV_",
        "colab_type": "code",
        "colab": {}
      },
      "source": [
        ""
      ],
      "execution_count": null,
      "outputs": []
    }
  ]
}